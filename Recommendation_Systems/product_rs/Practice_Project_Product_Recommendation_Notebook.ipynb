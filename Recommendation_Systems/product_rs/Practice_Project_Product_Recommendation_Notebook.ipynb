{
 "cells": [
  {
   "cell_type": "markdown",
   "metadata": {
    "id": "Cf3GloRNvOOG"
   },
   "source": [
    "# Recommendation Systems: Amazon Product Reviews\n",
    "\n",
    "## **Marks: 40**\n",
    "\n",
    "__________\n",
    "\n",
    "Welcome to the Practice Project on Recommendation Systems. We will work with the Amazon product reviews dataset for this project. The dataset contains ratings of different electronic products. It does not include information about the products or reviews to avoid bias while building the model. \n",
    "\n",
    "--------------\n",
    "### Context: \n",
    "--------------\n",
    "\n",
    "E-commerce websites like Amazon, Flipkart uses different recommendation models to provide personalized suggestions to different users. Amazon currently uses item-to-item collaborative filtering, which scales to massive data sets and produces high-quality recommendations in real-time.\n",
    "\n",
    "----------------\n",
    "### Objective:\n",
    "----------------\n",
    "\n",
    "Build a recommendation system to recommend products to customers based on their previous ratings for other products.\n",
    "\n",
    "--------------\n",
    "### Dataset:\n",
    "--------------\n",
    "\n",
    "The Amazon dataset contains the following attributes:\n",
    "\n",
    "- **userId:** Every user identified with a unique id\n",
    "- **productId:** Every product identified with a unique id\n",
    "- **Rating:** Rating of the corresponding product by the corresponding user\n",
    "- **timestamp:** Time of the rating (ignore this column for this exercise)"
   ]
  },
  {
   "cell_type": "code",
   "execution_count": 1,
   "metadata": {
    "colab": {
     "base_uri": "https://localhost:8080/"
    },
    "executionInfo": {
     "elapsed": 25227,
     "status": "ok",
     "timestamp": 1647183607572,
     "user": {
      "displayName": "Adunife Kizito Okoye",
      "photoUrl": "https://lh3.googleusercontent.com/a/default-user=s64",
      "userId": "17796381864439381022"
     },
     "user_tz": 240
    },
    "id": "FYrMMOH6sm8f",
    "outputId": "bd02f860-1265-4adc-b659-cbe50b46826e"
   },
   "outputs": [
    {
     "name": "stdout",
     "output_type": "stream",
     "text": [
      "Mounted at /content/drive\n"
     ]
    }
   ],
   "source": [
    "# uncomment if you are using google colab\n",
    "\n",
    "from google.colab import drive\n",
    "drive.mount('/content/drive')"
   ]
  },
  {
   "cell_type": "markdown",
   "metadata": {
    "id": "9hczXgBkvOOG"
   },
   "source": [
    "### Importing Libraries\n",
    "#### One of the first steps in any data science task is importing the necessary tools you will use."
   ]
  },
  {
   "cell_type": "code",
   "execution_count": 2,
   "metadata": {
    "colab": {
     "base_uri": "https://localhost:8080/"
    },
    "executionInfo": {
     "elapsed": 37953,
     "status": "ok",
     "timestamp": 1647183645521,
     "user": {
      "displayName": "Adunife Kizito Okoye",
      "photoUrl": "https://lh3.googleusercontent.com/a/default-user=s64",
      "userId": "17796381864439381022"
     },
     "user_tz": 240
    },
    "id": "ECBEhnHVROlR",
    "outputId": "9a8ab208-fbe5-4a23-b0b1-eefd83c9338e"
   },
   "outputs": [
    {
     "name": "stdout",
     "output_type": "stream",
     "text": [
      "Collecting surprise\n",
      "  Downloading surprise-0.1-py2.py3-none-any.whl (1.8 kB)\n",
      "Collecting scikit-surprise\n",
      "  Downloading scikit-surprise-1.1.1.tar.gz (11.8 MB)\n",
      "\u001b[K     |████████████████████████████████| 11.8 MB 8.4 MB/s \n",
      "\u001b[?25hRequirement already satisfied: joblib>=0.11 in /usr/local/lib/python3.7/dist-packages (from scikit-surprise->surprise) (1.1.0)\n",
      "Requirement already satisfied: numpy>=1.11.2 in /usr/local/lib/python3.7/dist-packages (from scikit-surprise->surprise) (1.21.5)\n",
      "Requirement already satisfied: scipy>=1.0.0 in /usr/local/lib/python3.7/dist-packages (from scikit-surprise->surprise) (1.4.1)\n",
      "Requirement already satisfied: six>=1.10.0 in /usr/local/lib/python3.7/dist-packages (from scikit-surprise->surprise) (1.15.0)\n",
      "Building wheels for collected packages: scikit-surprise\n",
      "  Building wheel for scikit-surprise (setup.py) ... \u001b[?25l\u001b[?25hdone\n",
      "  Created wheel for scikit-surprise: filename=scikit_surprise-1.1.1-cp37-cp37m-linux_x86_64.whl size=1630185 sha256=fcbd1986c9dacf3c2e7d28a0398868c931fc0af9397f06c58a6fdf73982bc2ca\n",
      "  Stored in directory: /root/.cache/pip/wheels/76/44/74/b498c42be47b2406bd27994e16c5188e337c657025ab400c1c\n",
      "Successfully built scikit-surprise\n",
      "Installing collected packages: scikit-surprise, surprise\n",
      "Successfully installed scikit-surprise-1.1.1 surprise-0.1\n"
     ]
    }
   ],
   "source": [
    "# installing surprise library, only do it for first time\n",
    "!pip install surprise"
   ]
  },
  {
   "cell_type": "code",
   "execution_count": 3,
   "metadata": {
    "executionInfo": {
     "elapsed": 1227,
     "status": "ok",
     "timestamp": 1647183646744,
     "user": {
      "displayName": "Adunife Kizito Okoye",
      "photoUrl": "https://lh3.googleusercontent.com/a/default-user=s64",
      "userId": "17796381864439381022"
     },
     "user_tz": 240
    },
    "id": "Gem2ozi_vOOG"
   },
   "outputs": [],
   "source": [
    "import warnings\n",
    "warnings.filterwarnings('ignore')\n",
    "\n",
    "import numpy as np\n",
    "import pandas as pd\n",
    "\n",
    "import matplotlib.pyplot as plt\n",
    "import seaborn as sns\n",
    "\n",
    "from surprise import accuracy\n",
    "\n",
    "# class is used to parse a file containing ratings, data should be in structure - user ; item ; rating\n",
    "from surprise.reader import Reader\n",
    "\n",
    "# class for loading datasets\n",
    "from surprise.dataset import Dataset\n",
    "\n",
    "# for model tuning model hyper-parameters\n",
    "from surprise.model_selection import GridSearchCV\n",
    "\n",
    "# for splitting the rating data in train and test dataset\n",
    "from surprise.model_selection import train_test_split\n",
    "\n",
    "# for implementing similarity based recommendation system\n",
    "from surprise.prediction_algorithms.knns import KNNBasic\n",
    "\n",
    "# for implementing matrix factorization based recommendation system\n",
    "from surprise.prediction_algorithms.matrix_factorization import SVD\n",
    "\n",
    "from collections import defaultdict\n",
    "\n",
    "# for implementing cross validation\n",
    "from surprise.model_selection import KFold"
   ]
  },
  {
   "cell_type": "markdown",
   "metadata": {
    "id": "ewHMWerQ2N9T"
   },
   "source": [
    "### Loading the data"
   ]
  },
  {
   "cell_type": "code",
   "execution_count": 4,
   "metadata": {
    "executionInfo": {
     "elapsed": 19178,
     "status": "ok",
     "timestamp": 1647183665920,
     "user": {
      "displayName": "Adunife Kizito Okoye",
      "photoUrl": "https://lh3.googleusercontent.com/a/default-user=s64",
      "userId": "17796381864439381022"
     },
     "user_tz": 240
    },
    "id": "EdQIx3OLvOOG"
   },
   "outputs": [],
   "source": [
    "#col_names = ['user_id', 'item_id', 'rating', 'timestamp']\n",
    "rating = pd.read_csv('/content/drive/MyDrive/6. Recommendation Systems/Practice Project/ratings.csv', names=['user_id', 'item_id', 'rating', 'timestamp'])\n",
    "rating = rating.drop('timestamp', axis=1)"
   ]
  },
  {
   "cell_type": "markdown",
   "metadata": {
    "id": "WAW3gTmB2N9a"
   },
   "source": [
    "Let's check the **info** of the data"
   ]
  },
  {
   "cell_type": "code",
   "execution_count": 5,
   "metadata": {
    "colab": {
     "base_uri": "https://localhost:8080/"
    },
    "executionInfo": {
     "elapsed": 20,
     "status": "ok",
     "timestamp": 1647183665922,
     "user": {
      "displayName": "Adunife Kizito Okoye",
      "photoUrl": "https://lh3.googleusercontent.com/a/default-user=s64",
      "userId": "17796381864439381022"
     },
     "user_tz": 240
    },
    "id": "8zF1K1hDvOOG",
    "outputId": "b6dbb9d6-16fd-462a-b9d8-addf185e7fe4"
   },
   "outputs": [
    {
     "name": "stdout",
     "output_type": "stream",
     "text": [
      "<class 'pandas.core.frame.DataFrame'>\n",
      "RangeIndex: 7824482 entries, 0 to 7824481\n",
      "Data columns (total 3 columns):\n",
      " #   Column   Dtype  \n",
      "---  ------   -----  \n",
      " 0   user_id  object \n",
      " 1   item_id  object \n",
      " 2   rating   float64\n",
      "dtypes: float64(1), object(2)\n",
      "memory usage: 179.1+ MB\n"
     ]
    }
   ],
   "source": [
    "rating.info()"
   ]
  },
  {
   "cell_type": "markdown",
   "metadata": {
    "id": "202Ux9MH2N9f"
   },
   "source": [
    "- There are **7824482 observations** and **4 columns** in the data\n",
    "- The data type of the timestamp column is int64 which is not correct. We can convert this to DateTime format but **we don't need timestamp for our analysis**. Hence, **we can drop this column**"
   ]
  },
  {
   "cell_type": "code",
   "execution_count": 6,
   "metadata": {
    "executionInfo": {
     "elapsed": 16,
     "status": "ok",
     "timestamp": 1647183665922,
     "user": {
      "displayName": "Adunife Kizito Okoye",
      "photoUrl": "https://lh3.googleusercontent.com/a/default-user=s64",
      "userId": "17796381864439381022"
     },
     "user_tz": 240
    },
    "id": "fltadjTcvOOH"
   },
   "outputs": [],
   "source": [
    "#Dropping timestamp column\n",
    "#rating = rating.drop(['timestamp'], axis=1)"
   ]
  },
  {
   "cell_type": "markdown",
   "metadata": {
    "id": "BsXibw2_6Z1S"
   },
   "source": [
    "### **Question 1: Exploring the dataset (7 Marks)**\n",
    "\n",
    "#### Q 1.1 Print the top 5 rows of the dataset (1 Mark)"
   ]
  },
  {
   "cell_type": "code",
   "execution_count": 7,
   "metadata": {
    "colab": {
     "base_uri": "https://localhost:8080/",
     "height": 206
    },
    "executionInfo": {
     "elapsed": 15,
     "status": "ok",
     "timestamp": 1647183665923,
     "user": {
      "displayName": "Adunife Kizito Okoye",
      "photoUrl": "https://lh3.googleusercontent.com/a/default-user=s64",
      "userId": "17796381864439381022"
     },
     "user_tz": 240
    },
    "id": "1Q6gs-IO2N9i",
    "outputId": "23dc434b-b036-47e3-9ab7-756c00c56e56"
   },
   "outputs": [
    {
     "data": {
      "text/html": [
       "\n",
       "  <div id=\"df-75de1b56-50d4-4058-92e1-4f5c21fa03ae\">\n",
       "    <div class=\"colab-df-container\">\n",
       "      <div>\n",
       "<style scoped>\n",
       "    .dataframe tbody tr th:only-of-type {\n",
       "        vertical-align: middle;\n",
       "    }\n",
       "\n",
       "    .dataframe tbody tr th {\n",
       "        vertical-align: top;\n",
       "    }\n",
       "\n",
       "    .dataframe thead th {\n",
       "        text-align: right;\n",
       "    }\n",
       "</style>\n",
       "<table border=\"1\" class=\"dataframe\">\n",
       "  <thead>\n",
       "    <tr style=\"text-align: right;\">\n",
       "      <th></th>\n",
       "      <th>user_id</th>\n",
       "      <th>item_id</th>\n",
       "      <th>rating</th>\n",
       "    </tr>\n",
       "  </thead>\n",
       "  <tbody>\n",
       "    <tr>\n",
       "      <th>0</th>\n",
       "      <td>AKM1MP6P0OYPR</td>\n",
       "      <td>0132793040</td>\n",
       "      <td>5.0</td>\n",
       "    </tr>\n",
       "    <tr>\n",
       "      <th>1</th>\n",
       "      <td>A2CX7LUOHB2NDG</td>\n",
       "      <td>0321732944</td>\n",
       "      <td>5.0</td>\n",
       "    </tr>\n",
       "    <tr>\n",
       "      <th>2</th>\n",
       "      <td>A2NWSAGRHCP8N5</td>\n",
       "      <td>0439886341</td>\n",
       "      <td>1.0</td>\n",
       "    </tr>\n",
       "    <tr>\n",
       "      <th>3</th>\n",
       "      <td>A2WNBOD3WNDNKT</td>\n",
       "      <td>0439886341</td>\n",
       "      <td>3.0</td>\n",
       "    </tr>\n",
       "    <tr>\n",
       "      <th>4</th>\n",
       "      <td>A1GI0U4ZRJA8WN</td>\n",
       "      <td>0439886341</td>\n",
       "      <td>1.0</td>\n",
       "    </tr>\n",
       "  </tbody>\n",
       "</table>\n",
       "</div>\n",
       "      <button class=\"colab-df-convert\" onclick=\"convertToInteractive('df-75de1b56-50d4-4058-92e1-4f5c21fa03ae')\"\n",
       "              title=\"Convert this dataframe to an interactive table.\"\n",
       "              style=\"display:none;\">\n",
       "        \n",
       "  <svg xmlns=\"http://www.w3.org/2000/svg\" height=\"24px\"viewBox=\"0 0 24 24\"\n",
       "       width=\"24px\">\n",
       "    <path d=\"M0 0h24v24H0V0z\" fill=\"none\"/>\n",
       "    <path d=\"M18.56 5.44l.94 2.06.94-2.06 2.06-.94-2.06-.94-.94-2.06-.94 2.06-2.06.94zm-11 1L8.5 8.5l.94-2.06 2.06-.94-2.06-.94L8.5 2.5l-.94 2.06-2.06.94zm10 10l.94 2.06.94-2.06 2.06-.94-2.06-.94-.94-2.06-.94 2.06-2.06.94z\"/><path d=\"M17.41 7.96l-1.37-1.37c-.4-.4-.92-.59-1.43-.59-.52 0-1.04.2-1.43.59L10.3 9.45l-7.72 7.72c-.78.78-.78 2.05 0 2.83L4 21.41c.39.39.9.59 1.41.59.51 0 1.02-.2 1.41-.59l7.78-7.78 2.81-2.81c.8-.78.8-2.07 0-2.86zM5.41 20L4 18.59l7.72-7.72 1.47 1.35L5.41 20z\"/>\n",
       "  </svg>\n",
       "      </button>\n",
       "      \n",
       "  <style>\n",
       "    .colab-df-container {\n",
       "      display:flex;\n",
       "      flex-wrap:wrap;\n",
       "      gap: 12px;\n",
       "    }\n",
       "\n",
       "    .colab-df-convert {\n",
       "      background-color: #E8F0FE;\n",
       "      border: none;\n",
       "      border-radius: 50%;\n",
       "      cursor: pointer;\n",
       "      display: none;\n",
       "      fill: #1967D2;\n",
       "      height: 32px;\n",
       "      padding: 0 0 0 0;\n",
       "      width: 32px;\n",
       "    }\n",
       "\n",
       "    .colab-df-convert:hover {\n",
       "      background-color: #E2EBFA;\n",
       "      box-shadow: 0px 1px 2px rgba(60, 64, 67, 0.3), 0px 1px 3px 1px rgba(60, 64, 67, 0.15);\n",
       "      fill: #174EA6;\n",
       "    }\n",
       "\n",
       "    [theme=dark] .colab-df-convert {\n",
       "      background-color: #3B4455;\n",
       "      fill: #D2E3FC;\n",
       "    }\n",
       "\n",
       "    [theme=dark] .colab-df-convert:hover {\n",
       "      background-color: #434B5C;\n",
       "      box-shadow: 0px 1px 3px 1px rgba(0, 0, 0, 0.15);\n",
       "      filter: drop-shadow(0px 1px 2px rgba(0, 0, 0, 0.3));\n",
       "      fill: #FFFFFF;\n",
       "    }\n",
       "  </style>\n",
       "\n",
       "      <script>\n",
       "        const buttonEl =\n",
       "          document.querySelector('#df-75de1b56-50d4-4058-92e1-4f5c21fa03ae button.colab-df-convert');\n",
       "        buttonEl.style.display =\n",
       "          google.colab.kernel.accessAllowed ? 'block' : 'none';\n",
       "\n",
       "        async function convertToInteractive(key) {\n",
       "          const element = document.querySelector('#df-75de1b56-50d4-4058-92e1-4f5c21fa03ae');\n",
       "          const dataTable =\n",
       "            await google.colab.kernel.invokeFunction('convertToInteractive',\n",
       "                                                     [key], {});\n",
       "          if (!dataTable) return;\n",
       "\n",
       "          const docLinkHtml = 'Like what you see? Visit the ' +\n",
       "            '<a target=\"_blank\" href=https://colab.research.google.com/notebooks/data_table.ipynb>data table notebook</a>'\n",
       "            + ' to learn more about interactive tables.';\n",
       "          element.innerHTML = '';\n",
       "          dataTable['output_type'] = 'display_data';\n",
       "          await google.colab.output.renderOutput(dataTable, element);\n",
       "          const docLink = document.createElement('div');\n",
       "          docLink.innerHTML = docLinkHtml;\n",
       "          element.appendChild(docLink);\n",
       "        }\n",
       "      </script>\n",
       "    </div>\n",
       "  </div>\n",
       "  "
      ],
      "text/plain": [
       "          user_id     item_id  rating\n",
       "0   AKM1MP6P0OYPR  0132793040     5.0\n",
       "1  A2CX7LUOHB2NDG  0321732944     5.0\n",
       "2  A2NWSAGRHCP8N5  0439886341     1.0\n",
       "3  A2WNBOD3WNDNKT  0439886341     3.0\n",
       "4  A1GI0U4ZRJA8WN  0439886341     1.0"
      ]
     },
     "execution_count": 7,
     "metadata": {},
     "output_type": "execute_result"
    }
   ],
   "source": [
    "#printing the top 5 rows of the dataset\n",
    "rating.head()"
   ]
  },
  {
   "cell_type": "markdown",
   "metadata": {
    "id": "RIYnXf076Z1T"
   },
   "source": [
    "#### Q 1.2 Describe the distribution of ratings. (1 Mark)"
   ]
  },
  {
   "cell_type": "code",
   "execution_count": 8,
   "metadata": {
    "colab": {
     "base_uri": "https://localhost:8080/",
     "height": 292
    },
    "executionInfo": {
     "elapsed": 2461,
     "status": "ok",
     "timestamp": 1647183668379,
     "user": {
      "displayName": "Adunife Kizito Okoye",
      "photoUrl": "https://lh3.googleusercontent.com/a/default-user=s64",
      "userId": "17796381864439381022"
     },
     "user_tz": 240
    },
    "id": "gNJzJWjj6Z1T",
    "outputId": "f509ebb4-5fb7-40d5-91b9-979b3d5287f6"
   },
   "outputs": [
    {
     "data": {
      "image/png": "[encoded data removed]",
      "text/plain": [
       "<Figure size 864x288 with 1 Axes>"
      ]
     },
     "metadata": {
      "needs_background": "light"
     },
     "output_type": "display_data"
    }
   ],
   "source": [
    "plt.figure(figsize = (12, 4))\n",
    "sns.countplot(x=\"rating\", data=rating)\n",
    "\n",
    "plt.tick_params(labelsize = 10)\n",
    "plt.title(\"Distribution of Ratings \", fontsize = 10)\n",
    "plt.xlabel(\"Ratings\", fontsize = 10)\n",
    "plt.ylabel(\"Number of Ratings\", fontsize = 10)\n",
    "plt.ticklabel_format(useOffset=False, style='plain', axis='y')\n",
    "plt.show()"
   ]
  },
  {
   "cell_type": "markdown",
   "metadata": {
    "id": "DPq3tw086Z1U"
   },
   "source": [
    "**Write your Answer here:**\n",
    "\n",
    "- About Data -> There 3 Features {User ID, Item ID, & Rating} and 100000 rows in the dataset. There are 7824482 ratings in the dataset.*\n",
    "\n",
    "- As per Histogram, Rating '5' has highest count of ratings (>4000k).Rating '4' being second with 1300K+ and Rating '3' being third in count of ratings with a little over 500K.\n",
    "\n",
    "- The ratings are biased towards 4, & 5 more than 1,2 & 3."
   ]
  },
  {
   "cell_type": "code",
   "execution_count": 9,
   "metadata": {
    "executionInfo": {
     "elapsed": 187,
     "status": "ok",
     "timestamp": 1647183668564,
     "user": {
      "displayName": "Adunife Kizito Okoye",
      "photoUrl": "https://lh3.googleusercontent.com/a/default-user=s64",
      "userId": "17796381864439381022"
     },
     "user_tz": 240
    },
    "id": "_qjF5IUVROlW"
   },
   "outputs": [],
   "source": [
    "df=rating.copy()"
   ]
  },
  {
   "cell_type": "markdown",
   "metadata": {
    "id": "UVmV1esYROlW"
   },
   "source": [
    "**As this dataset is very large and has 7824482 observations, it is not computationally possible to build a model using this.Moreover, there are many users who have only rated a few products and also there are products which are rated by very less users. Hence we can reduce the dataset by considering certain Logical assumption.**\n",
    "\n",
    "Here, We will be taking users who have given at least 50 rating, and the products who has at least 5 rating, as when we shop online we prefer to have some number of rating of a product. "
   ]
  },
  {
   "cell_type": "code",
   "execution_count": 10,
   "metadata": {
    "executionInfo": {
     "elapsed": 9911,
     "status": "ok",
     "timestamp": 1647183678473,
     "user": {
      "displayName": "Adunife Kizito Okoye",
      "photoUrl": "https://lh3.googleusercontent.com/a/default-user=s64",
      "userId": "17796381864439381022"
     },
     "user_tz": 240
    },
    "id": "DW-Ju69NhFXy"
   },
   "outputs": [],
   "source": [
    "# Get the column containing the users\n",
    "users = rating.user_id\n",
    "# Create a dictionary from users to their number of ratings\n",
    "ratings_count = dict()\n",
    "for user in users:\n",
    "    # If we already have the user, just add 1 to their rating count\n",
    "    if user in ratings_count:\n",
    "        ratings_count[user] += 1\n",
    "    # Otherwise, set their rating count to 1\n",
    "    else:\n",
    "        ratings_count[user] = 1    "
   ]
  },
  {
   "cell_type": "code",
   "execution_count": 11,
   "metadata": {
    "executionInfo": {
     "elapsed": 6307,
     "status": "ok",
     "timestamp": 1647183684768,
     "user": {
      "displayName": "Adunife Kizito Okoye",
      "photoUrl": "https://lh3.googleusercontent.com/a/default-user=s64",
      "userId": "17796381864439381022"
     },
     "user_tz": 240
    },
    "id": "zWhzrLu-hFXy"
   },
   "outputs": [],
   "source": [
    "# We want our users to have at least 50 ratings to be considred\n",
    "RATINGS_CUTOFF = 50\n",
    "remove_users = []\n",
    "for user, num_ratings in ratings_count.items():\n",
    "    if num_ratings < RATINGS_CUTOFF:\n",
    "        remove_users.append(user)\n",
    "rating = rating.loc[~rating.user_id.isin(remove_users)]"
   ]
  },
  {
   "cell_type": "code",
   "execution_count": 12,
   "metadata": {
    "colab": {
     "base_uri": "https://localhost:8080/"
    },
    "executionInfo": {
     "elapsed": 15,
     "status": "ok",
     "timestamp": 1647183684769,
     "user": {
      "displayName": "Adunife Kizito Okoye",
      "photoUrl": "https://lh3.googleusercontent.com/a/default-user=s64",
      "userId": "17796381864439381022"
     },
     "user_tz": 240
    },
    "id": "XktiDwuz6Z1U",
    "outputId": "82e41719-3105-4a63-b234-4524ecb06e68"
   },
   "outputs": [
    {
     "data": {
      "text/plain": [
       "(125871, 3)"
      ]
     },
     "execution_count": 12,
     "metadata": {},
     "output_type": "execute_result"
    }
   ],
   "source": [
    "rating.shape"
   ]
  },
  {
   "cell_type": "code",
   "execution_count": 13,
   "metadata": {
    "executionInfo": {
     "elapsed": 183,
     "status": "ok",
     "timestamp": 1647183684940,
     "user": {
      "displayName": "Adunife Kizito Okoye",
      "photoUrl": "https://lh3.googleusercontent.com/a/default-user=s64",
      "userId": "17796381864439381022"
     },
     "user_tz": 240
    },
    "id": "R_q30TRDROlX"
   },
   "outputs": [],
   "source": [
    "# Get the column containing the users\n",
    "users = rating.item_id\n",
    "# Create a dictionary from users to their number of ratings\n",
    "ratings_count = dict()\n",
    "for user in users:\n",
    "    # If we already have the user, just add 1 to their rating count\n",
    "    if user in ratings_count:\n",
    "        ratings_count[user] += 1\n",
    "    # Otherwise, set their rating count to 1\n",
    "    else:\n",
    "        ratings_count[user] = 1    "
   ]
  },
  {
   "cell_type": "code",
   "execution_count": 14,
   "metadata": {
    "executionInfo": {
     "elapsed": 3,
     "status": "ok",
     "timestamp": 1647183684940,
     "user": {
      "displayName": "Adunife Kizito Okoye",
      "photoUrl": "https://lh3.googleusercontent.com/a/default-user=s64",
      "userId": "17796381864439381022"
     },
     "user_tz": 240
    },
    "id": "ZfrKNYv5ROlY"
   },
   "outputs": [],
   "source": [
    "# We want our item to have at least 5 ratings to be considred\n",
    "RATINGS_CUTOFF = 5\n",
    "remove_users = []\n",
    "for user, num_ratings in ratings_count.items():\n",
    "    if num_ratings < RATINGS_CUTOFF:\n",
    "        remove_users.append(user)\n",
    "rating = rating.loc[~rating.item_id.isin(remove_users)]"
   ]
  },
  {
   "cell_type": "code",
   "execution_count": 15,
   "metadata": {
    "colab": {
     "base_uri": "https://localhost:8080/"
    },
    "executionInfo": {
     "elapsed": 165,
     "status": "ok",
     "timestamp": 1647183685103,
     "user": {
      "displayName": "Adunife Kizito Okoye",
      "photoUrl": "https://lh3.googleusercontent.com/a/default-user=s64",
      "userId": "17796381864439381022"
     },
     "user_tz": 240
    },
    "id": "j0IfTeB9ROlY",
    "outputId": "875fba92-876b-49d2-fd83-a2672b7f118c"
   },
   "outputs": [
    {
     "data": {
      "text/plain": [
       "(65290, 3)"
      ]
     },
     "execution_count": 15,
     "metadata": {},
     "output_type": "execute_result"
    }
   ],
   "source": [
    "rating.shape"
   ]
  },
  {
   "cell_type": "markdown",
   "metadata": {
    "id": "UOBD03d9vOOH"
   },
   "source": [
    "#### Q 1.3 What is the total number of unique users and unique items? (1 Mark)"
   ]
  },
  {
   "cell_type": "code",
   "execution_count": 16,
   "metadata": {
    "colab": {
     "base_uri": "https://localhost:8080/"
    },
    "executionInfo": {
     "elapsed": 7,
     "status": "ok",
     "timestamp": 1647183685104,
     "user": {
      "displayName": "Adunife Kizito Okoye",
      "photoUrl": "https://lh3.googleusercontent.com/a/default-user=s64",
      "userId": "17796381864439381022"
     },
     "user_tz": 240
    },
    "id": "RMpbsZGGvOOH",
    "outputId": "34fcf9dc-86c3-4e93-caf9-050eae321fc7"
   },
   "outputs": [
    {
     "data": {
      "text/plain": [
       "1540"
      ]
     },
     "execution_count": 16,
     "metadata": {},
     "output_type": "execute_result"
    }
   ],
   "source": [
    "#Finding number of unique users\n",
    "rating['user_id'].nunique()"
   ]
  },
  {
   "cell_type": "markdown",
   "metadata": {
    "id": "CI8gofnx2N9m"
   },
   "source": [
    "**Write your Answer here:**\n",
    "\n",
    "- There are **1540 users** in the dataset"
   ]
  },
  {
   "cell_type": "code",
   "execution_count": 17,
   "metadata": {
    "colab": {
     "base_uri": "https://localhost:8080/"
    },
    "executionInfo": {
     "elapsed": 5,
     "status": "ok",
     "timestamp": 1647183685104,
     "user": {
      "displayName": "Adunife Kizito Okoye",
      "photoUrl": "https://lh3.googleusercontent.com/a/default-user=s64",
      "userId": "17796381864439381022"
     },
     "user_tz": 240
    },
    "id": "9A6Qmo_6vOOH",
    "outputId": "28fd4463-bb88-404b-997c-72959133dcfd"
   },
   "outputs": [
    {
     "data": {
      "text/plain": [
       "5689"
      ]
     },
     "execution_count": 17,
     "metadata": {},
     "output_type": "execute_result"
    }
   ],
   "source": [
    "#Finding number of unique items\n",
    "rating['item_id'].nunique()"
   ]
  },
  {
   "cell_type": "markdown",
   "metadata": {
    "id": "mDWJghQ62N9o"
   },
   "source": [
    "**Write your Answer here:**\n",
    "\n",
    "- There are **5689 items** in the dataset\n",
    "- As per the number of unique users and items, there is a **possibility of 1540 * 5689 = 8761060\n",
    " ratings** in the dataset. But **we only have 65290 ratings**, i.e. not every user has rated every item in the dataset. And we can build a recommendation system to recommend items to users which they have not interacted with."
   ]
  },
  {
   "cell_type": "markdown",
   "metadata": {
    "id": "mR9tzSzTvOOH"
   },
   "source": [
    "#### Q 1.4 Is there any item that has been interacted with more than once by the same user?"
   ]
  },
  {
   "cell_type": "code",
   "execution_count": 18,
   "metadata": {
    "colab": {
     "base_uri": "https://localhost:8080/",
     "height": 455
    },
    "executionInfo": {
     "elapsed": 195,
     "status": "ok",
     "timestamp": 1647183685452,
     "user": {
      "displayName": "Adunife Kizito Okoye",
      "photoUrl": "https://lh3.googleusercontent.com/a/default-user=s64",
      "userId": "17796381864439381022"
     },
     "user_tz": 240
    },
    "id": "xstEDCVfvOOH",
    "outputId": "c1163047-2ac4-46ba-c139-7ba921349fbc"
   },
   "outputs": [
    {
     "data": {
      "text/html": [
       "\n",
       "  <div id=\"df-b4d4e3d9-c904-49e6-af68-b8d4aa98f733\">\n",
       "    <div class=\"colab-df-container\">\n",
       "      <div>\n",
       "<style scoped>\n",
       "    .dataframe tbody tr th:only-of-type {\n",
       "        vertical-align: middle;\n",
       "    }\n",
       "\n",
       "    .dataframe tbody tr th {\n",
       "        vertical-align: top;\n",
       "    }\n",
       "\n",
       "    .dataframe thead th {\n",
       "        text-align: right;\n",
       "    }\n",
       "</style>\n",
       "<table border=\"1\" class=\"dataframe\">\n",
       "  <thead>\n",
       "    <tr style=\"text-align: right;\">\n",
       "      <th></th>\n",
       "      <th></th>\n",
       "      <th>rating</th>\n",
       "    </tr>\n",
       "    <tr>\n",
       "      <th>user_id</th>\n",
       "      <th>item_id</th>\n",
       "      <th></th>\n",
       "    </tr>\n",
       "  </thead>\n",
       "  <tbody>\n",
       "    <tr>\n",
       "      <th rowspan=\"5\" valign=\"top\">A100UD67AHFODS</th>\n",
       "      <th>B00004Z5M1</th>\n",
       "      <td>1</td>\n",
       "    </tr>\n",
       "    <tr>\n",
       "      <th>B0001D3K8A</th>\n",
       "      <td>1</td>\n",
       "    </tr>\n",
       "    <tr>\n",
       "      <th>B000233WJ6</th>\n",
       "      <td>1</td>\n",
       "    </tr>\n",
       "    <tr>\n",
       "      <th>B0002KVQBA</th>\n",
       "      <td>1</td>\n",
       "    </tr>\n",
       "    <tr>\n",
       "      <th>B0002SQ2P2</th>\n",
       "      <td>1</td>\n",
       "    </tr>\n",
       "    <tr>\n",
       "      <th>...</th>\n",
       "      <th>...</th>\n",
       "      <td>...</td>\n",
       "    </tr>\n",
       "    <tr>\n",
       "      <th rowspan=\"5\" valign=\"top\">AZOK5STV85FBJ</th>\n",
       "      <th>B005PQTYHE</th>\n",
       "      <td>1</td>\n",
       "    </tr>\n",
       "    <tr>\n",
       "      <th>B006MPRFJQ</th>\n",
       "      <td>1</td>\n",
       "    </tr>\n",
       "    <tr>\n",
       "      <th>B00AANMVNQ</th>\n",
       "      <td>1</td>\n",
       "    </tr>\n",
       "    <tr>\n",
       "      <th>B00B25P27S</th>\n",
       "      <td>1</td>\n",
       "    </tr>\n",
       "    <tr>\n",
       "      <th>B00FB2XNCE</th>\n",
       "      <td>1</td>\n",
       "    </tr>\n",
       "  </tbody>\n",
       "</table>\n",
       "<p>65290 rows × 1 columns</p>\n",
       "</div>\n",
       "      <button class=\"colab-df-convert\" onclick=\"convertToInteractive('df-b4d4e3d9-c904-49e6-af68-b8d4aa98f733')\"\n",
       "              title=\"Convert this dataframe to an interactive table.\"\n",
       "              style=\"display:none;\">\n",
       "        \n",
       "  <svg xmlns=\"http://www.w3.org/2000/svg\" height=\"24px\"viewBox=\"0 0 24 24\"\n",
       "       width=\"24px\">\n",
       "    <path d=\"M0 0h24v24H0V0z\" fill=\"none\"/>\n",
       "    <path d=\"M18.56 5.44l.94 2.06.94-2.06 2.06-.94-2.06-.94-.94-2.06-.94 2.06-2.06.94zm-11 1L8.5 8.5l.94-2.06 2.06-.94-2.06-.94L8.5 2.5l-.94 2.06-2.06.94zm10 10l.94 2.06.94-2.06 2.06-.94-2.06-.94-.94-2.06-.94 2.06-2.06.94z\"/><path d=\"M17.41 7.96l-1.37-1.37c-.4-.4-.92-.59-1.43-.59-.52 0-1.04.2-1.43.59L10.3 9.45l-7.72 7.72c-.78.78-.78 2.05 0 2.83L4 21.41c.39.39.9.59 1.41.59.51 0 1.02-.2 1.41-.59l7.78-7.78 2.81-2.81c.8-.78.8-2.07 0-2.86zM5.41 20L4 18.59l7.72-7.72 1.47 1.35L5.41 20z\"/>\n",
       "  </svg>\n",
       "      </button>\n",
       "      \n",
       "  <style>\n",
       "    .colab-df-container {\n",
       "      display:flex;\n",
       "      flex-wrap:wrap;\n",
       "      gap: 12px;\n",
       "    }\n",
       "\n",
       "    .colab-df-convert {\n",
       "      background-color: #E8F0FE;\n",
       "      border: none;\n",
       "      border-radius: 50%;\n",
       "      cursor: pointer;\n",
       "      display: none;\n",
       "      fill: #1967D2;\n",
       "      height: 32px;\n",
       "      padding: 0 0 0 0;\n",
       "      width: 32px;\n",
       "    }\n",
       "\n",
       "    .colab-df-convert:hover {\n",
       "      background-color: #E2EBFA;\n",
       "      box-shadow: 0px 1px 2px rgba(60, 64, 67, 0.3), 0px 1px 3px 1px rgba(60, 64, 67, 0.15);\n",
       "      fill: #174EA6;\n",
       "    }\n",
       "\n",
       "    [theme=dark] .colab-df-convert {\n",
       "      background-color: #3B4455;\n",
       "      fill: #D2E3FC;\n",
       "    }\n",
       "\n",
       "    [theme=dark] .colab-df-convert:hover {\n",
       "      background-color: #434B5C;\n",
       "      box-shadow: 0px 1px 3px 1px rgba(0, 0, 0, 0.15);\n",
       "      filter: drop-shadow(0px 1px 2px rgba(0, 0, 0, 0.3));\n",
       "      fill: #FFFFFF;\n",
       "    }\n",
       "  </style>\n",
       "\n",
       "      <script>\n",
       "        const buttonEl =\n",
       "          document.querySelector('#df-b4d4e3d9-c904-49e6-af68-b8d4aa98f733 button.colab-df-convert');\n",
       "        buttonEl.style.display =\n",
       "          google.colab.kernel.accessAllowed ? 'block' : 'none';\n",
       "\n",
       "        async function convertToInteractive(key) {\n",
       "          const element = document.querySelector('#df-b4d4e3d9-c904-49e6-af68-b8d4aa98f733');\n",
       "          const dataTable =\n",
       "            await google.colab.kernel.invokeFunction('convertToInteractive',\n",
       "                                                     [key], {});\n",
       "          if (!dataTable) return;\n",
       "\n",
       "          const docLinkHtml = 'Like what you see? Visit the ' +\n",
       "            '<a target=\"_blank\" href=https://colab.research.google.com/notebooks/data_table.ipynb>data table notebook</a>'\n",
       "            + ' to learn more about interactive tables.';\n",
       "          element.innerHTML = '';\n",
       "          dataTable['output_type'] = 'display_data';\n",
       "          await google.colab.output.renderOutput(dataTable, element);\n",
       "          const docLink = document.createElement('div');\n",
       "          docLink.innerHTML = docLinkHtml;\n",
       "          element.appendChild(docLink);\n",
       "        }\n",
       "      </script>\n",
       "    </div>\n",
       "  </div>\n",
       "  "
      ],
      "text/plain": [
       "                           rating\n",
       "user_id        item_id           \n",
       "A100UD67AHFODS B00004Z5M1       1\n",
       "               B0001D3K8A       1\n",
       "               B000233WJ6       1\n",
       "               B0002KVQBA       1\n",
       "               B0002SQ2P2       1\n",
       "...                           ...\n",
       "AZOK5STV85FBJ  B005PQTYHE       1\n",
       "               B006MPRFJQ       1\n",
       "               B00AANMVNQ       1\n",
       "               B00B25P27S       1\n",
       "               B00FB2XNCE       1\n",
       "\n",
       "[65290 rows x 1 columns]"
      ]
     },
     "execution_count": 18,
     "metadata": {},
     "output_type": "execute_result"
    }
   ],
   "source": [
    "rating.groupby(['user_id', 'item_id']).count()"
   ]
  },
  {
   "cell_type": "code",
   "execution_count": 19,
   "metadata": {
    "colab": {
     "base_uri": "https://localhost:8080/"
    },
    "executionInfo": {
     "elapsed": 148,
     "status": "ok",
     "timestamp": 1647183685586,
     "user": {
      "displayName": "Adunife Kizito Okoye",
      "photoUrl": "https://lh3.googleusercontent.com/a/default-user=s64",
      "userId": "17796381864439381022"
     },
     "user_tz": 240
    },
    "id": "d1E2i5rZvOOI",
    "outputId": "55d83bed-c727-423c-e474-e26786165432"
   },
   "outputs": [
    {
     "data": {
      "text/plain": [
       "65290"
      ]
     },
     "execution_count": 19,
     "metadata": {},
     "output_type": "execute_result"
    }
   ],
   "source": [
    "rating.groupby(['user_id', 'item_id']).count()['rating'].sum()"
   ]
  },
  {
   "cell_type": "markdown",
   "metadata": {
    "id": "ynCEs7q3vOOI"
   },
   "source": [
    "**Write your Answer here:**\n",
    "\n",
    "- The **sum is equal to the total number of observations** which implies that **there is only interaction between a pair of items and a user**."
   ]
  },
  {
   "cell_type": "markdown",
   "metadata": {
    "id": "JQgjqRnevOOI"
   },
   "source": [
    "#### Q 1.5  Which one is the most interacted item in the dataset?(1 Mark)"
   ]
  },
  {
   "cell_type": "code",
   "execution_count": 20,
   "metadata": {
    "colab": {
     "base_uri": "https://localhost:8080/"
    },
    "executionInfo": {
     "elapsed": 2,
     "status": "ok",
     "timestamp": 1647183685586,
     "user": {
      "displayName": "Adunife Kizito Okoye",
      "photoUrl": "https://lh3.googleusercontent.com/a/default-user=s64",
      "userId": "17796381864439381022"
     },
     "user_tz": 240
    },
    "id": "4LBbXdoDvOOI",
    "outputId": "59b9da53-e8b9-468c-b29e-54dfa6fa8ddd"
   },
   "outputs": [
    {
     "data": {
      "text/plain": [
       "B0088CJT4U    206\n",
       "B003ES5ZUU    184\n",
       "B000N99BBC    167\n",
       "B007WTAJTO    164\n",
       "B00829TIEK    149\n",
       "             ... \n",
       "B00368CDH6      5\n",
       "B0036AZA6A      5\n",
       "B0036E8V08      5\n",
       "B0036QL1JY      5\n",
       "B00LGQ6HL8      5\n",
       "Name: item_id, Length: 5689, dtype: int64"
      ]
     },
     "execution_count": 20,
     "metadata": {},
     "output_type": "execute_result"
    }
   ],
   "source": [
    "rating['item_id'].value_counts()"
   ]
  },
  {
   "cell_type": "markdown",
   "metadata": {
    "id": "PSo-c_XAvOOI"
   },
   "source": [
    "**Write your Answer here:**\n",
    "\n",
    "- The **Item with ItemId: B0088CJT4U has been interacted by most users** which is **206** times.\n",
    "- But still, there is a possibility of 1540-206 = 1334 more interactions as we have 1540 unique users in our datasets. For those 1334 remaining users, we can build a recommendation system to predict who is most likely to interact with the item.\n",
    "\n",
    "Also, out of these 1334 interactions, we need to consider the distribution of ratings as well."
   ]
  },
  {
   "cell_type": "code",
   "execution_count": 21,
   "metadata": {
    "colab": {
     "base_uri": "https://localhost:8080/",
     "height": 447
    },
    "executionInfo": {
     "elapsed": 227,
     "status": "ok",
     "timestamp": 1647183685812,
     "user": {
      "displayName": "Adunife Kizito Okoye",
      "photoUrl": "https://lh3.googleusercontent.com/a/default-user=s64",
      "userId": "17796381864439381022"
     },
     "user_tz": 240
    },
    "id": "fVkc1FK22N9r",
    "outputId": "9e3df05c-cf77-4675-f27b-56c0ad305ad5"
   },
   "outputs": [
    {
     "data": {
      "image/png": "[encoded data removed]",
      "text/plain": [
       "<Figure size 504x504 with 1 Axes>"
      ]
     },
     "metadata": {
      "needs_background": "light"
     },
     "output_type": "display_data"
    }
   ],
   "source": [
    "#Plotting distributions of ratings for 74 interactions with itemid B0088CJT4U\n",
    "plt.figure(figsize=(7,7))\n",
    "\n",
    "rating[rating['item_id'] == 'B0088CJT4U']['rating'].value_counts().plot(kind='bar')\n",
    "\n",
    "plt.xlabel('Rating')\n",
    "\n",
    "plt.ylabel('Count')\n",
    "\n",
    "plt.show()"
   ]
  },
  {
   "cell_type": "markdown",
   "metadata": {
    "id": "0pQn17ro2N9s"
   },
   "source": [
    "**Write your Answer here:**\n",
    "\n",
    "- We can see that **this item has been liked by the majority of users**, as the count of ratings 5 and 4 is higher than the count of other ratings. \n",
    "- There can be items with very high interactions but the count of ratings 1 and 2 may be much higher than 4 or 5 which would imply that the item is disliked by the majority of users."
   ]
  },
  {
   "cell_type": "markdown",
   "metadata": {
    "id": "0kXJ_iTEvOOI"
   },
   "source": [
    "#### Q 1.6 Which user interacted the most with any item in the dataset? (1 Mark)"
   ]
  },
  {
   "cell_type": "code",
   "execution_count": 22,
   "metadata": {
    "colab": {
     "base_uri": "https://localhost:8080/"
    },
    "executionInfo": {
     "elapsed": 13,
     "status": "ok",
     "timestamp": 1647183685815,
     "user": {
      "displayName": "Adunife Kizito Okoye",
      "photoUrl": "https://lh3.googleusercontent.com/a/default-user=s64",
      "userId": "17796381864439381022"
     },
     "user_tz": 240
    },
    "id": "t7ehlMLDvOOI",
    "outputId": "d437711a-09a6-491c-9e6e-5d201242d97b"
   },
   "outputs": [
    {
     "data": {
      "text/plain": [
       "ADLVFFE4VBT8      295\n",
       "A3OXHLG6DIBRW8    230\n",
       "A1ODOGXEYECQQ8    217\n",
       "A36K2N527TXXJN    212\n",
       "A25C2M3QF9G7OQ    203\n",
       "                 ... \n",
       "A16CVJUQOB6GIB      2\n",
       "A2BGZ52M908MJY      2\n",
       "A3DL29NLZ7SXXG      1\n",
       "AP2NZAALUQKF5       1\n",
       "A3MV1KKHX51FYT      1\n",
       "Name: user_id, Length: 1540, dtype: int64"
      ]
     },
     "execution_count": 22,
     "metadata": {},
     "output_type": "execute_result"
    }
   ],
   "source": [
    "rating['user_id'].value_counts()"
   ]
  },
  {
   "cell_type": "markdown",
   "metadata": {
    "id": "W-Sdna2ovOOI"
   },
   "source": [
    "**Write your Answer here:**\n",
    "\n",
    "- The user with **userId: ADLVFFE4VBT8** has interacted with the most number of items i.e. **295** times. \n",
    "- But still, there is a possibility of 5689-295 = 5394 more interactions as we have 5689 unique items in our dataset. For those **5394** remaining items, we can build a recommendation system to predict which items are most likely to be watched by this user."
   ]
  },
  {
   "cell_type": "markdown",
   "metadata": {
    "id": "lHReghdivOOI"
   },
   "source": [
    "#### Q 1.7 What is the distribution of the user-item interactions in this dataset?(1 Mark)"
   ]
  },
  {
   "cell_type": "code",
   "execution_count": 23,
   "metadata": {
    "colab": {
     "base_uri": "https://localhost:8080/"
    },
    "executionInfo": {
     "elapsed": 8,
     "status": "ok",
     "timestamp": 1647183685815,
     "user": {
      "displayName": "Adunife Kizito Okoye",
      "photoUrl": "https://lh3.googleusercontent.com/a/default-user=s64",
      "userId": "17796381864439381022"
     },
     "user_tz": 240
    },
    "id": "0XArWJ7l2N9v",
    "outputId": "73fffa02-89bc-483f-e7d9-fca58e85e43f"
   },
   "outputs": [
    {
     "data": {
      "text/plain": [
       "user_id\n",
       "A100UD67AHFODS     53\n",
       "A100WO06OQR8BQ     77\n",
       "A105S56ODHGJEK     58\n",
       "A105TOJ6LTVMBG     32\n",
       "A10AFVU66A79Y1     47\n",
       "                 ... \n",
       "AZBXKUH4AIW3X      22\n",
       "AZCE11PSTCH1L      23\n",
       "AZMY6E8B52L2T     105\n",
       "AZNUHQSHZHSUE      30\n",
       "AZOK5STV85FBJ      14\n",
       "Name: item_id, Length: 1540, dtype: int64"
      ]
     },
     "execution_count": 23,
     "metadata": {},
     "output_type": "execute_result"
    }
   ],
   "source": [
    "#Finding user-item interactions distribution\n",
    "count_interactions = rating.groupby('user_id').count()['item_id']\n",
    "count_interactions"
   ]
  },
  {
   "cell_type": "code",
   "execution_count": 24,
   "metadata": {
    "colab": {
     "base_uri": "https://localhost:8080/",
     "height": 442
    },
    "executionInfo": {
     "elapsed": 558,
     "status": "ok",
     "timestamp": 1647183686367,
     "user": {
      "displayName": "Adunife Kizito Okoye",
      "photoUrl": "https://lh3.googleusercontent.com/a/default-user=s64",
      "userId": "17796381864439381022"
     },
     "user_tz": 240
    },
    "id": "JoNCRm88vOOI",
    "outputId": "358a9617-0f54-49ce-c522-297c6a254003"
   },
   "outputs": [
    {
     "data": {
      "image/png": "[encoded data removed]",
      "text/plain": [
       "<Figure size 1080x504 with 1 Axes>"
      ]
     },
     "metadata": {
      "needs_background": "light"
     },
     "output_type": "display_data"
    }
   ],
   "source": [
    "#Plotting user-item interactions distribution\n",
    "\n",
    "plt.figure(figsize=(15,7))\n",
    "\n",
    "sns.histplot(count_interactions)\n",
    "\n",
    "plt.xlabel('Number of Interactions by Users')\n",
    "\n",
    "plt.show()"
   ]
  },
  {
   "cell_type": "markdown",
   "metadata": {
    "id": "vmj5nPiN2N9w"
   },
   "source": [
    "**Write your Answer here:**\n",
    "- The distribution is higher skewed to the right. Only a few users interacted with more than 50 items. "
   ]
  },
  {
   "cell_type": "markdown",
   "metadata": {
    "id": "iQF80jaHhFX2"
   },
   "source": [
    "#### As we have now explored the data, let's start building Recommendation systems\n",
    "\n",
    "### **Question 2: Create Rank-Based Recommendation System (3 Marks)**"
   ]
  },
  {
   "cell_type": "markdown",
   "metadata": {
    "id": "CqFN5jDJvOOJ"
   },
   "source": [
    "### Model 1: Rank Based Recommendation System"
   ]
  },
  {
   "cell_type": "markdown",
   "metadata": {
    "id": "W26vIRn1vOOJ"
   },
   "source": [
    "Rank-based recommendation systems provide recommendations based on the most popular items. This kind of recommendation system is useful when we have **cold start** problems. Cold start refers to the issue when we get a new user into the system and the machine is not able to recommend items to the new user, as the user did not have any historical interactions in the dataset. In those cases, we can use rank-based recommendation system to recommend items to the new user."
   ]
  },
  {
   "cell_type": "markdown",
   "metadata": {
    "id": "I3t4uyGlvOOK"
   },
   "source": [
    "To build the rank-based recommendation system, we take **average** of all the ratings provided to each item and then rank them based on their average rating."
   ]
  },
  {
   "cell_type": "code",
   "execution_count": 25,
   "metadata": {
    "executionInfo": {
     "elapsed": 11,
     "status": "ok",
     "timestamp": 1647183686367,
     "user": {
      "displayName": "Adunife Kizito Okoye",
      "photoUrl": "https://lh3.googleusercontent.com/a/default-user=s64",
      "userId": "17796381864439381022"
     },
     "user_tz": 240
    },
    "id": "xuMR3XFIvOOK"
   },
   "outputs": [],
   "source": [
    "#Calculating average ratings\n",
    "average_rating = rating.groupby('item_id').mean()['rating']\n",
    "\n",
    "#Calculating the count of ratings\n",
    "count_rating = rating.groupby('item_id').count()['rating']\n",
    "\n",
    "#Making a dataframe with the count and average of ratings\n",
    "final_rating = pd.DataFrame({'avg_rating':average_rating, 'rating_count':count_rating})"
   ]
  },
  {
   "cell_type": "code",
   "execution_count": 26,
   "metadata": {
    "colab": {
     "base_uri": "https://localhost:8080/",
     "height": 237
    },
    "executionInfo": {
     "elapsed": 10,
     "status": "ok",
     "timestamp": 1647183686367,
     "user": {
      "displayName": "Adunife Kizito Okoye",
      "photoUrl": "https://lh3.googleusercontent.com/a/default-user=s64",
      "userId": "17796381864439381022"
     },
     "user_tz": 240
    },
    "id": "J6NLX6FIvOOK",
    "outputId": "6293de18-dba8-49d2-c159-831fddc125ce"
   },
   "outputs": [
    {
     "data": {
      "text/html": [
       "\n",
       "  <div id=\"df-dbacaff8-a083-4247-be0c-48f0d1e9b3cb\">\n",
       "    <div class=\"colab-df-container\">\n",
       "      <div>\n",
       "<style scoped>\n",
       "    .dataframe tbody tr th:only-of-type {\n",
       "        vertical-align: middle;\n",
       "    }\n",
       "\n",
       "    .dataframe tbody tr th {\n",
       "        vertical-align: top;\n",
       "    }\n",
       "\n",
       "    .dataframe thead th {\n",
       "        text-align: right;\n",
       "    }\n",
       "</style>\n",
       "<table border=\"1\" class=\"dataframe\">\n",
       "  <thead>\n",
       "    <tr style=\"text-align: right;\">\n",
       "      <th></th>\n",
       "      <th>avg_rating</th>\n",
       "      <th>rating_count</th>\n",
       "    </tr>\n",
       "    <tr>\n",
       "      <th>item_id</th>\n",
       "      <th></th>\n",
       "      <th></th>\n",
       "    </tr>\n",
       "  </thead>\n",
       "  <tbody>\n",
       "    <tr>\n",
       "      <th>1400501466</th>\n",
       "      <td>3.333333</td>\n",
       "      <td>6</td>\n",
       "    </tr>\n",
       "    <tr>\n",
       "      <th>1400532655</th>\n",
       "      <td>3.833333</td>\n",
       "      <td>6</td>\n",
       "    </tr>\n",
       "    <tr>\n",
       "      <th>1400599997</th>\n",
       "      <td>4.000000</td>\n",
       "      <td>5</td>\n",
       "    </tr>\n",
       "    <tr>\n",
       "      <th>9983891212</th>\n",
       "      <td>4.875000</td>\n",
       "      <td>8</td>\n",
       "    </tr>\n",
       "    <tr>\n",
       "      <th>B00000DM9W</th>\n",
       "      <td>5.000000</td>\n",
       "      <td>5</td>\n",
       "    </tr>\n",
       "  </tbody>\n",
       "</table>\n",
       "</div>\n",
       "      <button class=\"colab-df-convert\" onclick=\"convertToInteractive('df-dbacaff8-a083-4247-be0c-48f0d1e9b3cb')\"\n",
       "              title=\"Convert this dataframe to an interactive table.\"\n",
       "              style=\"display:none;\">\n",
       "        \n",
       "  <svg xmlns=\"http://www.w3.org/2000/svg\" height=\"24px\"viewBox=\"0 0 24 24\"\n",
       "       width=\"24px\">\n",
       "    <path d=\"M0 0h24v24H0V0z\" fill=\"none\"/>\n",
       "    <path d=\"M18.56 5.44l.94 2.06.94-2.06 2.06-.94-2.06-.94-.94-2.06-.94 2.06-2.06.94zm-11 1L8.5 8.5l.94-2.06 2.06-.94-2.06-.94L8.5 2.5l-.94 2.06-2.06.94zm10 10l.94 2.06.94-2.06 2.06-.94-2.06-.94-.94-2.06-.94 2.06-2.06.94z\"/><path d=\"M17.41 7.96l-1.37-1.37c-.4-.4-.92-.59-1.43-.59-.52 0-1.04.2-1.43.59L10.3 9.45l-7.72 7.72c-.78.78-.78 2.05 0 2.83L4 21.41c.39.39.9.59 1.41.59.51 0 1.02-.2 1.41-.59l7.78-7.78 2.81-2.81c.8-.78.8-2.07 0-2.86zM5.41 20L4 18.59l7.72-7.72 1.47 1.35L5.41 20z\"/>\n",
       "  </svg>\n",
       "      </button>\n",
       "      \n",
       "  <style>\n",
       "    .colab-df-container {\n",
       "      display:flex;\n",
       "      flex-wrap:wrap;\n",
       "      gap: 12px;\n",
       "    }\n",
       "\n",
       "    .colab-df-convert {\n",
       "      background-color: #E8F0FE;\n",
       "      border: none;\n",
       "      border-radius: 50%;\n",
       "      cursor: pointer;\n",
       "      display: none;\n",
       "      fill: #1967D2;\n",
       "      height: 32px;\n",
       "      padding: 0 0 0 0;\n",
       "      width: 32px;\n",
       "    }\n",
       "\n",
       "    .colab-df-convert:hover {\n",
       "      background-color: #E2EBFA;\n",
       "      box-shadow: 0px 1px 2px rgba(60, 64, 67, 0.3), 0px 1px 3px 1px rgba(60, 64, 67, 0.15);\n",
       "      fill: #174EA6;\n",
       "    }\n",
       "\n",
       "    [theme=dark] .colab-df-convert {\n",
       "      background-color: #3B4455;\n",
       "      fill: #D2E3FC;\n",
       "    }\n",
       "\n",
       "    [theme=dark] .colab-df-convert:hover {\n",
       "      background-color: #434B5C;\n",
       "      box-shadow: 0px 1px 3px 1px rgba(0, 0, 0, 0.15);\n",
       "      filter: drop-shadow(0px 1px 2px rgba(0, 0, 0, 0.3));\n",
       "      fill: #FFFFFF;\n",
       "    }\n",
       "  </style>\n",
       "\n",
       "      <script>\n",
       "        const buttonEl =\n",
       "          document.querySelector('#df-dbacaff8-a083-4247-be0c-48f0d1e9b3cb button.colab-df-convert');\n",
       "        buttonEl.style.display =\n",
       "          google.colab.kernel.accessAllowed ? 'block' : 'none';\n",
       "\n",
       "        async function convertToInteractive(key) {\n",
       "          const element = document.querySelector('#df-dbacaff8-a083-4247-be0c-48f0d1e9b3cb');\n",
       "          const dataTable =\n",
       "            await google.colab.kernel.invokeFunction('convertToInteractive',\n",
       "                                                     [key], {});\n",
       "          if (!dataTable) return;\n",
       "\n",
       "          const docLinkHtml = 'Like what you see? Visit the ' +\n",
       "            '<a target=\"_blank\" href=https://colab.research.google.com/notebooks/data_table.ipynb>data table notebook</a>'\n",
       "            + ' to learn more about interactive tables.';\n",
       "          element.innerHTML = '';\n",
       "          dataTable['output_type'] = 'display_data';\n",
       "          await google.colab.output.renderOutput(dataTable, element);\n",
       "          const docLink = document.createElement('div');\n",
       "          docLink.innerHTML = docLinkHtml;\n",
       "          element.appendChild(docLink);\n",
       "        }\n",
       "      </script>\n",
       "    </div>\n",
       "  </div>\n",
       "  "
      ],
      "text/plain": [
       "            avg_rating  rating_count\n",
       "item_id                             \n",
       "1400501466    3.333333             6\n",
       "1400532655    3.833333             6\n",
       "1400599997    4.000000             5\n",
       "9983891212    4.875000             8\n",
       "B00000DM9W    5.000000             5"
      ]
     },
     "execution_count": 26,
     "metadata": {},
     "output_type": "execute_result"
    }
   ],
   "source": [
    "final_rating.head()"
   ]
  },
  {
   "cell_type": "markdown",
   "metadata": {
    "id": "Pv31nHm_2N9y"
   },
   "source": [
    "Now, let's create a function to find the **top n items** for a recommendation based on the average ratings of items. We can also add a **threshold for a minimum number of interactions** for a item to be considered for recommendation. "
   ]
  },
  {
   "cell_type": "code",
   "execution_count": 27,
   "metadata": {
    "executionInfo": {
     "elapsed": 9,
     "status": "ok",
     "timestamp": 1647183686368,
     "user": {
      "displayName": "Adunife Kizito Okoye",
      "photoUrl": "https://lh3.googleusercontent.com/a/default-user=s64",
      "userId": "17796381864439381022"
     },
     "user_tz": 240
    },
    "id": "Fy0SbxnevOOK"
   },
   "outputs": [],
   "source": [
    "def top_n_items(data, n, min_interaction=30):\n",
    "    \n",
    "    #Finding items with minimum number of interactions\n",
    "    recommendations = data[data['rating_count'] > min_interaction]\n",
    "    \n",
    "    #Sorting values w.r.t average rating \n",
    "    recommendations = recommendations.sort_values(by='avg_rating', ascending=False)\n",
    "    \n",
    "    return recommendations.index[:n]"
   ]
  },
  {
   "cell_type": "markdown",
   "metadata": {
    "id": "fi9vhL4Z2N9y"
   },
   "source": [
    "We can **use this function with different n's and minimum interactions** to get items to recommend"
   ]
  },
  {
   "cell_type": "markdown",
   "metadata": {
    "id": "hkz4LlTpvOOK"
   },
   "source": [
    "#### Recommending top 5 items with 50 minimum interactions based on popularity"
   ]
  },
  {
   "cell_type": "code",
   "execution_count": 28,
   "metadata": {
    "colab": {
     "base_uri": "https://localhost:8080/"
    },
    "executionInfo": {
     "elapsed": 8,
     "status": "ok",
     "timestamp": 1647183686368,
     "user": {
      "displayName": "Adunife Kizito Okoye",
      "photoUrl": "https://lh3.googleusercontent.com/a/default-user=s64",
      "userId": "17796381864439381022"
     },
     "user_tz": 240
    },
    "id": "u-JX_ES9vOOK",
    "outputId": "8dc5606d-c8df-49cc-be37-8a88bd80f494"
   },
   "outputs": [
    {
     "data": {
      "text/plain": [
       "['B001TH7GUU', 'B003ES5ZUU', 'B0019EHU8G', 'B006W8U2MU', 'B000QUUFRW']"
      ]
     },
     "execution_count": 28,
     "metadata": {},
     "output_type": "execute_result"
    }
   ],
   "source": [
    "list(top_n_items(final_rating, 5, 50))"
   ]
  },
  {
   "cell_type": "markdown",
   "metadata": {
    "id": "r4vrsunx2N91"
   },
   "source": [
    "#### Now that we have seen how to apply the Rank-Based Recommendation System, let's apply Collaborative Filtering Based Recommendation System"
   ]
  },
  {
   "cell_type": "markdown",
   "metadata": {
    "id": "sJI5kiiGvOOK"
   },
   "source": [
    "### Model 2: Collaborative Filtering Based Recommendation System (7 Marks)"
   ]
  },
  {
   "cell_type": "markdown",
   "metadata": {
    "id": "QoSujZuuvOOK"
   },
   "source": [
    "In this type of recommendation system, `we do not need any information` about the users or items. We only need user item interaction data to build a collaborative recommendation system. For example - \n",
    "<ol>\n",
    "    <li><b>Ratings</b> provided by users. For example - ratings of books on goodread, movie ratings on imdb etc</li>\n",
    "    <li><b>Likes</b> of users on different facebook posts, likes on youtube videos</li>\n",
    "    <li><b>Use/buying</b> of a product by users. For example - buying different items on e-commerce sites</li>\n",
    "    <li><b>Reading</b> of articles by readers on various blogs</li>\n",
    "</ol>"
   ]
  },
  {
   "cell_type": "markdown",
   "metadata": {
    "id": "A_3GtPzuvOOK"
   },
   "source": [
    "#### Types of Collaborative Filtering"
   ]
  },
  {
   "cell_type": "markdown",
   "metadata": {
    "id": "igZX3WbqvOOK"
   },
   "source": [
    "- Similarity/Neighborhood based\n",
    "- Model based"
   ]
  },
  {
   "cell_type": "markdown",
   "metadata": {
    "id": "d4Uo_MYMnVNB"
   },
   "source": [
    "Below we are building similarity based recommendation system using `cosine` similarity and using KNN to find similar users which are nearest neighbor to the given user. "
   ]
  },
  {
   "cell_type": "markdown",
   "metadata": {
    "id": "-_T9DOvVnVNB"
   },
   "source": [
    "We will be using a new library - `surprise` to build the remaining models, let's first import the necessary classes and functions from this library"
   ]
  },
  {
   "cell_type": "markdown",
   "metadata": {
    "id": "8hxjJMTwnVNB"
   },
   "source": [
    "Below we are loading the `rating` dataset, which is a pandas dataframe, into a different format called `surprise.dataset.DatasetAutoFolds` which is required by this library. To do this we will be using the classes `Reader` and `Dataset`"
   ]
  },
  {
   "cell_type": "code",
   "execution_count": 29,
   "metadata": {
    "colab": {
     "base_uri": "https://localhost:8080/",
     "height": 206
    },
    "executionInfo": {
     "elapsed": 163,
     "status": "ok",
     "timestamp": 1647183686526,
     "user": {
      "displayName": "Adunife Kizito Okoye",
      "photoUrl": "https://lh3.googleusercontent.com/a/default-user=s64",
      "userId": "17796381864439381022"
     },
     "user_tz": 240
    },
    "id": "pyh0lKmb6Z1a",
    "outputId": "9b9c6ef5-6014-45c3-d329-84ab62f782ed"
   },
   "outputs": [
    {
     "data": {
      "text/html": [
       "\n",
       "  <div id=\"df-9c466ab1-792b-4f3d-a490-de9c3a304e0c\">\n",
       "    <div class=\"colab-df-container\">\n",
       "      <div>\n",
       "<style scoped>\n",
       "    .dataframe tbody tr th:only-of-type {\n",
       "        vertical-align: middle;\n",
       "    }\n",
       "\n",
       "    .dataframe tbody tr th {\n",
       "        vertical-align: top;\n",
       "    }\n",
       "\n",
       "    .dataframe thead th {\n",
       "        text-align: right;\n",
       "    }\n",
       "</style>\n",
       "<table border=\"1\" class=\"dataframe\">\n",
       "  <thead>\n",
       "    <tr style=\"text-align: right;\">\n",
       "      <th></th>\n",
       "      <th>user_id</th>\n",
       "      <th>item_id</th>\n",
       "      <th>rating</th>\n",
       "    </tr>\n",
       "  </thead>\n",
       "  <tbody>\n",
       "    <tr>\n",
       "      <th>1310</th>\n",
       "      <td>1050</td>\n",
       "      <td>0</td>\n",
       "      <td>5.0</td>\n",
       "    </tr>\n",
       "    <tr>\n",
       "      <th>1322</th>\n",
       "      <td>125</td>\n",
       "      <td>0</td>\n",
       "      <td>1.0</td>\n",
       "    </tr>\n",
       "    <tr>\n",
       "      <th>1335</th>\n",
       "      <td>785</td>\n",
       "      <td>0</td>\n",
       "      <td>3.0</td>\n",
       "    </tr>\n",
       "    <tr>\n",
       "      <th>1451</th>\n",
       "      <td>1495</td>\n",
       "      <td>0</td>\n",
       "      <td>5.0</td>\n",
       "    </tr>\n",
       "    <tr>\n",
       "      <th>1456</th>\n",
       "      <td>164</td>\n",
       "      <td>0</td>\n",
       "      <td>1.0</td>\n",
       "    </tr>\n",
       "  </tbody>\n",
       "</table>\n",
       "</div>\n",
       "      <button class=\"colab-df-convert\" onclick=\"convertToInteractive('df-9c466ab1-792b-4f3d-a490-de9c3a304e0c')\"\n",
       "              title=\"Convert this dataframe to an interactive table.\"\n",
       "              style=\"display:none;\">\n",
       "        \n",
       "  <svg xmlns=\"http://www.w3.org/2000/svg\" height=\"24px\"viewBox=\"0 0 24 24\"\n",
       "       width=\"24px\">\n",
       "    <path d=\"M0 0h24v24H0V0z\" fill=\"none\"/>\n",
       "    <path d=\"M18.56 5.44l.94 2.06.94-2.06 2.06-.94-2.06-.94-.94-2.06-.94 2.06-2.06.94zm-11 1L8.5 8.5l.94-2.06 2.06-.94-2.06-.94L8.5 2.5l-.94 2.06-2.06.94zm10 10l.94 2.06.94-2.06 2.06-.94-2.06-.94-.94-2.06-.94 2.06-2.06.94z\"/><path d=\"M17.41 7.96l-1.37-1.37c-.4-.4-.92-.59-1.43-.59-.52 0-1.04.2-1.43.59L10.3 9.45l-7.72 7.72c-.78.78-.78 2.05 0 2.83L4 21.41c.39.39.9.59 1.41.59.51 0 1.02-.2 1.41-.59l7.78-7.78 2.81-2.81c.8-.78.8-2.07 0-2.86zM5.41 20L4 18.59l7.72-7.72 1.47 1.35L5.41 20z\"/>\n",
       "  </svg>\n",
       "      </button>\n",
       "      \n",
       "  <style>\n",
       "    .colab-df-container {\n",
       "      display:flex;\n",
       "      flex-wrap:wrap;\n",
       "      gap: 12px;\n",
       "    }\n",
       "\n",
       "    .colab-df-convert {\n",
       "      background-color: #E8F0FE;\n",
       "      border: none;\n",
       "      border-radius: 50%;\n",
       "      cursor: pointer;\n",
       "      display: none;\n",
       "      fill: #1967D2;\n",
       "      height: 32px;\n",
       "      padding: 0 0 0 0;\n",
       "      width: 32px;\n",
       "    }\n",
       "\n",
       "    .colab-df-convert:hover {\n",
       "      background-color: #E2EBFA;\n",
       "      box-shadow: 0px 1px 2px rgba(60, 64, 67, 0.3), 0px 1px 3px 1px rgba(60, 64, 67, 0.15);\n",
       "      fill: #174EA6;\n",
       "    }\n",
       "\n",
       "    [theme=dark] .colab-df-convert {\n",
       "      background-color: #3B4455;\n",
       "      fill: #D2E3FC;\n",
       "    }\n",
       "\n",
       "    [theme=dark] .colab-df-convert:hover {\n",
       "      background-color: #434B5C;\n",
       "      box-shadow: 0px 1px 3px 1px rgba(0, 0, 0, 0.15);\n",
       "      filter: drop-shadow(0px 1px 2px rgba(0, 0, 0, 0.3));\n",
       "      fill: #FFFFFF;\n",
       "    }\n",
       "  </style>\n",
       "\n",
       "      <script>\n",
       "        const buttonEl =\n",
       "          document.querySelector('#df-9c466ab1-792b-4f3d-a490-de9c3a304e0c button.colab-df-convert');\n",
       "        buttonEl.style.display =\n",
       "          google.colab.kernel.accessAllowed ? 'block' : 'none';\n",
       "\n",
       "        async function convertToInteractive(key) {\n",
       "          const element = document.querySelector('#df-9c466ab1-792b-4f3d-a490-de9c3a304e0c');\n",
       "          const dataTable =\n",
       "            await google.colab.kernel.invokeFunction('convertToInteractive',\n",
       "                                                     [key], {});\n",
       "          if (!dataTable) return;\n",
       "\n",
       "          const docLinkHtml = 'Like what you see? Visit the ' +\n",
       "            '<a target=\"_blank\" href=https://colab.research.google.com/notebooks/data_table.ipynb>data table notebook</a>'\n",
       "            + ' to learn more about interactive tables.';\n",
       "          element.innerHTML = '';\n",
       "          dataTable['output_type'] = 'display_data';\n",
       "          await google.colab.output.renderOutput(dataTable, element);\n",
       "          const docLink = document.createElement('div');\n",
       "          docLink.innerHTML = docLinkHtml;\n",
       "          element.appendChild(docLink);\n",
       "        }\n",
       "      </script>\n",
       "    </div>\n",
       "  </div>\n",
       "  "
      ],
      "text/plain": [
       "      user_id  item_id  rating\n",
       "1310     1050        0     5.0\n",
       "1322      125        0     1.0\n",
       "1335      785        0     3.0\n",
       "1451     1495        0     5.0\n",
       "1456      164        0     1.0"
      ]
     },
     "execution_count": 29,
     "metadata": {},
     "output_type": "execute_result"
    }
   ],
   "source": [
    "from sklearn.preprocessing import LabelEncoder\n",
    "df=rating[['user_id','item_id']].apply(LabelEncoder().fit_transform)\n",
    "df['rating']=rating['rating']\n",
    "df.head()"
   ]
  },
  {
   "cell_type": "markdown",
   "metadata": {
    "id": "h0RXHOqNROle"
   },
   "source": [
    "#### Making the dataset into surprise dataset and splitting it into train and test set"
   ]
  },
  {
   "cell_type": "code",
   "execution_count": 30,
   "metadata": {
    "executionInfo": {
     "elapsed": 367,
     "status": "ok",
     "timestamp": 1647183686890,
     "user": {
      "displayName": "Adunife Kizito Okoye",
      "photoUrl": "https://lh3.googleusercontent.com/a/default-user=s64",
      "userId": "17796381864439381022"
     },
     "user_tz": 240
    },
    "id": "rGfYDiOCpe4X"
   },
   "outputs": [],
   "source": [
    "# instantiating Reader scale with expected rating scale\n",
    "reader = Reader(rating_scale=(0, 5))\n",
    "\n",
    "# loading the rating dataset\n",
    "data = Dataset.load_from_df(df[['user_id', 'item_id', 'rating']], reader)\n",
    "\n",
    "# splitting the data into train and test dataset\n",
    "trainset, testset = train_test_split(data, test_size=0.7, random_state=42)"
   ]
  },
  {
   "cell_type": "markdown",
   "metadata": {
    "id": "DmHTEt7TnVNC"
   },
   "source": [
    "### Now we are ready to build the first baseline similary based recommendation system using cosine similarity and KNN"
   ]
  },
  {
   "cell_type": "code",
   "execution_count": 31,
   "metadata": {
    "colab": {
     "base_uri": "https://localhost:8080/"
    },
    "executionInfo": {
     "elapsed": 1162,
     "status": "ok",
     "timestamp": 1647183688050,
     "user": {
      "displayName": "Adunife Kizito Okoye",
      "photoUrl": "https://lh3.googleusercontent.com/a/default-user=s64",
      "userId": "17796381864439381022"
     },
     "user_tz": 240
    },
    "id": "vO3FL7iape8A",
    "outputId": "a5fd5572-9461-4a57-a072-bab56bffd99a"
   },
   "outputs": [
    {
     "name": "stdout",
     "output_type": "stream",
     "text": [
      "RMSE: 1.0552\n"
     ]
    },
    {
     "data": {
      "text/plain": [
       "1.0551559636074466"
      ]
     },
     "execution_count": 31,
     "metadata": {},
     "output_type": "execute_result"
    }
   ],
   "source": [
    "sim_options = {'name': 'cosine',\n",
    "               'user_based': True}\n",
    "\n",
    "algo_knn_user = KNNBasic(sim_options=sim_options,verbose=False)\n",
    "\n",
    "# Train the algorithm on the trainset, and predict ratings for the testset\n",
    "algo_knn_user.fit(trainset)\n",
    "predictions = algo_knn_user.test(testset)\n",
    "\n",
    "# Then compute RMSE\n",
    "accuracy.rmse(predictions)"
   ]
  },
  {
   "cell_type": "markdown",
   "metadata": {
    "id": "aa6OHXqE6Z1b"
   },
   "source": [
    "#### Q 3.1 What is the RMSE for baseline user based collaborative filtering recommendation system? (1 Mark)"
   ]
  },
  {
   "cell_type": "markdown",
   "metadata": {
    "id": "yE5kvdZenVNC"
   },
   "source": [
    "**Wite your Answer here:**\n",
    "\n",
    "As we can see from above, these baseline model has `RMSE=1.05` on test set, we will try to improve this number later by using `GridSearchCV` tuning different hyperparameters of this algorithm"
   ]
  },
  {
   "cell_type": "markdown",
   "metadata": {
    "id": "1gfBQGRh6Z1b"
   },
   "source": [
    "#### Q 3.2 What is the Predicted  rating for an user with userId=0 and for itemId= 3906 and itemId=100? (1 Mark)"
   ]
  },
  {
   "cell_type": "markdown",
   "metadata": {
    "id": "reFD0-nsnVNC"
   },
   "source": [
    "Let's us now predict rating for an user with `userId=0` and for `itemId=3906` as shown below"
   ]
  },
  {
   "cell_type": "code",
   "execution_count": 32,
   "metadata": {
    "colab": {
     "base_uri": "https://localhost:8080/"
    },
    "executionInfo": {
     "elapsed": 11,
     "status": "ok",
     "timestamp": 1647183688050,
     "user": {
      "displayName": "Adunife Kizito Okoye",
      "photoUrl": "https://lh3.googleusercontent.com/a/default-user=s64",
      "userId": "17796381864439381022"
     },
     "user_tz": 240
    },
    "id": "Sxd23bZ9pe_x",
    "outputId": "9f7d1e93-8721-475a-9c32-6fa26b9fa415"
   },
   "outputs": [
    {
     "name": "stdout",
     "output_type": "stream",
     "text": [
      "user: 0          item: 3906       r_ui = 4.00   est = 4.29   {'was_impossible': True, 'reason': 'Not enough neighbors.'}\n"
     ]
    },
    {
     "data": {
      "text/plain": [
       "Prediction(uid=0, iid=3906, r_ui=4, est=4.291366722826364, details={'was_impossible': True, 'reason': 'Not enough neighbors.'})"
      ]
     },
     "execution_count": 32,
     "metadata": {},
     "output_type": "execute_result"
    }
   ],
   "source": [
    "algo_knn_user.predict(0,3906, r_ui=4, verbose=True)"
   ]
  },
  {
   "cell_type": "markdown",
   "metadata": {
    "id": "QuVbIR3SnVNE"
   },
   "source": [
    "**Write your Answer here:**\n",
    "\n",
    "As we can see - the actual rating for this user-item pair is 4 and predicted rating is 4.29 by this similarity based baseline model"
   ]
  },
  {
   "cell_type": "markdown",
   "metadata": {
    "id": "EXSgq8OEnVNE"
   },
   "source": [
    "Below we are predicting rating for the same `userId=0` but for a item which this user has not interacted before i.e. `itemId=100`, as shown below - "
   ]
  },
  {
   "cell_type": "code",
   "execution_count": 33,
   "metadata": {
    "colab": {
     "base_uri": "https://localhost:8080/"
    },
    "executionInfo": {
     "elapsed": 7,
     "status": "ok",
     "timestamp": 1647183688051,
     "user": {
      "displayName": "Adunife Kizito Okoye",
      "photoUrl": "https://lh3.googleusercontent.com/a/default-user=s64",
      "userId": "17796381864439381022"
     },
     "user_tz": 240
    },
    "id": "PbFcBj1PpfEV",
    "outputId": "2b5e7741-b520-42b1-b4f7-4d2108464926"
   },
   "outputs": [
    {
     "name": "stdout",
     "output_type": "stream",
     "text": [
      "user: 0          item: 100        r_ui = None   est = 4.00   {'actual_k': 1, 'was_impossible': False}\n"
     ]
    },
    {
     "data": {
      "text/plain": [
       "Prediction(uid=0, iid=100, r_ui=None, est=4.0, details={'actual_k': 1, 'was_impossible': False})"
      ]
     },
     "execution_count": 33,
     "metadata": {},
     "output_type": "execute_result"
    }
   ],
   "source": [
    "algo_knn_user.predict(0,100, verbose=True)"
   ]
  },
  {
   "cell_type": "markdown",
   "metadata": {
    "id": "cm2xqtcQnVNE"
   },
   "source": [
    "**Write your Answer here:**\n",
    "\n",
    "As we can see the estimated rating for this user-item pair is 4.0 based on this similarity based baseline model"
   ]
  },
  {
   "cell_type": "markdown",
   "metadata": {
    "id": "ejjof6csnVNF"
   },
   "source": [
    "### Improving similarity based recommendation system by tuning its hyper-parameters"
   ]
  },
  {
   "cell_type": "markdown",
   "metadata": {
    "id": "x_kxe-_JnVNF"
   },
   "source": [
    "Below we will be tuning hyper-parmeters for the `KNNBasic` algorithms. Let's try to understand different hyperparameters of KNNBasic algorithm - "
   ]
  },
  {
   "cell_type": "markdown",
   "metadata": {
    "id": "p2j4VvfQnVNF"
   },
   "source": [
    "- **k** (int) – The (max) number of neighbors to take into account for aggregation (see this note). Default is 40.\n",
    "- **min_k** (int) – The minimum number of neighbors to take into account for aggregation. If there are not enough neighbors, the prediction is set to the global mean of all ratings. Default is 1.\n",
    "- **sim_options** (dict) – A dictionary of options for the similarity measure. And there are four similarity measures available in surprise - \n",
    "    - cosine\n",
    "    - msd (default)\n",
    "    - pearson\n",
    "    - pearson baseline\n",
    "    \n",
    "For more details please refer the official documentation https://surprise.readthedocs.io/en/stable/knn_inspired.html"
   ]
  },
  {
   "cell_type": "markdown",
   "metadata": {
    "id": "2VSq_9J36Z1c"
   },
   "source": [
    "#### Q 3.3 Perform hyperparameter tuning for the baseline user based collaborative filtering recommendation system and find the RMSE for tuned user based collaborative filtering recommendation system? (3 Marks)"
   ]
  },
  {
   "cell_type": "code",
   "execution_count": 34,
   "metadata": {
    "colab": {
     "base_uri": "https://localhost:8080/"
    },
    "executionInfo": {
     "elapsed": 99406,
     "status": "ok",
     "timestamp": 1647183787452,
     "user": {
      "displayName": "Adunife Kizito Okoye",
      "photoUrl": "https://lh3.googleusercontent.com/a/default-user=s64",
      "userId": "17796381864439381022"
     },
     "user_tz": 240
    },
    "id": "KpGhU15gpfHg",
    "outputId": "a953d88a-e31e-4961-849a-146352c0b671"
   },
   "outputs": [
    {
     "name": "stdout",
     "output_type": "stream",
     "text": [
      "0.9711670239236555\n",
      "{'k': 40, 'min_k': 6, 'sim_options': {'name': 'cosine', 'user_based': True}}\n"
     ]
    }
   ],
   "source": [
    "# setting up parameter grid to tune the hyperparameters\n",
    "param_grid = {'k': [20, 30, 40], 'min_k': [3, 6, 9],\n",
    "              'sim_options': {'name': ['msd', 'cosine'],\n",
    "                              'user_based': [True]}\n",
    "              }\n",
    "\n",
    "# performing 3-fold cross validation to tune the hyperparameters\n",
    "gs = GridSearchCV(KNNBasic, param_grid, measures=['rmse', 'mae'], cv=3, n_jobs=-1)\n",
    "\n",
    "# fitting the data\n",
    "gs.fit(data)\n",
    "\n",
    "# best RMSE score\n",
    "print(gs.best_score['rmse'])\n",
    "\n",
    "# combination of parameters that gave the best RMSE score\n",
    "print(gs.best_params['rmse'])"
   ]
  },
  {
   "cell_type": "markdown",
   "metadata": {
    "id": "L2fHNvu7nVNF"
   },
   "source": [
    "Once the grid search is complete, we can get the optimal values for each of those hyperparameters as shown above"
   ]
  },
  {
   "cell_type": "markdown",
   "metadata": {
    "id": "h_K6yd6XnVNF"
   },
   "source": [
    "Below we are analysing evaluation metrics - RMSE and MAE at each and every split to analyze the impact of each value of hyperparameters"
   ]
  },
  {
   "cell_type": "code",
   "execution_count": 35,
   "metadata": {
    "colab": {
     "base_uri": "https://localhost:8080/",
     "height": 531
    },
    "executionInfo": {
     "elapsed": 16,
     "status": "ok",
     "timestamp": 1647183787453,
     "user": {
      "displayName": "Adunife Kizito Okoye",
      "photoUrl": "https://lh3.googleusercontent.com/a/default-user=s64",
      "userId": "17796381864439381022"
     },
     "user_tz": 240
    },
    "id": "TzJxk_Z4q1A8",
    "outputId": "5b83ef69-4b03-4e58-dfb1-eaa6535f2c0b"
   },
   "outputs": [
    {
     "data": {
      "text/html": [
       "\n",
       "  <div id=\"df-9cdb8fd5-9d7d-4ad1-b04d-ee42252d6514\">\n",
       "    <div class=\"colab-df-container\">\n",
       "      <div>\n",
       "<style scoped>\n",
       "    .dataframe tbody tr th:only-of-type {\n",
       "        vertical-align: middle;\n",
       "    }\n",
       "\n",
       "    .dataframe tbody tr th {\n",
       "        vertical-align: top;\n",
       "    }\n",
       "\n",
       "    .dataframe thead th {\n",
       "        text-align: right;\n",
       "    }\n",
       "</style>\n",
       "<table border=\"1\" class=\"dataframe\">\n",
       "  <thead>\n",
       "    <tr style=\"text-align: right;\">\n",
       "      <th></th>\n",
       "      <th>split0_test_rmse</th>\n",
       "      <th>split1_test_rmse</th>\n",
       "      <th>split2_test_rmse</th>\n",
       "      <th>mean_test_rmse</th>\n",
       "      <th>std_test_rmse</th>\n",
       "      <th>rank_test_rmse</th>\n",
       "      <th>split0_test_mae</th>\n",
       "      <th>split1_test_mae</th>\n",
       "      <th>split2_test_mae</th>\n",
       "      <th>mean_test_mae</th>\n",
       "      <th>std_test_mae</th>\n",
       "      <th>rank_test_mae</th>\n",
       "      <th>mean_fit_time</th>\n",
       "      <th>std_fit_time</th>\n",
       "      <th>mean_test_time</th>\n",
       "      <th>std_test_time</th>\n",
       "      <th>params</th>\n",
       "      <th>param_k</th>\n",
       "      <th>param_min_k</th>\n",
       "      <th>param_sim_options</th>\n",
       "    </tr>\n",
       "  </thead>\n",
       "  <tbody>\n",
       "    <tr>\n",
       "      <th>0</th>\n",
       "      <td>0.968237</td>\n",
       "      <td>0.983175</td>\n",
       "      <td>0.979000</td>\n",
       "      <td>0.976804</td>\n",
       "      <td>0.006293</td>\n",
       "      <td>12</td>\n",
       "      <td>0.722654</td>\n",
       "      <td>0.730938</td>\n",
       "      <td>0.726671</td>\n",
       "      <td>0.726755</td>\n",
       "      <td>0.003382</td>\n",
       "      <td>1</td>\n",
       "      <td>0.222118</td>\n",
       "      <td>0.037213</td>\n",
       "      <td>0.996403</td>\n",
       "      <td>0.014689</td>\n",
       "      <td>{'k': 20, 'min_k': 3, 'sim_options': {'name': ...</td>\n",
       "      <td>20</td>\n",
       "      <td>3</td>\n",
       "      <td>{'name': 'msd', 'user_based': True}</td>\n",
       "    </tr>\n",
       "    <tr>\n",
       "      <th>1</th>\n",
       "      <td>0.965947</td>\n",
       "      <td>0.979877</td>\n",
       "      <td>0.977271</td>\n",
       "      <td>0.974365</td>\n",
       "      <td>0.006047</td>\n",
       "      <td>9</td>\n",
       "      <td>0.726478</td>\n",
       "      <td>0.732950</td>\n",
       "      <td>0.730395</td>\n",
       "      <td>0.729941</td>\n",
       "      <td>0.002662</td>\n",
       "      <td>6</td>\n",
       "      <td>0.681762</td>\n",
       "      <td>0.019892</td>\n",
       "      <td>0.984816</td>\n",
       "      <td>0.024446</td>\n",
       "      <td>{'k': 20, 'min_k': 3, 'sim_options': {'name': ...</td>\n",
       "      <td>20</td>\n",
       "      <td>3</td>\n",
       "      <td>{'name': 'cosine', 'user_based': True}</td>\n",
       "    </tr>\n",
       "    <tr>\n",
       "      <th>2</th>\n",
       "      <td>0.964657</td>\n",
       "      <td>0.976041</td>\n",
       "      <td>0.973396</td>\n",
       "      <td>0.971365</td>\n",
       "      <td>0.004864</td>\n",
       "      <td>5</td>\n",
       "      <td>0.744022</td>\n",
       "      <td>0.746503</td>\n",
       "      <td>0.745758</td>\n",
       "      <td>0.745428</td>\n",
       "      <td>0.001039</td>\n",
       "      <td>7</td>\n",
       "      <td>0.223090</td>\n",
       "      <td>0.005990</td>\n",
       "      <td>1.018406</td>\n",
       "      <td>0.023560</td>\n",
       "      <td>{'k': 20, 'min_k': 6, 'sim_options': {'name': ...</td>\n",
       "      <td>20</td>\n",
       "      <td>6</td>\n",
       "      <td>{'name': 'msd', 'user_based': True}</td>\n",
       "    </tr>\n",
       "    <tr>\n",
       "      <th>3</th>\n",
       "      <td>0.965141</td>\n",
       "      <td>0.975674</td>\n",
       "      <td>0.973422</td>\n",
       "      <td>0.971412</td>\n",
       "      <td>0.004529</td>\n",
       "      <td>6</td>\n",
       "      <td>0.746846</td>\n",
       "      <td>0.748642</td>\n",
       "      <td>0.748907</td>\n",
       "      <td>0.748132</td>\n",
       "      <td>0.000915</td>\n",
       "      <td>12</td>\n",
       "      <td>0.649530</td>\n",
       "      <td>0.024227</td>\n",
       "      <td>0.988240</td>\n",
       "      <td>0.036349</td>\n",
       "      <td>{'k': 20, 'min_k': 6, 'sim_options': {'name': ...</td>\n",
       "      <td>20</td>\n",
       "      <td>6</td>\n",
       "      <td>{'name': 'cosine', 'user_based': True}</td>\n",
       "    </tr>\n",
       "    <tr>\n",
       "      <th>4</th>\n",
       "      <td>0.968431</td>\n",
       "      <td>0.982707</td>\n",
       "      <td>0.980283</td>\n",
       "      <td>0.977140</td>\n",
       "      <td>0.006237</td>\n",
       "      <td>15</td>\n",
       "      <td>0.756786</td>\n",
       "      <td>0.760680</td>\n",
       "      <td>0.759675</td>\n",
       "      <td>0.759047</td>\n",
       "      <td>0.001650</td>\n",
       "      <td>13</td>\n",
       "      <td>0.198463</td>\n",
       "      <td>0.020979</td>\n",
       "      <td>1.022034</td>\n",
       "      <td>0.013489</td>\n",
       "      <td>{'k': 20, 'min_k': 9, 'sim_options': {'name': ...</td>\n",
       "      <td>20</td>\n",
       "      <td>9</td>\n",
       "      <td>{'name': 'msd', 'user_based': True}</td>\n",
       "    </tr>\n",
       "  </tbody>\n",
       "</table>\n",
       "</div>\n",
       "      <button class=\"colab-df-convert\" onclick=\"convertToInteractive('df-9cdb8fd5-9d7d-4ad1-b04d-ee42252d6514')\"\n",
       "              title=\"Convert this dataframe to an interactive table.\"\n",
       "              style=\"display:none;\">\n",
       "        \n",
       "  <svg xmlns=\"http://www.w3.org/2000/svg\" height=\"24px\"viewBox=\"0 0 24 24\"\n",
       "       width=\"24px\">\n",
       "    <path d=\"M0 0h24v24H0V0z\" fill=\"none\"/>\n",
       "    <path d=\"M18.56 5.44l.94 2.06.94-2.06 2.06-.94-2.06-.94-.94-2.06-.94 2.06-2.06.94zm-11 1L8.5 8.5l.94-2.06 2.06-.94-2.06-.94L8.5 2.5l-.94 2.06-2.06.94zm10 10l.94 2.06.94-2.06 2.06-.94-2.06-.94-.94-2.06-.94 2.06-2.06.94z\"/><path d=\"M17.41 7.96l-1.37-1.37c-.4-.4-.92-.59-1.43-.59-.52 0-1.04.2-1.43.59L10.3 9.45l-7.72 7.72c-.78.78-.78 2.05 0 2.83L4 21.41c.39.39.9.59 1.41.59.51 0 1.02-.2 1.41-.59l7.78-7.78 2.81-2.81c.8-.78.8-2.07 0-2.86zM5.41 20L4 18.59l7.72-7.72 1.47 1.35L5.41 20z\"/>\n",
       "  </svg>\n",
       "      </button>\n",
       "      \n",
       "  <style>\n",
       "    .colab-df-container {\n",
       "      display:flex;\n",
       "      flex-wrap:wrap;\n",
       "      gap: 12px;\n",
       "    }\n",
       "\n",
       "    .colab-df-convert {\n",
       "      background-color: #E8F0FE;\n",
       "      border: none;\n",
       "      border-radius: 50%;\n",
       "      cursor: pointer;\n",
       "      display: none;\n",
       "      fill: #1967D2;\n",
       "      height: 32px;\n",
       "      padding: 0 0 0 0;\n",
       "      width: 32px;\n",
       "    }\n",
       "\n",
       "    .colab-df-convert:hover {\n",
       "      background-color: #E2EBFA;\n",
       "      box-shadow: 0px 1px 2px rgba(60, 64, 67, 0.3), 0px 1px 3px 1px rgba(60, 64, 67, 0.15);\n",
       "      fill: #174EA6;\n",
       "    }\n",
       "\n",
       "    [theme=dark] .colab-df-convert {\n",
       "      background-color: #3B4455;\n",
       "      fill: #D2E3FC;\n",
       "    }\n",
       "\n",
       "    [theme=dark] .colab-df-convert:hover {\n",
       "      background-color: #434B5C;\n",
       "      box-shadow: 0px 1px 3px 1px rgba(0, 0, 0, 0.15);\n",
       "      filter: drop-shadow(0px 1px 2px rgba(0, 0, 0, 0.3));\n",
       "      fill: #FFFFFF;\n",
       "    }\n",
       "  </style>\n",
       "\n",
       "      <script>\n",
       "        const buttonEl =\n",
       "          document.querySelector('#df-9cdb8fd5-9d7d-4ad1-b04d-ee42252d6514 button.colab-df-convert');\n",
       "        buttonEl.style.display =\n",
       "          google.colab.kernel.accessAllowed ? 'block' : 'none';\n",
       "\n",
       "        async function convertToInteractive(key) {\n",
       "          const element = document.querySelector('#df-9cdb8fd5-9d7d-4ad1-b04d-ee42252d6514');\n",
       "          const dataTable =\n",
       "            await google.colab.kernel.invokeFunction('convertToInteractive',\n",
       "                                                     [key], {});\n",
       "          if (!dataTable) return;\n",
       "\n",
       "          const docLinkHtml = 'Like what you see? Visit the ' +\n",
       "            '<a target=\"_blank\" href=https://colab.research.google.com/notebooks/data_table.ipynb>data table notebook</a>'\n",
       "            + ' to learn more about interactive tables.';\n",
       "          element.innerHTML = '';\n",
       "          dataTable['output_type'] = 'display_data';\n",
       "          await google.colab.output.renderOutput(dataTable, element);\n",
       "          const docLink = document.createElement('div');\n",
       "          docLink.innerHTML = docLinkHtml;\n",
       "          element.appendChild(docLink);\n",
       "        }\n",
       "      </script>\n",
       "    </div>\n",
       "  </div>\n",
       "  "
      ],
      "text/plain": [
       "   split0_test_rmse  split1_test_rmse  split2_test_rmse  mean_test_rmse  \\\n",
       "0          0.968237          0.983175          0.979000        0.976804   \n",
       "1          0.965947          0.979877          0.977271        0.974365   \n",
       "2          0.964657          0.976041          0.973396        0.971365   \n",
       "3          0.965141          0.975674          0.973422        0.971412   \n",
       "4          0.968431          0.982707          0.980283        0.977140   \n",
       "\n",
       "   std_test_rmse  rank_test_rmse  split0_test_mae  split1_test_mae  \\\n",
       "0       0.006293              12         0.722654         0.730938   \n",
       "1       0.006047               9         0.726478         0.732950   \n",
       "2       0.004864               5         0.744022         0.746503   \n",
       "3       0.004529               6         0.746846         0.748642   \n",
       "4       0.006237              15         0.756786         0.760680   \n",
       "\n",
       "   split2_test_mae  mean_test_mae  std_test_mae  rank_test_mae  mean_fit_time  \\\n",
       "0         0.726671       0.726755      0.003382              1       0.222118   \n",
       "1         0.730395       0.729941      0.002662              6       0.681762   \n",
       "2         0.745758       0.745428      0.001039              7       0.223090   \n",
       "3         0.748907       0.748132      0.000915             12       0.649530   \n",
       "4         0.759675       0.759047      0.001650             13       0.198463   \n",
       "\n",
       "   std_fit_time  mean_test_time  std_test_time  \\\n",
       "0      0.037213        0.996403       0.014689   \n",
       "1      0.019892        0.984816       0.024446   \n",
       "2      0.005990        1.018406       0.023560   \n",
       "3      0.024227        0.988240       0.036349   \n",
       "4      0.020979        1.022034       0.013489   \n",
       "\n",
       "                                              params  param_k  param_min_k  \\\n",
       "0  {'k': 20, 'min_k': 3, 'sim_options': {'name': ...       20            3   \n",
       "1  {'k': 20, 'min_k': 3, 'sim_options': {'name': ...       20            3   \n",
       "2  {'k': 20, 'min_k': 6, 'sim_options': {'name': ...       20            6   \n",
       "3  {'k': 20, 'min_k': 6, 'sim_options': {'name': ...       20            6   \n",
       "4  {'k': 20, 'min_k': 9, 'sim_options': {'name': ...       20            9   \n",
       "\n",
       "                        param_sim_options  \n",
       "0     {'name': 'msd', 'user_based': True}  \n",
       "1  {'name': 'cosine', 'user_based': True}  \n",
       "2     {'name': 'msd', 'user_based': True}  \n",
       "3  {'name': 'cosine', 'user_based': True}  \n",
       "4     {'name': 'msd', 'user_based': True}  "
      ]
     },
     "execution_count": 35,
     "metadata": {},
     "output_type": "execute_result"
    }
   ],
   "source": [
    "results_df = pd.DataFrame.from_dict(gs.cv_results)\n",
    "results_df.head()"
   ]
  },
  {
   "cell_type": "markdown",
   "metadata": {
    "id": "NHWgxu_YnVNG"
   },
   "source": [
    "Now we will building final model by using tuned values of the hyperparameters which we received by using grid search cross validation"
   ]
  },
  {
   "cell_type": "code",
   "execution_count": 36,
   "metadata": {
    "colab": {
     "base_uri": "https://localhost:8080/"
    },
    "executionInfo": {
     "elapsed": 1263,
     "status": "ok",
     "timestamp": 1647183788702,
     "user": {
      "displayName": "Adunife Kizito Okoye",
      "photoUrl": "https://lh3.googleusercontent.com/a/default-user=s64",
      "userId": "17796381864439381022"
     },
     "user_tz": 240
    },
    "id": "PujRJA8X_JEJ",
    "outputId": "f5a2ce51-f498-41cc-81f1-4f285703e112"
   },
   "outputs": [
    {
     "name": "stdout",
     "output_type": "stream",
     "text": [
      "Computing the cosine similarity matrix...\n",
      "Done computing similarity matrix.\n",
      "RMSE: 0.9887\n"
     ]
    },
    {
     "data": {
      "text/plain": [
       "0.988698949219415"
      ]
     },
     "execution_count": 36,
     "metadata": {},
     "output_type": "execute_result"
    }
   ],
   "source": [
    "# using the optimal similarity measure for user-user based collaborative filtering\n",
    "sim_options = {'name': 'cosine',\n",
    "               'user_based': True}\n",
    "\n",
    "# creating an instance of KNNBasic with optimal hyperparameter values\n",
    "similarity_algo_optimized = KNNBasic(sim_options=sim_options, k=40, min_k=6,Verbose=False)\n",
    "\n",
    "# training the algorithm on the trainset\n",
    "similarity_algo_optimized.fit(trainset)\n",
    "\n",
    "# predicting ratings for the testset\n",
    "predictions = similarity_algo_optimized.test(testset)\n",
    "\n",
    "# computing RMSE on testset\n",
    "accuracy.rmse(predictions)"
   ]
  },
  {
   "cell_type": "markdown",
   "metadata": {
    "id": "YA37vQ6qnVNG"
   },
   "source": [
    "**Write your Answer here:**\n",
    "\n",
    "We can see from above that after tuning hyperparameters, RMSE for testset has reduced to 0.98 from 1.05. We can say that we have been able to improve the model after hyperparameter tuning"
   ]
  },
  {
   "cell_type": "markdown",
   "metadata": {
    "id": "NlB0pt5F6Z1d"
   },
   "source": [
    "#### Q 3.4  What is the Predicted  rating for an user with userId=0 and for itemId= 3906 and itemId=100 using tuned user based collaborative filtering? (1 Mark)"
   ]
  },
  {
   "cell_type": "markdown",
   "metadata": {
    "id": "YhcAXK0CnVNG"
   },
   "source": [
    "Let's us now predict rating for an user with `userId=0` and for `itemId=3906` with the optimized model as shown below"
   ]
  },
  {
   "cell_type": "code",
   "execution_count": 37,
   "metadata": {
    "colab": {
     "base_uri": "https://localhost:8080/"
    },
    "executionInfo": {
     "elapsed": 14,
     "status": "ok",
     "timestamp": 1647183788702,
     "user": {
      "displayName": "Adunife Kizito Okoye",
      "photoUrl": "https://lh3.googleusercontent.com/a/default-user=s64",
      "userId": "17796381864439381022"
     },
     "user_tz": 240
    },
    "id": "FgV63lHiq1TV",
    "outputId": "ed42d9d2-07cb-4cd2-a1d6-b0c967517a20"
   },
   "outputs": [
    {
     "name": "stdout",
     "output_type": "stream",
     "text": [
      "user: 0          item: 3906       r_ui = 4.00   est = 4.29   {'was_impossible': True, 'reason': 'Not enough neighbors.'}\n"
     ]
    },
    {
     "data": {
      "text/plain": [
       "Prediction(uid=0, iid=3906, r_ui=4, est=4.291366722826364, details={'was_impossible': True, 'reason': 'Not enough neighbors.'})"
      ]
     },
     "execution_count": 37,
     "metadata": {},
     "output_type": "execute_result"
    }
   ],
   "source": [
    "similarity_algo_optimized.predict(0,3906, r_ui=4, verbose=True)"
   ]
  },
  {
   "cell_type": "markdown",
   "metadata": {
    "id": "AMBeqeUtnVNG"
   },
   "source": [
    "If we compare the above predicted rating, we can see the baseline model predicted rating as `4.29` and the optimized model predicted the rating as `4.29`."
   ]
  },
  {
   "cell_type": "markdown",
   "metadata": {
    "id": "P1JLqz6mnVNH"
   },
   "source": [
    "Below we are predicting rating for the same `userId=0` but for a item which this user has not interacted before i.e. `itemId=100`, by using the optimized model as shown below - "
   ]
  },
  {
   "cell_type": "code",
   "execution_count": 38,
   "metadata": {
    "colab": {
     "base_uri": "https://localhost:8080/"
    },
    "executionInfo": {
     "elapsed": 10,
     "status": "ok",
     "timestamp": 1647183788703,
     "user": {
      "displayName": "Adunife Kizito Okoye",
      "photoUrl": "https://lh3.googleusercontent.com/a/default-user=s64",
      "userId": "17796381864439381022"
     },
     "user_tz": 240
    },
    "id": "HXO2Ztjhq1bN",
    "outputId": "247891f3-a94c-48d0-e009-b466e46b7c68"
   },
   "outputs": [
    {
     "name": "stdout",
     "output_type": "stream",
     "text": [
      "user: 0          item: 100        r_ui = None   est = 4.29   {'was_impossible': True, 'reason': 'Not enough neighbors.'}\n"
     ]
    },
    {
     "data": {
      "text/plain": [
       "Prediction(uid=0, iid=100, r_ui=None, est=4.291366722826364, details={'was_impossible': True, 'reason': 'Not enough neighbors.'})"
      ]
     },
     "execution_count": 38,
     "metadata": {},
     "output_type": "execute_result"
    }
   ],
   "source": [
    "similarity_algo_optimized.predict(0,100, verbose=True)"
   ]
  },
  {
   "cell_type": "markdown",
   "metadata": {
    "id": "PN_tYvepnVNH"
   },
   "source": [
    "If we compare the above predicted rating, we can see the baseline model predicted rating as `4` and the optimized model predicted the rating as `4.29`."
   ]
  },
  {
   "cell_type": "markdown",
   "metadata": {
    "id": "op_zwO_FnVNH"
   },
   "source": [
    "#### Identifying similar users to a given user (nearest neighbors)"
   ]
  },
  {
   "cell_type": "markdown",
   "metadata": {
    "id": "o2QsfqhanVNH"
   },
   "source": [
    "We can also find out the similar users to a given user or its nearest neighbors based on this KNNBasic algorithm. Below we are finding 5 most similar user to the `userId=0` based on the `msd` distance metric"
   ]
  },
  {
   "cell_type": "code",
   "execution_count": 39,
   "metadata": {
    "colab": {
     "base_uri": "https://localhost:8080/"
    },
    "executionInfo": {
     "elapsed": 7,
     "status": "ok",
     "timestamp": 1647183788703,
     "user": {
      "displayName": "Adunife Kizito Okoye",
      "photoUrl": "https://lh3.googleusercontent.com/a/default-user=s64",
      "userId": "17796381864439381022"
     },
     "user_tz": 240
    },
    "id": "evkmTb6P5HYO",
    "outputId": "cc6fa60c-78bf-48e1-e16c-2e00bc02065c"
   },
   "outputs": [
    {
     "data": {
      "text/plain": [
       "[7, 12, 14, 23, 47]"
      ]
     },
     "execution_count": 39,
     "metadata": {},
     "output_type": "execute_result"
    }
   ],
   "source": [
    "similarity_algo_optimized.get_neighbors(0, k=5)"
   ]
  },
  {
   "cell_type": "markdown",
   "metadata": {
    "id": "Z0NsrX_anVNH"
   },
   "source": [
    "#### Implementing the recommendation algorithm based on optimized KNNBasic model"
   ]
  },
  {
   "cell_type": "markdown",
   "metadata": {
    "id": "U3ESobDynVNI"
   },
   "source": [
    "Below we will be implementing a function where the input parameters are - \n",
    "\n",
    "- data: a rating dataset\n",
    "- user_id: an user id against which we want the recommendations\n",
    "- top_n: the number of items we want to recommend\n",
    "- algo: the algorithm we want to use to predict the ratings"
   ]
  },
  {
   "cell_type": "code",
   "execution_count": 40,
   "metadata": {
    "executionInfo": {
     "elapsed": 3,
     "status": "ok",
     "timestamp": 1647183788703,
     "user": {
      "displayName": "Adunife Kizito Okoye",
      "photoUrl": "https://lh3.googleusercontent.com/a/default-user=s64",
      "userId": "17796381864439381022"
     },
     "user_tz": 240
    },
    "id": "vW9V1Tk65HlY"
   },
   "outputs": [],
   "source": [
    "def get_recommendations(data, user_id, top_n, algo):\n",
    "    \n",
    "    # creating an empty list to store the recommended item ids\n",
    "    recommendations = []\n",
    "    \n",
    "    # creating an user item interactions matrix \n",
    "    user_item_interactions_matrix = data.pivot(index='user_id', columns='item_id', values='rating')\n",
    "    \n",
    "    # extracting those item ids which the user_id has not interacted yet\n",
    "    non_interacted_items = user_item_interactions_matrix.loc[user_id][user_item_interactions_matrix.loc[user_id].isnull()].index.tolist()\n",
    "    \n",
    "    # looping through each of the item id which user_id has not interacted yet\n",
    "    for item_id in non_interacted_items:\n",
    "        \n",
    "        # predicting the ratings for those non interacted item ids by this user\n",
    "        est = algo.predict(user_id, item_id).est\n",
    "        \n",
    "        # appending the predicted ratings\n",
    "        recommendations.append((item_id, est))\n",
    "\n",
    "    # sorting the predicted ratings in descending order\n",
    "    recommendations.sort(key=lambda x: x[1], reverse=True)\n",
    "\n",
    "    return recommendations[:top_n] # returing top n highest predicted rating items for this user"
   ]
  },
  {
   "cell_type": "markdown",
   "metadata": {
    "id": "Oj_S7kh4nVNI"
   },
   "source": [
    "#### Predicted top 5 items for userId=4 with similarity based recommendation system"
   ]
  },
  {
   "cell_type": "code",
   "execution_count": 41,
   "metadata": {
    "executionInfo": {
     "elapsed": 204,
     "status": "ok",
     "timestamp": 1647183788904,
     "user": {
      "displayName": "Adunife Kizito Okoye",
      "photoUrl": "https://lh3.googleusercontent.com/a/default-user=s64",
      "userId": "17796381864439381022"
     },
     "user_tz": 240
    },
    "id": "qWbR85mI5Hrk"
   },
   "outputs": [],
   "source": [
    "recommendations = get_recommendations(df, 4, 5, similarity_algo_optimized)"
   ]
  },
  {
   "cell_type": "markdown",
   "metadata": {
    "id": "T-UriRJa6Z1g"
   },
   "source": [
    "#### Q 3.5 Predict the top 5 items for userId=4 with similarity based recommendation system (1 Mark)"
   ]
  },
  {
   "cell_type": "code",
   "execution_count": 42,
   "metadata": {
    "colab": {
     "base_uri": "https://localhost:8080/"
    },
    "executionInfo": {
     "elapsed": 5,
     "status": "ok",
     "timestamp": 1647183788904,
     "user": {
      "displayName": "Adunife Kizito Okoye",
      "photoUrl": "https://lh3.googleusercontent.com/a/default-user=s64",
      "userId": "17796381864439381022"
     },
     "user_tz": 240
    },
    "id": "b5WfIX0Z6_q2",
    "outputId": "3e411d26-71f6-449e-dec1-be1c9de72d8f"
   },
   "outputs": [
    {
     "data": {
      "text/plain": [
       "[(850, 5),\n",
       " (2857, 4.875),\n",
       " (2277, 4.856530910239044),\n",
       " (2722, 4.833333333333333),\n",
       " (4189, 4.833053684165744)]"
      ]
     },
     "execution_count": 42,
     "metadata": {},
     "output_type": "execute_result"
    }
   ],
   "source": [
    "recommendations"
   ]
  },
  {
   "cell_type": "markdown",
   "metadata": {
    "id": "FBXXS17c6Z1g"
   },
   "source": [
    "### Model 3 Item based Collaborative Filtering Recommendation System (7 Marks)"
   ]
  },
  {
   "cell_type": "code",
   "execution_count": 43,
   "metadata": {
    "colab": {
     "base_uri": "https://localhost:8080/"
    },
    "executionInfo": {
     "elapsed": 3502,
     "status": "ok",
     "timestamp": 1647183792404,
     "user": {
      "displayName": "Adunife Kizito Okoye",
      "photoUrl": "https://lh3.googleusercontent.com/a/default-user=s64",
      "userId": "17796381864439381022"
     },
     "user_tz": 240
    },
    "id": "_4zF583_6Z1g",
    "outputId": "92b70129-fc43-465c-975f-f72cdad01ca9"
   },
   "outputs": [
    {
     "name": "stdout",
     "output_type": "stream",
     "text": [
      "RMSE: 1.0697\n"
     ]
    },
    {
     "data": {
      "text/plain": [
       "1.0697030922594737"
      ]
     },
     "execution_count": 43,
     "metadata": {},
     "output_type": "execute_result"
    }
   ],
   "source": [
    "#definfing similarity measure\n",
    "sim_options = {'name': 'cosine',\n",
    "               'user_based': False}\n",
    "\n",
    "#defining Nearest neighbour algorithm\n",
    "algo_knn_item = KNNBasic(sim_options=sim_options,verbose=False)\n",
    "\n",
    "# Train the algorithm on the trainset or fitting the model on train dataset \n",
    "algo_knn_item.fit(trainset)\n",
    "\n",
    "#predict ratings for the testset\n",
    "predictions = algo_knn_item.test(testset)\n",
    "\n",
    "# Then compute RMSE\n",
    "accuracy.rmse(predictions)"
   ]
  },
  {
   "cell_type": "markdown",
   "metadata": {
    "id": "XuKBx6p26Z1g"
   },
   "source": [
    "#### Q 4.1 What is the RMSE for baseline item based collaborative filtering recommendation system ?"
   ]
  },
  {
   "cell_type": "markdown",
   "metadata": {
    "id": "0E9OBxL46Z1g"
   },
   "source": [
    "**Write your Answer here:**\n",
    "- As we can see from above, these baseline model has `RMSE=1.06` on test set, we will try to improve this number later by using `GridSearchCV` tuning different hyperparameters of this algorithm\n",
    "\n",
    "#### Let's us now predict rating for an user with `userId=0` and for `itemId=3906` and `itemId=100`"
   ]
  },
  {
   "cell_type": "code",
   "execution_count": 44,
   "metadata": {
    "colab": {
     "base_uri": "https://localhost:8080/"
    },
    "executionInfo": {
     "elapsed": 9,
     "status": "ok",
     "timestamp": 1647183792405,
     "user": {
      "displayName": "Adunife Kizito Okoye",
      "photoUrl": "https://lh3.googleusercontent.com/a/default-user=s64",
      "userId": "17796381864439381022"
     },
     "user_tz": 240
    },
    "id": "SmtSba906Z1h",
    "outputId": "02258c58-4807-40b5-853c-83bfab3b3f73"
   },
   "outputs": [
    {
     "name": "stdout",
     "output_type": "stream",
     "text": [
      "user: 0          item: 3096       r_ui = 4.00   est = 4.29   {'was_impossible': True, 'reason': 'Not enough neighbors.'}\n"
     ]
    },
    {
     "data": {
      "text/plain": [
       "Prediction(uid=0, iid=3096, r_ui=4, est=4.291366722826364, details={'was_impossible': True, 'reason': 'Not enough neighbors.'})"
      ]
     },
     "execution_count": 44,
     "metadata": {},
     "output_type": "execute_result"
    }
   ],
   "source": [
    "algo_knn_item.predict(0, 3096, r_ui=4, verbose=True)"
   ]
  },
  {
   "cell_type": "markdown",
   "metadata": {
    "id": "sLYUottz6Z1h"
   },
   "source": [
    "As we can see - the actual rating for this user-item pair is 4 and predicted rating is 4.29 by this similarity based baseline model"
   ]
  },
  {
   "cell_type": "markdown",
   "metadata": {
    "id": "_2cK6nrF6Z1h"
   },
   "source": [
    "#### Let's predict  the rating for the same `userId=0` but for a item which this user has not interacted before i.e. `itemId=22607`"
   ]
  },
  {
   "cell_type": "code",
   "execution_count": 45,
   "metadata": {
    "colab": {
     "base_uri": "https://localhost:8080/"
    },
    "executionInfo": {
     "elapsed": 5,
     "status": "ok",
     "timestamp": 1647183792405,
     "user": {
      "displayName": "Adunife Kizito Okoye",
      "photoUrl": "https://lh3.googleusercontent.com/a/default-user=s64",
      "userId": "17796381864439381022"
     },
     "user_tz": 240
    },
    "id": "1GMQ0JtI6Z1h",
    "outputId": "341075ef-5ae0-422f-e6ef-80b2fae57e81"
   },
   "outputs": [
    {
     "name": "stdout",
     "output_type": "stream",
     "text": [
      "user: 0          item: 100        r_ui = None   est = 5.00   {'actual_k': 1, 'was_impossible': False}\n"
     ]
    },
    {
     "data": {
      "text/plain": [
       "Prediction(uid=0, iid=100, r_ui=None, est=5, details={'actual_k': 1, 'was_impossible': False})"
      ]
     },
     "execution_count": 45,
     "metadata": {},
     "output_type": "execute_result"
    }
   ],
   "source": [
    "algo_knn_item.predict(0, 100, verbose=True)"
   ]
  },
  {
   "cell_type": "markdown",
   "metadata": {
    "id": "HC-69jMN6Z1h"
   },
   "source": [
    "As we can see the estimated rating for this user-item pair is 5.00 based on this similarity based baseline model"
   ]
  },
  {
   "cell_type": "markdown",
   "metadata": {
    "id": "3EfFKfAk6Z1h"
   },
   "source": [
    "#### Q 4.3 Perform hyperparameter tuning for the baseline item based collaborative filtering recommendation system and find the RMSE for tuned item based collaborative filtering recommendation system?  (3 Marks)"
   ]
  },
  {
   "cell_type": "code",
   "execution_count": 46,
   "metadata": {
    "colab": {
     "base_uri": "https://localhost:8080/"
    },
    "executionInfo": {
     "elapsed": 185141,
     "status": "ok",
     "timestamp": 1647183977543,
     "user": {
      "displayName": "Adunife Kizito Okoye",
      "photoUrl": "https://lh3.googleusercontent.com/a/default-user=s64",
      "userId": "17796381864439381022"
     },
     "user_tz": 240
    },
    "id": "Gu1tFaCU6Z1j",
    "outputId": "58206c9a-45a4-409b-9160-6d47194c3370"
   },
   "outputs": [
    {
     "name": "stdout",
     "output_type": "stream",
     "text": [
      "Computing the msd similarity matrix...\n",
      "Done computing similarity matrix.\n",
      "Computing the msd similarity matrix...\n",
      "Done computing similarity matrix.\n",
      "Computing the msd similarity matrix...\n",
      "Done computing similarity matrix.\n",
      "Computing the cosine similarity matrix...\n",
      "Done computing similarity matrix.\n",
      "Computing the cosine similarity matrix...\n",
      "Done computing similarity matrix.\n",
      "Computing the cosine similarity matrix...\n",
      "Done computing similarity matrix.\n",
      "Computing the msd similarity matrix...\n",
      "Done computing similarity matrix.\n",
      "Computing the msd similarity matrix...\n",
      "Done computing similarity matrix.\n",
      "Computing the msd similarity matrix...\n",
      "Done computing similarity matrix.\n",
      "Computing the cosine similarity matrix...\n",
      "Done computing similarity matrix.\n",
      "Computing the cosine similarity matrix...\n",
      "Done computing similarity matrix.\n",
      "Computing the cosine similarity matrix...\n",
      "Done computing similarity matrix.\n",
      "Computing the msd similarity matrix...\n",
      "Done computing similarity matrix.\n",
      "Computing the msd similarity matrix...\n",
      "Done computing similarity matrix.\n",
      "Computing the msd similarity matrix...\n",
      "Done computing similarity matrix.\n",
      "Computing the cosine similarity matrix...\n",
      "Done computing similarity matrix.\n",
      "Computing the cosine similarity matrix...\n",
      "Done computing similarity matrix.\n",
      "Computing the cosine similarity matrix...\n",
      "Done computing similarity matrix.\n",
      "Computing the msd similarity matrix...\n",
      "Done computing similarity matrix.\n",
      "Computing the msd similarity matrix...\n",
      "Done computing similarity matrix.\n",
      "Computing the msd similarity matrix...\n",
      "Done computing similarity matrix.\n",
      "Computing the cosine similarity matrix...\n",
      "Done computing similarity matrix.\n",
      "Computing the cosine similarity matrix...\n",
      "Done computing similarity matrix.\n",
      "Computing the cosine similarity matrix...\n",
      "Done computing similarity matrix.\n",
      "Computing the msd similarity matrix...\n",
      "Done computing similarity matrix.\n",
      "Computing the msd similarity matrix...\n",
      "Done computing similarity matrix.\n",
      "Computing the msd similarity matrix...\n",
      "Done computing similarity matrix.\n",
      "Computing the cosine similarity matrix...\n",
      "Done computing similarity matrix.\n",
      "Computing the cosine similarity matrix...\n",
      "Done computing similarity matrix.\n",
      "Computing the cosine similarity matrix...\n",
      "Done computing similarity matrix.\n",
      "Computing the msd similarity matrix...\n",
      "Done computing similarity matrix.\n",
      "Computing the msd similarity matrix...\n",
      "Done computing similarity matrix.\n",
      "Computing the msd similarity matrix...\n",
      "Done computing similarity matrix.\n",
      "Computing the cosine similarity matrix...\n",
      "Done computing similarity matrix.\n",
      "Computing the cosine similarity matrix...\n",
      "Done computing similarity matrix.\n",
      "Computing the cosine similarity matrix...\n",
      "Done computing similarity matrix.\n",
      "Computing the msd similarity matrix...\n",
      "Done computing similarity matrix.\n",
      "Computing the msd similarity matrix...\n",
      "Done computing similarity matrix.\n",
      "Computing the msd similarity matrix...\n",
      "Done computing similarity matrix.\n",
      "Computing the cosine similarity matrix...\n",
      "Done computing similarity matrix.\n",
      "Computing the cosine similarity matrix...\n",
      "Done computing similarity matrix.\n",
      "Computing the cosine similarity matrix...\n",
      "Done computing similarity matrix.\n",
      "Computing the msd similarity matrix...\n",
      "Done computing similarity matrix.\n",
      "Computing the msd similarity matrix...\n",
      "Done computing similarity matrix.\n",
      "Computing the msd similarity matrix...\n",
      "Done computing similarity matrix.\n",
      "Computing the cosine similarity matrix...\n",
      "Done computing similarity matrix.\n",
      "Computing the cosine similarity matrix...\n",
      "Done computing similarity matrix.\n",
      "Computing the cosine similarity matrix...\n",
      "Done computing similarity matrix.\n",
      "Computing the msd similarity matrix...\n",
      "Done computing similarity matrix.\n",
      "Computing the msd similarity matrix...\n",
      "Done computing similarity matrix.\n",
      "Computing the msd similarity matrix...\n",
      "Done computing similarity matrix.\n",
      "Computing the cosine similarity matrix...\n",
      "Done computing similarity matrix.\n",
      "Computing the cosine similarity matrix...\n",
      "Done computing similarity matrix.\n",
      "Computing the cosine similarity matrix...\n",
      "Done computing similarity matrix.\n",
      "0.9749776404277517\n",
      "{'k': 20, 'min_k': 6, 'sim_options': {'name': 'msd', 'user_based': False}}\n"
     ]
    }
   ],
   "source": [
    "# setting up parameter grid to tune the hyperparameters\n",
    "param_grid = {'k': [20, 30,40], 'min_k': [3,6,9],\n",
    "              'sim_options': {'name': ['msd', 'cosine'],\n",
    "                              'user_based': [False]}\n",
    "              }\n",
    "\n",
    "# performing 3-fold cross validation to tune the hyperparameters\n",
    "grid_obj = GridSearchCV(KNNBasic, param_grid, measures=['rmse', 'mae'], cv=3)\n",
    "\n",
    "# fitting the data\n",
    "grid_obj.fit(data)\n",
    "\n",
    "# best RMSE score\n",
    "print(grid_obj.best_score['rmse'])\n",
    "\n",
    "# combination of parameters that gave the best RMSE score\n",
    "print(grid_obj.best_params['rmse'])"
   ]
  },
  {
   "cell_type": "markdown",
   "metadata": {
    "id": "VJZsNiSB6Z1j"
   },
   "source": [
    "Once the grid search is complete, we can get the optimal values for each of those hyperparameters as shown above:"
   ]
  },
  {
   "cell_type": "markdown",
   "metadata": {
    "id": "AHXRbrsz6Z1j"
   },
   "source": [
    "Below we are analysing evaluation metrics - RMSE and MAE at each and every split to analyze the impact of each value of hyperparameters"
   ]
  },
  {
   "cell_type": "code",
   "execution_count": 47,
   "metadata": {
    "colab": {
     "base_uri": "https://localhost:8080/",
     "height": 531
    },
    "executionInfo": {
     "elapsed": 14,
     "status": "ok",
     "timestamp": 1647183977544,
     "user": {
      "displayName": "Adunife Kizito Okoye",
      "photoUrl": "https://lh3.googleusercontent.com/a/default-user=s64",
      "userId": "17796381864439381022"
     },
     "user_tz": 240
    },
    "id": "TjS_TXyS6Z1j",
    "outputId": "d7a274e8-e9f8-407c-d75f-8c440039f78a"
   },
   "outputs": [
    {
     "data": {
      "text/html": [
       "\n",
       "  <div id=\"df-7e1e671c-91eb-415e-8d47-62018106b5b6\">\n",
       "    <div class=\"colab-df-container\">\n",
       "      <div>\n",
       "<style scoped>\n",
       "    .dataframe tbody tr th:only-of-type {\n",
       "        vertical-align: middle;\n",
       "    }\n",
       "\n",
       "    .dataframe tbody tr th {\n",
       "        vertical-align: top;\n",
       "    }\n",
       "\n",
       "    .dataframe thead th {\n",
       "        text-align: right;\n",
       "    }\n",
       "</style>\n",
       "<table border=\"1\" class=\"dataframe\">\n",
       "  <thead>\n",
       "    <tr style=\"text-align: right;\">\n",
       "      <th></th>\n",
       "      <th>split0_test_rmse</th>\n",
       "      <th>split1_test_rmse</th>\n",
       "      <th>split2_test_rmse</th>\n",
       "      <th>mean_test_rmse</th>\n",
       "      <th>std_test_rmse</th>\n",
       "      <th>rank_test_rmse</th>\n",
       "      <th>split0_test_mae</th>\n",
       "      <th>split1_test_mae</th>\n",
       "      <th>split2_test_mae</th>\n",
       "      <th>mean_test_mae</th>\n",
       "      <th>std_test_mae</th>\n",
       "      <th>rank_test_mae</th>\n",
       "      <th>mean_fit_time</th>\n",
       "      <th>std_fit_time</th>\n",
       "      <th>mean_test_time</th>\n",
       "      <th>std_test_time</th>\n",
       "      <th>params</th>\n",
       "      <th>param_k</th>\n",
       "      <th>param_min_k</th>\n",
       "      <th>param_sim_options</th>\n",
       "    </tr>\n",
       "  </thead>\n",
       "  <tbody>\n",
       "    <tr>\n",
       "      <th>0</th>\n",
       "      <td>0.983719</td>\n",
       "      <td>0.991985</td>\n",
       "      <td>0.990358</td>\n",
       "      <td>0.988687</td>\n",
       "      <td>0.003575</td>\n",
       "      <td>16</td>\n",
       "      <td>0.722164</td>\n",
       "      <td>0.731127</td>\n",
       "      <td>0.728749</td>\n",
       "      <td>0.727347</td>\n",
       "      <td>0.003791</td>\n",
       "      <td>1</td>\n",
       "      <td>1.331537</td>\n",
       "      <td>0.048111</td>\n",
       "      <td>1.588722</td>\n",
       "      <td>0.050827</td>\n",
       "      <td>{'k': 20, 'min_k': 3, 'sim_options': {'name': ...</td>\n",
       "      <td>20</td>\n",
       "      <td>3</td>\n",
       "      <td>{'name': 'msd', 'user_based': False}</td>\n",
       "    </tr>\n",
       "    <tr>\n",
       "      <th>1</th>\n",
       "      <td>0.983900</td>\n",
       "      <td>0.992222</td>\n",
       "      <td>0.989570</td>\n",
       "      <td>0.988564</td>\n",
       "      <td>0.003471</td>\n",
       "      <td>15</td>\n",
       "      <td>0.729086</td>\n",
       "      <td>0.738236</td>\n",
       "      <td>0.735689</td>\n",
       "      <td>0.734337</td>\n",
       "      <td>0.003856</td>\n",
       "      <td>6</td>\n",
       "      <td>2.478316</td>\n",
       "      <td>0.028397</td>\n",
       "      <td>1.519140</td>\n",
       "      <td>0.077374</td>\n",
       "      <td>{'k': 20, 'min_k': 3, 'sim_options': {'name': ...</td>\n",
       "      <td>20</td>\n",
       "      <td>3</td>\n",
       "      <td>{'name': 'cosine', 'user_based': False}</td>\n",
       "    </tr>\n",
       "    <tr>\n",
       "      <th>2</th>\n",
       "      <td>0.970707</td>\n",
       "      <td>0.980123</td>\n",
       "      <td>0.974102</td>\n",
       "      <td>0.974978</td>\n",
       "      <td>0.003893</td>\n",
       "      <td>1</td>\n",
       "      <td>0.737795</td>\n",
       "      <td>0.745599</td>\n",
       "      <td>0.740532</td>\n",
       "      <td>0.741309</td>\n",
       "      <td>0.003233</td>\n",
       "      <td>7</td>\n",
       "      <td>1.203190</td>\n",
       "      <td>0.059993</td>\n",
       "      <td>1.533103</td>\n",
       "      <td>0.127312</td>\n",
       "      <td>{'k': 20, 'min_k': 6, 'sim_options': {'name': ...</td>\n",
       "      <td>20</td>\n",
       "      <td>6</td>\n",
       "      <td>{'name': 'msd', 'user_based': False}</td>\n",
       "    </tr>\n",
       "    <tr>\n",
       "      <th>3</th>\n",
       "      <td>0.973309</td>\n",
       "      <td>0.983169</td>\n",
       "      <td>0.977085</td>\n",
       "      <td>0.977854</td>\n",
       "      <td>0.004062</td>\n",
       "      <td>9</td>\n",
       "      <td>0.744152</td>\n",
       "      <td>0.752940</td>\n",
       "      <td>0.747362</td>\n",
       "      <td>0.748151</td>\n",
       "      <td>0.003631</td>\n",
       "      <td>12</td>\n",
       "      <td>2.407945</td>\n",
       "      <td>0.003906</td>\n",
       "      <td>1.547014</td>\n",
       "      <td>0.059118</td>\n",
       "      <td>{'k': 20, 'min_k': 6, 'sim_options': {'name': ...</td>\n",
       "      <td>20</td>\n",
       "      <td>6</td>\n",
       "      <td>{'name': 'cosine', 'user_based': False}</td>\n",
       "    </tr>\n",
       "    <tr>\n",
       "      <th>4</th>\n",
       "      <td>0.971183</td>\n",
       "      <td>0.981886</td>\n",
       "      <td>0.975924</td>\n",
       "      <td>0.976331</td>\n",
       "      <td>0.004379</td>\n",
       "      <td>4</td>\n",
       "      <td>0.750022</td>\n",
       "      <td>0.758330</td>\n",
       "      <td>0.752722</td>\n",
       "      <td>0.753691</td>\n",
       "      <td>0.003460</td>\n",
       "      <td>13</td>\n",
       "      <td>1.293072</td>\n",
       "      <td>0.020820</td>\n",
       "      <td>1.568541</td>\n",
       "      <td>0.058028</td>\n",
       "      <td>{'k': 20, 'min_k': 9, 'sim_options': {'name': ...</td>\n",
       "      <td>20</td>\n",
       "      <td>9</td>\n",
       "      <td>{'name': 'msd', 'user_based': False}</td>\n",
       "    </tr>\n",
       "  </tbody>\n",
       "</table>\n",
       "</div>\n",
       "      <button class=\"colab-df-convert\" onclick=\"convertToInteractive('df-7e1e671c-91eb-415e-8d47-62018106b5b6')\"\n",
       "              title=\"Convert this dataframe to an interactive table.\"\n",
       "              style=\"display:none;\">\n",
       "        \n",
       "  <svg xmlns=\"http://www.w3.org/2000/svg\" height=\"24px\"viewBox=\"0 0 24 24\"\n",
       "       width=\"24px\">\n",
       "    <path d=\"M0 0h24v24H0V0z\" fill=\"none\"/>\n",
       "    <path d=\"M18.56 5.44l.94 2.06.94-2.06 2.06-.94-2.06-.94-.94-2.06-.94 2.06-2.06.94zm-11 1L8.5 8.5l.94-2.06 2.06-.94-2.06-.94L8.5 2.5l-.94 2.06-2.06.94zm10 10l.94 2.06.94-2.06 2.06-.94-2.06-.94-.94-2.06-.94 2.06-2.06.94z\"/><path d=\"M17.41 7.96l-1.37-1.37c-.4-.4-.92-.59-1.43-.59-.52 0-1.04.2-1.43.59L10.3 9.45l-7.72 7.72c-.78.78-.78 2.05 0 2.83L4 21.41c.39.39.9.59 1.41.59.51 0 1.02-.2 1.41-.59l7.78-7.78 2.81-2.81c.8-.78.8-2.07 0-2.86zM5.41 20L4 18.59l7.72-7.72 1.47 1.35L5.41 20z\"/>\n",
       "  </svg>\n",
       "      </button>\n",
       "      \n",
       "  <style>\n",
       "    .colab-df-container {\n",
       "      display:flex;\n",
       "      flex-wrap:wrap;\n",
       "      gap: 12px;\n",
       "    }\n",
       "\n",
       "    .colab-df-convert {\n",
       "      background-color: #E8F0FE;\n",
       "      border: none;\n",
       "      border-radius: 50%;\n",
       "      cursor: pointer;\n",
       "      display: none;\n",
       "      fill: #1967D2;\n",
       "      height: 32px;\n",
       "      padding: 0 0 0 0;\n",
       "      width: 32px;\n",
       "    }\n",
       "\n",
       "    .colab-df-convert:hover {\n",
       "      background-color: #E2EBFA;\n",
       "      box-shadow: 0px 1px 2px rgba(60, 64, 67, 0.3), 0px 1px 3px 1px rgba(60, 64, 67, 0.15);\n",
       "      fill: #174EA6;\n",
       "    }\n",
       "\n",
       "    [theme=dark] .colab-df-convert {\n",
       "      background-color: #3B4455;\n",
       "      fill: #D2E3FC;\n",
       "    }\n",
       "\n",
       "    [theme=dark] .colab-df-convert:hover {\n",
       "      background-color: #434B5C;\n",
       "      box-shadow: 0px 1px 3px 1px rgba(0, 0, 0, 0.15);\n",
       "      filter: drop-shadow(0px 1px 2px rgba(0, 0, 0, 0.3));\n",
       "      fill: #FFFFFF;\n",
       "    }\n",
       "  </style>\n",
       "\n",
       "      <script>\n",
       "        const buttonEl =\n",
       "          document.querySelector('#df-7e1e671c-91eb-415e-8d47-62018106b5b6 button.colab-df-convert');\n",
       "        buttonEl.style.display =\n",
       "          google.colab.kernel.accessAllowed ? 'block' : 'none';\n",
       "\n",
       "        async function convertToInteractive(key) {\n",
       "          const element = document.querySelector('#df-7e1e671c-91eb-415e-8d47-62018106b5b6');\n",
       "          const dataTable =\n",
       "            await google.colab.kernel.invokeFunction('convertToInteractive',\n",
       "                                                     [key], {});\n",
       "          if (!dataTable) return;\n",
       "\n",
       "          const docLinkHtml = 'Like what you see? Visit the ' +\n",
       "            '<a target=\"_blank\" href=https://colab.research.google.com/notebooks/data_table.ipynb>data table notebook</a>'\n",
       "            + ' to learn more about interactive tables.';\n",
       "          element.innerHTML = '';\n",
       "          dataTable['output_type'] = 'display_data';\n",
       "          await google.colab.output.renderOutput(dataTable, element);\n",
       "          const docLink = document.createElement('div');\n",
       "          docLink.innerHTML = docLinkHtml;\n",
       "          element.appendChild(docLink);\n",
       "        }\n",
       "      </script>\n",
       "    </div>\n",
       "  </div>\n",
       "  "
      ],
      "text/plain": [
       "   split0_test_rmse  split1_test_rmse  split2_test_rmse  mean_test_rmse  \\\n",
       "0          0.983719          0.991985          0.990358        0.988687   \n",
       "1          0.983900          0.992222          0.989570        0.988564   \n",
       "2          0.970707          0.980123          0.974102        0.974978   \n",
       "3          0.973309          0.983169          0.977085        0.977854   \n",
       "4          0.971183          0.981886          0.975924        0.976331   \n",
       "\n",
       "   std_test_rmse  rank_test_rmse  split0_test_mae  split1_test_mae  \\\n",
       "0       0.003575              16         0.722164         0.731127   \n",
       "1       0.003471              15         0.729086         0.738236   \n",
       "2       0.003893               1         0.737795         0.745599   \n",
       "3       0.004062               9         0.744152         0.752940   \n",
       "4       0.004379               4         0.750022         0.758330   \n",
       "\n",
       "   split2_test_mae  mean_test_mae  std_test_mae  rank_test_mae  mean_fit_time  \\\n",
       "0         0.728749       0.727347      0.003791              1       1.331537   \n",
       "1         0.735689       0.734337      0.003856              6       2.478316   \n",
       "2         0.740532       0.741309      0.003233              7       1.203190   \n",
       "3         0.747362       0.748151      0.003631             12       2.407945   \n",
       "4         0.752722       0.753691      0.003460             13       1.293072   \n",
       "\n",
       "   std_fit_time  mean_test_time  std_test_time  \\\n",
       "0      0.048111        1.588722       0.050827   \n",
       "1      0.028397        1.519140       0.077374   \n",
       "2      0.059993        1.533103       0.127312   \n",
       "3      0.003906        1.547014       0.059118   \n",
       "4      0.020820        1.568541       0.058028   \n",
       "\n",
       "                                              params  param_k  param_min_k  \\\n",
       "0  {'k': 20, 'min_k': 3, 'sim_options': {'name': ...       20            3   \n",
       "1  {'k': 20, 'min_k': 3, 'sim_options': {'name': ...       20            3   \n",
       "2  {'k': 20, 'min_k': 6, 'sim_options': {'name': ...       20            6   \n",
       "3  {'k': 20, 'min_k': 6, 'sim_options': {'name': ...       20            6   \n",
       "4  {'k': 20, 'min_k': 9, 'sim_options': {'name': ...       20            9   \n",
       "\n",
       "                         param_sim_options  \n",
       "0     {'name': 'msd', 'user_based': False}  \n",
       "1  {'name': 'cosine', 'user_based': False}  \n",
       "2     {'name': 'msd', 'user_based': False}  \n",
       "3  {'name': 'cosine', 'user_based': False}  \n",
       "4     {'name': 'msd', 'user_based': False}  "
      ]
     },
     "execution_count": 47,
     "metadata": {},
     "output_type": "execute_result"
    }
   ],
   "source": [
    "results_df = pd.DataFrame.from_dict(grid_obj.cv_results)\n",
    "results_df.head()"
   ]
  },
  {
   "cell_type": "code",
   "execution_count": 48,
   "metadata": {
    "colab": {
     "base_uri": "https://localhost:8080/"
    },
    "executionInfo": {
     "elapsed": 2562,
     "status": "ok",
     "timestamp": 1647183980094,
     "user": {
      "displayName": "Adunife Kizito Okoye",
      "photoUrl": "https://lh3.googleusercontent.com/a/default-user=s64",
      "userId": "17796381864439381022"
     },
     "user_tz": 240
    },
    "id": "PUxmBpSj6Z1j",
    "outputId": "2149db8b-e704-4d6b-f39c-a717ceefd3d4"
   },
   "outputs": [
    {
     "name": "stdout",
     "output_type": "stream",
     "text": [
      "RMSE: 0.9896\n"
     ]
    },
    {
     "data": {
      "text/plain": [
       "0.9895877571156905"
      ]
     },
     "execution_count": 48,
     "metadata": {},
     "output_type": "execute_result"
    }
   ],
   "source": [
    "# creating an instance of KNNBasic with optimal hyperparameter values\n",
    "similarity_algo_optimized_item = KNNBasic(sim_options={'name': 'msd', 'user_based': False}, k=30, min_k=6,verbose=False)\n",
    "\n",
    "# training the algorithm on the trainset\n",
    "similarity_algo_optimized_item.fit(trainset)\n",
    "\n",
    "# predicting ratings for the testset\n",
    "predictions = similarity_algo_optimized_item.test(testset)\n",
    "\n",
    "# computing RMSE on testset\n",
    "accuracy.rmse(predictions)"
   ]
  },
  {
   "cell_type": "markdown",
   "metadata": {
    "id": "XLrYQTcz6Z1k"
   },
   "source": [
    "**Write your Answer here:**\n",
    "- We can see from above that after tuning hyperparameters, RMSE for testset has reduced to 0.98 from 1.06. We can say that we have been able to improve the model after hyperparameter tuning."
   ]
  },
  {
   "cell_type": "markdown",
   "metadata": {
    "id": "DnlsOipl6Z1k"
   },
   "source": [
    "#### Q 4.4 What is the Predicted rating for an item with userId=0 and for itemId= 3906 and itemId=100 using tuned item based collaborative filtering? (1 Mark)"
   ]
  },
  {
   "cell_type": "markdown",
   "metadata": {
    "id": "vEXwA-TT6Z1k"
   },
   "source": [
    "#### Let's us now predict rating for an user with `userId=0` and for `itemId=3906` with the optimized model as shown below"
   ]
  },
  {
   "cell_type": "code",
   "execution_count": 49,
   "metadata": {
    "colab": {
     "base_uri": "https://localhost:8080/"
    },
    "executionInfo": {
     "elapsed": 11,
     "status": "ok",
     "timestamp": 1647183980094,
     "user": {
      "displayName": "Adunife Kizito Okoye",
      "photoUrl": "https://lh3.googleusercontent.com/a/default-user=s64",
      "userId": "17796381864439381022"
     },
     "user_tz": 240
    },
    "id": "3ykMV5y26Z1k",
    "outputId": "182ad1e4-ad57-4066-fee4-a66d83154c87"
   },
   "outputs": [
    {
     "name": "stdout",
     "output_type": "stream",
     "text": [
      "user: 0          item: 3906       r_ui = 4.00   est = 4.29   {'was_impossible': True, 'reason': 'Not enough neighbors.'}\n"
     ]
    },
    {
     "data": {
      "text/plain": [
       "Prediction(uid=0, iid=3906, r_ui=4, est=4.291366722826364, details={'was_impossible': True, 'reason': 'Not enough neighbors.'})"
      ]
     },
     "execution_count": 49,
     "metadata": {},
     "output_type": "execute_result"
    }
   ],
   "source": [
    "similarity_algo_optimized_item.predict(0, 3906, r_ui=4, verbose=True)"
   ]
  },
  {
   "cell_type": "markdown",
   "metadata": {
    "id": "bPGpA30S6Z1k"
   },
   "source": [
    "**Write your Answer here:**\n",
    "- If we compare the above predicted rating, we can see the baseline model predicted rating as `4.29` and the optimized model predicted the rating as `4.29`. whereas the actual rating is `4.0`, i.e. predicted rating from the optimized model is closer to the actual rating."
   ]
  },
  {
   "cell_type": "markdown",
   "metadata": {
    "id": "uzjpEdMN6Z1k"
   },
   "source": [
    "#### Let's predict the rating for the same `userId=0` but for a item which this user has not interacted before i.e. `itemId=100`, by using the optimized model:"
   ]
  },
  {
   "cell_type": "code",
   "execution_count": 50,
   "metadata": {
    "colab": {
     "base_uri": "https://localhost:8080/"
    },
    "executionInfo": {
     "elapsed": 7,
     "status": "ok",
     "timestamp": 1647183980094,
     "user": {
      "displayName": "Adunife Kizito Okoye",
      "photoUrl": "https://lh3.googleusercontent.com/a/default-user=s64",
      "userId": "17796381864439381022"
     },
     "user_tz": 240
    },
    "id": "73PUY4Og6Z1k",
    "outputId": "f5f6d925-22f9-4da3-fd4a-647f51806204"
   },
   "outputs": [
    {
     "name": "stdout",
     "output_type": "stream",
     "text": [
      "user: 0          item: 100        r_ui = None   est = 4.29   {'was_impossible': True, 'reason': 'Not enough neighbors.'}\n"
     ]
    },
    {
     "data": {
      "text/plain": [
       "Prediction(uid=0, iid=100, r_ui=None, est=4.291366722826364, details={'was_impossible': True, 'reason': 'Not enough neighbors.'})"
      ]
     },
     "execution_count": 50,
     "metadata": {},
     "output_type": "execute_result"
    }
   ],
   "source": [
    "similarity_algo_optimized_item.predict(0,100, verbose=True)"
   ]
  },
  {
   "cell_type": "markdown",
   "metadata": {
    "id": "o73veUsw6Z1k"
   },
   "source": [
    "**Write your Answer here:**\n",
    "- If we compare the above predicted rating, we can see the baseline model predicted rating as `5` and the optimized model predicted the rating as `4.29`."
   ]
  },
  {
   "cell_type": "markdown",
   "metadata": {
    "id": "v8lUjCZA6Z1k"
   },
   "source": [
    "#### Identifying similar users to a given user (nearest neighbors)\n",
    "We can also find out the similar users to a given user or its nearest neighbors based on this KNNBasic algorithm. Below we are finding 5 most similar user to the `userId=4` based on the `msd` distance metric"
   ]
  },
  {
   "cell_type": "code",
   "execution_count": 51,
   "metadata": {
    "colab": {
     "base_uri": "https://localhost:8080/"
    },
    "executionInfo": {
     "elapsed": 5,
     "status": "ok",
     "timestamp": 1647183980095,
     "user": {
      "displayName": "Adunife Kizito Okoye",
      "photoUrl": "https://lh3.googleusercontent.com/a/default-user=s64",
      "userId": "17796381864439381022"
     },
     "user_tz": 240
    },
    "id": "Haj3yoKO6Z1k",
    "outputId": "e21338bc-8026-46a9-e730-73dfbf52f119"
   },
   "outputs": [
    {
     "data": {
      "text/plain": [
       "[132, 213, 473, 1636, 393]"
      ]
     },
     "execution_count": 51,
     "metadata": {},
     "output_type": "execute_result"
    }
   ],
   "source": [
    "similarity_algo_optimized_item.get_neighbors(4, k=5)"
   ]
  },
  {
   "cell_type": "markdown",
   "metadata": {
    "id": "txuyYKAN6Z1k"
   },
   "source": [
    "#### Predicted top 5 items for userId=4 with similarity based recommendation system"
   ]
  },
  {
   "cell_type": "code",
   "execution_count": 52,
   "metadata": {
    "executionInfo": {
     "elapsed": 179,
     "status": "ok",
     "timestamp": 1647183980271,
     "user": {
      "displayName": "Adunife Kizito Okoye",
      "photoUrl": "https://lh3.googleusercontent.com/a/default-user=s64",
      "userId": "17796381864439381022"
     },
     "user_tz": 240
    },
    "id": "wu5p60aM6Z1k"
   },
   "outputs": [],
   "source": [
    "recommendations = get_recommendations(df, 4, 5, similarity_algo_optimized_item)"
   ]
  },
  {
   "cell_type": "markdown",
   "metadata": {
    "id": "WOmy53wq6Z1l"
   },
   "source": [
    "#### Q 4.5 Predict the top 5 items for userId=4 with similarity based recommendation system ? (1 Mark) "
   ]
  },
  {
   "cell_type": "code",
   "execution_count": 53,
   "metadata": {
    "colab": {
     "base_uri": "https://localhost:8080/"
    },
    "executionInfo": {
     "elapsed": 5,
     "status": "ok",
     "timestamp": 1647183980273,
     "user": {
      "displayName": "Adunife Kizito Okoye",
      "photoUrl": "https://lh3.googleusercontent.com/a/default-user=s64",
      "userId": "17796381864439381022"
     },
     "user_tz": 240
    },
    "id": "2UCb7qE96Z1l",
    "outputId": "383956f3-8ee6-4665-cb4b-d8dcfffb3046"
   },
   "outputs": [
    {
     "data": {
      "text/plain": [
       "[(5155, 4.846153846153846),\n",
       " (1997, 4.701088473346358),\n",
       " (3975, 4.692622950819672),\n",
       " (4253, 4.612068965517241),\n",
       " (5489, 4.536817102137767)]"
      ]
     },
     "execution_count": 53,
     "metadata": {},
     "output_type": "execute_result"
    }
   ],
   "source": [
    "recommendations"
   ]
  },
  {
   "cell_type": "markdown",
   "metadata": {
    "id": "rKgJpSA9vOOL"
   },
   "source": [
    "### Model 4 Based Collaborative Filtering - Matrix Factorization using SVD (7 Marks)"
   ]
  },
  {
   "cell_type": "markdown",
   "metadata": {
    "id": "YF6ZGyqhCAob"
   },
   "source": [
    "Model-based Collaborative Filtering is a **personalized recommendation system**, the recommendations are based on the past behavior of the user and it is not dependent on any additional information. We use **latent features** to find recommendations for each user."
   ]
  },
  {
   "cell_type": "markdown",
   "metadata": {
    "id": "uxGWVpOMvOOL"
   },
   "source": [
    "**Latent Features:** The features that are not present in the empirical data but can be inferred from the data. For example:"
   ]
  },
  {
   "cell_type": "markdown",
   "metadata": {
    "id": "n4Otha8ovOOL"
   },
   "source": [
    "#### Singular Value Decomposition (SVD)"
   ]
  },
  {
   "cell_type": "markdown",
   "metadata": {
    "id": "3sGl3QkLvOOL"
   },
   "source": [
    "SVD is used to compute the latent features from the user-item matrix that we already learned earlier. But SVD does not work when we missing values in the user-item matrix."
   ]
  },
  {
   "cell_type": "markdown",
   "metadata": {
    "id": "uOtkUXmAnVNL"
   },
   "source": [
    "#### Building a baseline matrix factorization recommendation system"
   ]
  },
  {
   "cell_type": "code",
   "execution_count": 54,
   "metadata": {
    "colab": {
     "base_uri": "https://localhost:8080/"
    },
    "executionInfo": {
     "elapsed": 2045,
     "status": "ok",
     "timestamp": 1647183982315,
     "user": {
      "displayName": "Adunife Kizito Okoye",
      "photoUrl": "https://lh3.googleusercontent.com/a/default-user=s64",
      "userId": "17796381864439381022"
     },
     "user_tz": 240
    },
    "id": "07-2PT5Ssjqm",
    "outputId": "090b8d7b-2510-4e0f-90a8-14bf925aba8b"
   },
   "outputs": [
    {
     "name": "stdout",
     "output_type": "stream",
     "text": [
      "RMSE: 0.9303\n"
     ]
    },
    {
     "data": {
      "text/plain": [
       "0.9302794872462444"
      ]
     },
     "execution_count": 54,
     "metadata": {},
     "output_type": "execute_result"
    }
   ],
   "source": [
    "# using SVD matrix factorization\n",
    "algo_svd = SVD()\n",
    "\n",
    "# training the algorithm on the trainset\n",
    "algo_svd.fit(trainset)\n",
    "\n",
    "# predicting ratings for the testset\n",
    "predictions = algo_svd.test(testset)\n",
    "\n",
    "# computing RMSE on the testset\n",
    "accuracy.rmse(predictions)"
   ]
  },
  {
   "cell_type": "markdown",
   "metadata": {
    "id": "GG_1tO3U6Z1o"
   },
   "source": [
    "#### Q 5.1 What is the RMSE for baseline SVD based collaborative filtering recommendation system? (1 Mark)"
   ]
  },
  {
   "cell_type": "markdown",
   "metadata": {
    "id": "BQ6fTuCDnVNL"
   },
   "source": [
    "**Write your Answer here:**\n",
    "\n",
    "We can that the baseline RMSE for matrix factorization model on testset (which is `0.93`) is lower as compared to the RMSE for baseline similarity based recommendation system (which is `1.06`) and it is even lesser than the RMSE for optimized similarity based recommendation system (which is `0.99`)"
   ]
  },
  {
   "cell_type": "markdown",
   "metadata": {
    "id": "m6Mv_jGn6Z1o"
   },
   "source": [
    "#### Q 5.2 What is the Predicted  rating for an user with userId =0 and for itemId= 3906 and itemId=100? (1 Mark)"
   ]
  },
  {
   "cell_type": "markdown",
   "metadata": {
    "id": "HD2AU1DnnVNM"
   },
   "source": [
    "Let's us now predict rating for an user with `userId=0` and for `itemId=3906` as shown below"
   ]
  },
  {
   "cell_type": "code",
   "execution_count": 55,
   "metadata": {
    "colab": {
     "base_uri": "https://localhost:8080/"
    },
    "executionInfo": {
     "elapsed": 10,
     "status": "ok",
     "timestamp": 1647183982315,
     "user": {
      "displayName": "Adunife Kizito Okoye",
      "photoUrl": "https://lh3.googleusercontent.com/a/default-user=s64",
      "userId": "17796381864439381022"
     },
     "user_tz": 240
    },
    "id": "yWIhfdxXsjqm",
    "outputId": "962d4608-8f15-48f6-ffaf-f567f500267e"
   },
   "outputs": [
    {
     "name": "stdout",
     "output_type": "stream",
     "text": [
      "user: 0          item: 3906       r_ui = 4.00   est = 4.75   {'was_impossible': False}\n"
     ]
    },
    {
     "data": {
      "text/plain": [
       "Prediction(uid=0, iid=3906, r_ui=4, est=4.753174346711042, details={'was_impossible': False})"
      ]
     },
     "execution_count": 55,
     "metadata": {},
     "output_type": "execute_result"
    }
   ],
   "source": [
    "algo_svd.predict(0,3906, r_ui=4, verbose=True)"
   ]
  },
  {
   "cell_type": "markdown",
   "metadata": {
    "id": "oIjzqDY5nVNM"
   },
   "source": [
    "**Write your Answer here:**\n",
    "\n",
    "As we can see - the actual rating for this user-item pair is 4 and predicted rating is 4.75 by this matrix factorization based baseline model. It seems like we have over estimated the rating by a small margin. We will try to fix this later by tuning the hyperparameters of the model using GridSearchCV"
   ]
  },
  {
   "cell_type": "markdown",
   "metadata": {
    "id": "I1aYxVeMnVNM"
   },
   "source": [
    "Below we are predicting rating for the same `userId=0` but for a item which this user has not interacted before i.e. `userId=100`, as shown below - "
   ]
  },
  {
   "cell_type": "code",
   "execution_count": 56,
   "metadata": {
    "colab": {
     "base_uri": "https://localhost:8080/"
    },
    "executionInfo": {
     "elapsed": 6,
     "status": "ok",
     "timestamp": 1647183982316,
     "user": {
      "displayName": "Adunife Kizito Okoye",
      "photoUrl": "https://lh3.googleusercontent.com/a/default-user=s64",
      "userId": "17796381864439381022"
     },
     "user_tz": 240
    },
    "id": "APm-uMSvcAMf",
    "outputId": "99089e13-7681-4f3b-f3ec-6bd2b5165a7f"
   },
   "outputs": [
    {
     "name": "stdout",
     "output_type": "stream",
     "text": [
      "user: 0          item: 100        r_ui = None   est = 4.58   {'was_impossible': False}\n"
     ]
    },
    {
     "data": {
      "text/plain": [
       "Prediction(uid=0, iid=100, r_ui=None, est=4.581618825284737, details={'was_impossible': False})"
      ]
     },
     "execution_count": 56,
     "metadata": {},
     "output_type": "execute_result"
    }
   ],
   "source": [
    "algo_svd.predict(0,100, verbose=True)"
   ]
  },
  {
   "cell_type": "markdown",
   "metadata": {
    "id": "NEL6dy3wnVNM"
   },
   "source": [
    "**Write your Answer here:**\n",
    "\n",
    "We can see that estimated rating for this user-item pair is 4.41 based on this matrix factorization based baseline model."
   ]
  },
  {
   "cell_type": "markdown",
   "metadata": {
    "id": "x13Eb9Owvpcw"
   },
   "source": [
    "#### Improving matrix factorization based recommendation system by tuning its hyper-parameters"
   ]
  },
  {
   "cell_type": "markdown",
   "metadata": {
    "id": "qbd3L1d2nVNM"
   },
   "source": [
    "In SVD, rating is predicted as - "
   ]
  },
  {
   "cell_type": "markdown",
   "metadata": {
    "id": "Wp38lmEqnVNM"
   },
   "source": [
    "$$\\hat{r}_{u i}=\\mu+b_{u}+b_{i}+q_{i}^{T} p_{u}$$"
   ]
  },
  {
   "cell_type": "markdown",
   "metadata": {
    "id": "bHVAYuFznVNN"
   },
   "source": [
    "If user $u$ is unknown, then the bias $b_{u}$ and the factors $p_{u}$ are assumed to be zero. The same applies for item $i$ with $b_{i}$ and $q_{i}$."
   ]
  },
  {
   "cell_type": "markdown",
   "metadata": {
    "id": "jCfY5mr7nVNN"
   },
   "source": [
    "To estimate all the unknown, we minimize the following regularized squared error:"
   ]
  },
  {
   "cell_type": "markdown",
   "metadata": {
    "id": "1WyyjmK7nVNN"
   },
   "source": [
    "$$\\sum_{r_{u i} \\in R_{\\text {train }}}\\left(r_{u i}-\\hat{r}_{u i}\\right)^{2}+\\lambda\\left(b_{i}^{2}+b_{u}^{2}+\\left\\|q_{i}\\right\\|^{2}+\\left\\|p_{u}\\right\\|^{2}\\right)$$"
   ]
  },
  {
   "cell_type": "markdown",
   "metadata": {
    "id": "-GBMNL9qnVNN"
   },
   "source": [
    "The minimization is performed by a very straightforward **stochastic gradient descent**:"
   ]
  },
  {
   "cell_type": "markdown",
   "metadata": {
    "id": "CwJJRsJGnVNN"
   },
   "source": [
    "$$\\begin{aligned} b_{u} & \\leftarrow b_{u}+\\gamma\\left(e_{u i}-\\lambda b_{u}\\right) \\\\ b_{i} & \\leftarrow b_{i}+\\gamma\\left(e_{u i}-\\lambda b_{i}\\right) \\\\ p_{u} & \\leftarrow p_{u}+\\gamma\\left(e_{u i} \\cdot q_{i}-\\lambda p_{u}\\right) \\\\ q_{i} & \\leftarrow q_{i}+\\gamma\\left(e_{u i} \\cdot p_{u}-\\lambda q_{i}\\right) \\end{aligned}$$"
   ]
  },
  {
   "cell_type": "markdown",
   "metadata": {
    "id": "nuRjcsUknVNN"
   },
   "source": [
    "There are many hyperparameters to tune in this algorithm, you can find a full list of hyperparameters [here](https://surprise.readthedocs.io/en/stable/matrix_factorization.html#surprise.prediction_algorithms.matrix_factorization.SVD)"
   ]
  },
  {
   "cell_type": "markdown",
   "metadata": {
    "id": "iQcDPhhcnVNN"
   },
   "source": [
    "Below we will be tuning only three hyperparameters -\n",
    "- **n_epochs**: The number of iteration of the SGD algorithm\n",
    "- **lr_all**: The learning rate for all parameters\n",
    "- **reg_all**: The regularization term for all parameters"
   ]
  },
  {
   "cell_type": "markdown",
   "metadata": {
    "id": "fTJ_9Doi6Z1r"
   },
   "source": [
    "#### Q 5.3 Perform hyperparameter tuning for the baseline SVD based collaborative filtering recommendation system and find the RMSE for tuned SVD based collaborative filtering recommendation system? (3 Marks)"
   ]
  },
  {
   "cell_type": "code",
   "execution_count": 57,
   "metadata": {
    "colab": {
     "base_uri": "https://localhost:8080/"
    },
    "executionInfo": {
     "elapsed": 294244,
     "status": "ok",
     "timestamp": 1647184276557,
     "user": {
      "displayName": "Adunife Kizito Okoye",
      "photoUrl": "https://lh3.googleusercontent.com/a/default-user=s64",
      "userId": "17796381864439381022"
     },
     "user_tz": 240
    },
    "id": "4bM81V_hvtwv",
    "outputId": "0154fa01-fb8e-4086-8e58-6688115b630a"
   },
   "outputs": [
    {
     "name": "stdout",
     "output_type": "stream",
     "text": [
      "0.8983315440032964\n",
      "{'n_epochs': 20, 'lr_all': 0.01, 'reg_all': 0.2}\n"
     ]
    }
   ],
   "source": [
    "# set the parameter space to tune\n",
    "param_grid = {'n_epochs': [10, 20, 30], 'lr_all': [0.001, 0.005, 0.01],\n",
    "              'reg_all': [0.2, 0.4, 0.6]}\n",
    "\n",
    "# performing 3-fold gridsearch cross validation\n",
    "gs = GridSearchCV(SVD, param_grid, measures=['rmse', 'mae'], cv=3, n_jobs=-1)\n",
    "\n",
    "# fitting data\n",
    "gs.fit(data)\n",
    "\n",
    "# best RMSE score\n",
    "print(gs.best_score['rmse'])\n",
    "\n",
    "# combination of parameters that gave the best RMSE score\n",
    "print(gs.best_params['rmse'])"
   ]
  },
  {
   "cell_type": "markdown",
   "metadata": {
    "id": "cjIaWSIAnVNN"
   },
   "source": [
    "Once the grid search is complete, we can get the optimal values for each of those hyperparameters as shown above"
   ]
  },
  {
   "cell_type": "markdown",
   "metadata": {
    "id": "2CfLdGf0nVNN"
   },
   "source": [
    "Below we are analysing evaluation metrics - RMSE and MAE at each and every split to analyze the impact of each value of hyperparameters"
   ]
  },
  {
   "cell_type": "code",
   "execution_count": 58,
   "metadata": {
    "colab": {
     "base_uri": "https://localhost:8080/",
     "height": 617
    },
    "executionInfo": {
     "elapsed": 15,
     "status": "ok",
     "timestamp": 1647184276557,
     "user": {
      "displayName": "Adunife Kizito Okoye",
      "photoUrl": "https://lh3.googleusercontent.com/a/default-user=s64",
      "userId": "17796381864439381022"
     },
     "user_tz": 240
    },
    "id": "RMb3t3z_vt8W",
    "outputId": "51d95c60-14c0-4fac-803f-59cdfd875760"
   },
   "outputs": [
    {
     "data": {
      "text/html": [
       "\n",
       "  <div id=\"df-3d34b874-c839-4068-9d19-75e73b776151\">\n",
       "    <div class=\"colab-df-container\">\n",
       "      <div>\n",
       "<style scoped>\n",
       "    .dataframe tbody tr th:only-of-type {\n",
       "        vertical-align: middle;\n",
       "    }\n",
       "\n",
       "    .dataframe tbody tr th {\n",
       "        vertical-align: top;\n",
       "    }\n",
       "\n",
       "    .dataframe thead th {\n",
       "        text-align: right;\n",
       "    }\n",
       "</style>\n",
       "<table border=\"1\" class=\"dataframe\">\n",
       "  <thead>\n",
       "    <tr style=\"text-align: right;\">\n",
       "      <th></th>\n",
       "      <th>split0_test_rmse</th>\n",
       "      <th>split1_test_rmse</th>\n",
       "      <th>split2_test_rmse</th>\n",
       "      <th>mean_test_rmse</th>\n",
       "      <th>std_test_rmse</th>\n",
       "      <th>rank_test_rmse</th>\n",
       "      <th>split0_test_mae</th>\n",
       "      <th>split1_test_mae</th>\n",
       "      <th>split2_test_mae</th>\n",
       "      <th>mean_test_mae</th>\n",
       "      <th>std_test_mae</th>\n",
       "      <th>rank_test_mae</th>\n",
       "      <th>mean_fit_time</th>\n",
       "      <th>std_fit_time</th>\n",
       "      <th>mean_test_time</th>\n",
       "      <th>std_test_time</th>\n",
       "      <th>params</th>\n",
       "      <th>param_n_epochs</th>\n",
       "      <th>param_lr_all</th>\n",
       "      <th>param_reg_all</th>\n",
       "    </tr>\n",
       "  </thead>\n",
       "  <tbody>\n",
       "    <tr>\n",
       "      <th>0</th>\n",
       "      <td>0.944150</td>\n",
       "      <td>0.957454</td>\n",
       "      <td>0.960411</td>\n",
       "      <td>0.954005</td>\n",
       "      <td>0.007072</td>\n",
       "      <td>26</td>\n",
       "      <td>0.732725</td>\n",
       "      <td>0.738873</td>\n",
       "      <td>0.742047</td>\n",
       "      <td>0.737882</td>\n",
       "      <td>0.003870</td>\n",
       "      <td>25</td>\n",
       "      <td>2.972374</td>\n",
       "      <td>0.268225</td>\n",
       "      <td>0.508585</td>\n",
       "      <td>0.029019</td>\n",
       "      <td>{'n_epochs': 10, 'lr_all': 0.001, 'reg_all': 0.2}</td>\n",
       "      <td>10</td>\n",
       "      <td>0.001</td>\n",
       "      <td>0.2</td>\n",
       "    </tr>\n",
       "    <tr>\n",
       "      <th>1</th>\n",
       "      <td>0.943996</td>\n",
       "      <td>0.957837</td>\n",
       "      <td>0.960063</td>\n",
       "      <td>0.953965</td>\n",
       "      <td>0.007108</td>\n",
       "      <td>25</td>\n",
       "      <td>0.733385</td>\n",
       "      <td>0.740144</td>\n",
       "      <td>0.742464</td>\n",
       "      <td>0.738664</td>\n",
       "      <td>0.003851</td>\n",
       "      <td>26</td>\n",
       "      <td>3.066909</td>\n",
       "      <td>0.057457</td>\n",
       "      <td>0.462967</td>\n",
       "      <td>0.047840</td>\n",
       "      <td>{'n_epochs': 10, 'lr_all': 0.001, 'reg_all': 0.4}</td>\n",
       "      <td>10</td>\n",
       "      <td>0.001</td>\n",
       "      <td>0.4</td>\n",
       "    </tr>\n",
       "    <tr>\n",
       "      <th>2</th>\n",
       "      <td>0.944512</td>\n",
       "      <td>0.958001</td>\n",
       "      <td>0.960652</td>\n",
       "      <td>0.954388</td>\n",
       "      <td>0.007067</td>\n",
       "      <td>27</td>\n",
       "      <td>0.735112</td>\n",
       "      <td>0.740763</td>\n",
       "      <td>0.744407</td>\n",
       "      <td>0.740094</td>\n",
       "      <td>0.003824</td>\n",
       "      <td>27</td>\n",
       "      <td>2.825879</td>\n",
       "      <td>0.092318</td>\n",
       "      <td>0.441769</td>\n",
       "      <td>0.067680</td>\n",
       "      <td>{'n_epochs': 10, 'lr_all': 0.001, 'reg_all': 0.6}</td>\n",
       "      <td>10</td>\n",
       "      <td>0.001</td>\n",
       "      <td>0.6</td>\n",
       "    </tr>\n",
       "    <tr>\n",
       "      <th>3</th>\n",
       "      <td>0.904124</td>\n",
       "      <td>0.915355</td>\n",
       "      <td>0.920314</td>\n",
       "      <td>0.913264</td>\n",
       "      <td>0.006773</td>\n",
       "      <td>16</td>\n",
       "      <td>0.679907</td>\n",
       "      <td>0.685629</td>\n",
       "      <td>0.690413</td>\n",
       "      <td>0.685316</td>\n",
       "      <td>0.004295</td>\n",
       "      <td>16</td>\n",
       "      <td>2.971398</td>\n",
       "      <td>0.034338</td>\n",
       "      <td>0.527722</td>\n",
       "      <td>0.076917</td>\n",
       "      <td>{'n_epochs': 10, 'lr_all': 0.005, 'reg_all': 0.2}</td>\n",
       "      <td>10</td>\n",
       "      <td>0.005</td>\n",
       "      <td>0.2</td>\n",
       "    </tr>\n",
       "    <tr>\n",
       "      <th>4</th>\n",
       "      <td>0.903287</td>\n",
       "      <td>0.916792</td>\n",
       "      <td>0.920429</td>\n",
       "      <td>0.913503</td>\n",
       "      <td>0.007375</td>\n",
       "      <td>17</td>\n",
       "      <td>0.683611</td>\n",
       "      <td>0.690909</td>\n",
       "      <td>0.694551</td>\n",
       "      <td>0.689690</td>\n",
       "      <td>0.004549</td>\n",
       "      <td>17</td>\n",
       "      <td>2.894121</td>\n",
       "      <td>0.062524</td>\n",
       "      <td>0.450205</td>\n",
       "      <td>0.115656</td>\n",
       "      <td>{'n_epochs': 10, 'lr_all': 0.005, 'reg_all': 0.4}</td>\n",
       "      <td>10</td>\n",
       "      <td>0.005</td>\n",
       "      <td>0.4</td>\n",
       "    </tr>\n",
       "  </tbody>\n",
       "</table>\n",
       "</div>\n",
       "      <button class=\"colab-df-convert\" onclick=\"convertToInteractive('df-3d34b874-c839-4068-9d19-75e73b776151')\"\n",
       "              title=\"Convert this dataframe to an interactive table.\"\n",
       "              style=\"display:none;\">\n",
       "        \n",
       "  <svg xmlns=\"http://www.w3.org/2000/svg\" height=\"24px\"viewBox=\"0 0 24 24\"\n",
       "       width=\"24px\">\n",
       "    <path d=\"M0 0h24v24H0V0z\" fill=\"none\"/>\n",
       "    <path d=\"M18.56 5.44l.94 2.06.94-2.06 2.06-.94-2.06-.94-.94-2.06-.94 2.06-2.06.94zm-11 1L8.5 8.5l.94-2.06 2.06-.94-2.06-.94L8.5 2.5l-.94 2.06-2.06.94zm10 10l.94 2.06.94-2.06 2.06-.94-2.06-.94-.94-2.06-.94 2.06-2.06.94z\"/><path d=\"M17.41 7.96l-1.37-1.37c-.4-.4-.92-.59-1.43-.59-.52 0-1.04.2-1.43.59L10.3 9.45l-7.72 7.72c-.78.78-.78 2.05 0 2.83L4 21.41c.39.39.9.59 1.41.59.51 0 1.02-.2 1.41-.59l7.78-7.78 2.81-2.81c.8-.78.8-2.07 0-2.86zM5.41 20L4 18.59l7.72-7.72 1.47 1.35L5.41 20z\"/>\n",
       "  </svg>\n",
       "      </button>\n",
       "      \n",
       "  <style>\n",
       "    .colab-df-container {\n",
       "      display:flex;\n",
       "      flex-wrap:wrap;\n",
       "      gap: 12px;\n",
       "    }\n",
       "\n",
       "    .colab-df-convert {\n",
       "      background-color: #E8F0FE;\n",
       "      border: none;\n",
       "      border-radius: 50%;\n",
       "      cursor: pointer;\n",
       "      display: none;\n",
       "      fill: #1967D2;\n",
       "      height: 32px;\n",
       "      padding: 0 0 0 0;\n",
       "      width: 32px;\n",
       "    }\n",
       "\n",
       "    .colab-df-convert:hover {\n",
       "      background-color: #E2EBFA;\n",
       "      box-shadow: 0px 1px 2px rgba(60, 64, 67, 0.3), 0px 1px 3px 1px rgba(60, 64, 67, 0.15);\n",
       "      fill: #174EA6;\n",
       "    }\n",
       "\n",
       "    [theme=dark] .colab-df-convert {\n",
       "      background-color: #3B4455;\n",
       "      fill: #D2E3FC;\n",
       "    }\n",
       "\n",
       "    [theme=dark] .colab-df-convert:hover {\n",
       "      background-color: #434B5C;\n",
       "      box-shadow: 0px 1px 3px 1px rgba(0, 0, 0, 0.15);\n",
       "      filter: drop-shadow(0px 1px 2px rgba(0, 0, 0, 0.3));\n",
       "      fill: #FFFFFF;\n",
       "    }\n",
       "  </style>\n",
       "\n",
       "      <script>\n",
       "        const buttonEl =\n",
       "          document.querySelector('#df-3d34b874-c839-4068-9d19-75e73b776151 button.colab-df-convert');\n",
       "        buttonEl.style.display =\n",
       "          google.colab.kernel.accessAllowed ? 'block' : 'none';\n",
       "\n",
       "        async function convertToInteractive(key) {\n",
       "          const element = document.querySelector('#df-3d34b874-c839-4068-9d19-75e73b776151');\n",
       "          const dataTable =\n",
       "            await google.colab.kernel.invokeFunction('convertToInteractive',\n",
       "                                                     [key], {});\n",
       "          if (!dataTable) return;\n",
       "\n",
       "          const docLinkHtml = 'Like what you see? Visit the ' +\n",
       "            '<a target=\"_blank\" href=https://colab.research.google.com/notebooks/data_table.ipynb>data table notebook</a>'\n",
       "            + ' to learn more about interactive tables.';\n",
       "          element.innerHTML = '';\n",
       "          dataTable['output_type'] = 'display_data';\n",
       "          await google.colab.output.renderOutput(dataTable, element);\n",
       "          const docLink = document.createElement('div');\n",
       "          docLink.innerHTML = docLinkHtml;\n",
       "          element.appendChild(docLink);\n",
       "        }\n",
       "      </script>\n",
       "    </div>\n",
       "  </div>\n",
       "  "
      ],
      "text/plain": [
       "   split0_test_rmse  split1_test_rmse  split2_test_rmse  mean_test_rmse  \\\n",
       "0          0.944150          0.957454          0.960411        0.954005   \n",
       "1          0.943996          0.957837          0.960063        0.953965   \n",
       "2          0.944512          0.958001          0.960652        0.954388   \n",
       "3          0.904124          0.915355          0.920314        0.913264   \n",
       "4          0.903287          0.916792          0.920429        0.913503   \n",
       "\n",
       "   std_test_rmse  rank_test_rmse  split0_test_mae  split1_test_mae  \\\n",
       "0       0.007072              26         0.732725         0.738873   \n",
       "1       0.007108              25         0.733385         0.740144   \n",
       "2       0.007067              27         0.735112         0.740763   \n",
       "3       0.006773              16         0.679907         0.685629   \n",
       "4       0.007375              17         0.683611         0.690909   \n",
       "\n",
       "   split2_test_mae  mean_test_mae  std_test_mae  rank_test_mae  mean_fit_time  \\\n",
       "0         0.742047       0.737882      0.003870             25       2.972374   \n",
       "1         0.742464       0.738664      0.003851             26       3.066909   \n",
       "2         0.744407       0.740094      0.003824             27       2.825879   \n",
       "3         0.690413       0.685316      0.004295             16       2.971398   \n",
       "4         0.694551       0.689690      0.004549             17       2.894121   \n",
       "\n",
       "   std_fit_time  mean_test_time  std_test_time  \\\n",
       "0      0.268225        0.508585       0.029019   \n",
       "1      0.057457        0.462967       0.047840   \n",
       "2      0.092318        0.441769       0.067680   \n",
       "3      0.034338        0.527722       0.076917   \n",
       "4      0.062524        0.450205       0.115656   \n",
       "\n",
       "                                              params  param_n_epochs  \\\n",
       "0  {'n_epochs': 10, 'lr_all': 0.001, 'reg_all': 0.2}              10   \n",
       "1  {'n_epochs': 10, 'lr_all': 0.001, 'reg_all': 0.4}              10   \n",
       "2  {'n_epochs': 10, 'lr_all': 0.001, 'reg_all': 0.6}              10   \n",
       "3  {'n_epochs': 10, 'lr_all': 0.005, 'reg_all': 0.2}              10   \n",
       "4  {'n_epochs': 10, 'lr_all': 0.005, 'reg_all': 0.4}              10   \n",
       "\n",
       "   param_lr_all  param_reg_all  \n",
       "0         0.001            0.2  \n",
       "1         0.001            0.4  \n",
       "2         0.001            0.6  \n",
       "3         0.005            0.2  \n",
       "4         0.005            0.4  "
      ]
     },
     "execution_count": 58,
     "metadata": {},
     "output_type": "execute_result"
    }
   ],
   "source": [
    "results_df = pd.DataFrame.from_dict(gs.cv_results)\n",
    "results_df.head()"
   ]
  },
  {
   "cell_type": "markdown",
   "metadata": {
    "id": "KzY78HsrnVNO"
   },
   "source": [
    "Now we will building final model by using tuned values of the hyperparameters which we received by using grid search cross validation"
   ]
  },
  {
   "cell_type": "code",
   "execution_count": 59,
   "metadata": {
    "colab": {
     "base_uri": "https://localhost:8080/"
    },
    "executionInfo": {
     "elapsed": 2007,
     "status": "ok",
     "timestamp": 1647184278551,
     "user": {
      "displayName": "Adunife Kizito Okoye",
      "photoUrl": "https://lh3.googleusercontent.com/a/default-user=s64",
      "userId": "17796381864439381022"
     },
     "user_tz": 240
    },
    "id": "TA_7xe-nnhuu",
    "outputId": "d77ff247-8871-4268-b570-d75b0e051b90"
   },
   "outputs": [
    {
     "name": "stdout",
     "output_type": "stream",
     "text": [
      "RMSE: 0.9235\n"
     ]
    },
    {
     "data": {
      "text/plain": [
       "0.9235202403147253"
      ]
     },
     "execution_count": 59,
     "metadata": {},
     "output_type": "execute_result"
    }
   ],
   "source": [
    "# building the optimized SVD model using optimal hyperparameter search\n",
    "svd_algo_optimized = SVD(n_epochs=20, lr_all=0.01, reg_all=0.2)\n",
    "\n",
    "# training the algorithm on the trainset\n",
    "svd_algo_optimized.fit(trainset)\n",
    "\n",
    "# predicting ratings for the testset\n",
    "predictions = svd_algo_optimized.test(testset)\n",
    "\n",
    "# computing RMSE\n",
    "accuracy.rmse(predictions)"
   ]
  },
  {
   "cell_type": "markdown",
   "metadata": {
    "id": "-TYTJrFc6Z1s"
   },
   "source": [
    "#### Q 5.4 What is the Predicted rating for an user with userId=0 and for itemId= 3906 and itemId=100 using SVD based collaborative filtering? (1 Mark)"
   ]
  },
  {
   "cell_type": "markdown",
   "metadata": {
    "id": "md0-dL56nVNO"
   },
   "source": [
    "Let's us now predict rating for an user with `userId=0` and for `itemId=3906` with the optimized model as shown below"
   ]
  },
  {
   "cell_type": "code",
   "execution_count": 60,
   "metadata": {
    "colab": {
     "base_uri": "https://localhost:8080/"
    },
    "executionInfo": {
     "elapsed": 10,
     "status": "ok",
     "timestamp": 1647184278552,
     "user": {
      "displayName": "Adunife Kizito Okoye",
      "photoUrl": "https://lh3.googleusercontent.com/a/default-user=s64",
      "userId": "17796381864439381022"
     },
     "user_tz": 240
    },
    "id": "s6C1PAfboM8_",
    "outputId": "52daf00a-5587-46cf-9e38-7a44878c3f1a"
   },
   "outputs": [
    {
     "name": "stdout",
     "output_type": "stream",
     "text": [
      "user: 0          item: 3906       r_ui = 4.00   est = 4.62   {'was_impossible': False}\n"
     ]
    },
    {
     "data": {
      "text/plain": [
       "Prediction(uid=0, iid=3906, r_ui=4, est=4.616463084596037, details={'was_impossible': False})"
      ]
     },
     "execution_count": 60,
     "metadata": {},
     "output_type": "execute_result"
    }
   ],
   "source": [
    "svd_algo_optimized.predict(0,3906, r_ui=4, verbose=True)"
   ]
  },
  {
   "cell_type": "markdown",
   "metadata": {
    "id": "VdiEtzEznVNO"
   },
   "source": [
    "\n",
    "**Write your Answer here:**\n",
    "\n",
    "If we compare the above predicted rating, we can see the baseline model predicted rating as `4.75` and the optimized model predicted the rating as `4.79`. whereas the actual rating is `4`."
   ]
  },
  {
   "cell_type": "code",
   "execution_count": 61,
   "metadata": {
    "colab": {
     "base_uri": "https://localhost:8080/"
    },
    "executionInfo": {
     "elapsed": 6,
     "status": "ok",
     "timestamp": 1647184278552,
     "user": {
      "displayName": "Adunife Kizito Okoye",
      "photoUrl": "https://lh3.googleusercontent.com/a/default-user=s64",
      "userId": "17796381864439381022"
     },
     "user_tz": 240
    },
    "id": "k1xjn3kOoQyg",
    "outputId": "8b825fa7-3c9f-4088-cec3-fa0ba86b55f8"
   },
   "outputs": [
    {
     "name": "stdout",
     "output_type": "stream",
     "text": [
      "user: 0          item: 100        r_ui = None   est = 4.63   {'was_impossible': False}\n"
     ]
    },
    {
     "data": {
      "text/plain": [
       "Prediction(uid=0, iid=100, r_ui=None, est=4.62645966875175, details={'was_impossible': False})"
      ]
     },
     "execution_count": 61,
     "metadata": {},
     "output_type": "execute_result"
    }
   ],
   "source": [
    "svd_algo_optimized.predict(0,100, verbose=True)"
   ]
  },
  {
   "cell_type": "markdown",
   "metadata": {
    "id": "xNy4VoXW6Z1s"
   },
   "source": [
    "#### Q 5.5 Predict the top 5 items for userId=4 with SVD based recommendation system ?"
   ]
  },
  {
   "cell_type": "code",
   "execution_count": 62,
   "metadata": {
    "colab": {
     "base_uri": "https://localhost:8080/"
    },
    "executionInfo": {
     "elapsed": 195,
     "status": "ok",
     "timestamp": 1647184278744,
     "user": {
      "displayName": "Adunife Kizito Okoye",
      "photoUrl": "https://lh3.googleusercontent.com/a/default-user=s64",
      "userId": "17796381864439381022"
     },
     "user_tz": 240
    },
    "id": "1LGeE2EB_n90",
    "outputId": "0d2325c8-73bf-4704-fd0f-dcd48523a9bf"
   },
   "outputs": [
    {
     "data": {
      "text/plain": [
       "[(4638, 4.9774120204943575),\n",
       " (3810, 4.97205522486356),\n",
       " (920, 4.951628437771573),\n",
       " (3436, 4.951401589090739),\n",
       " (5194, 4.945136705527315)]"
      ]
     },
     "execution_count": 62,
     "metadata": {},
     "output_type": "execute_result"
    }
   ],
   "source": [
    "get_recommendations(df,4, 5, svd_algo_optimized)"
   ]
  },
  {
   "cell_type": "markdown",
   "metadata": {
    "id": "xgKmqss1vqGz"
   },
   "source": [
    "### Predicting ratings for already interacted items"
   ]
  },
  {
   "cell_type": "markdown",
   "metadata": {
    "id": "eEHotB5bhFYE"
   },
   "source": [
    "Below we are comparing the rating predictions of users for those items which has been already watched by an user. This will help us to understand how well are predictions are as compared to the actual ratings provided by users"
   ]
  },
  {
   "cell_type": "code",
   "execution_count": 63,
   "metadata": {
    "executionInfo": {
     "elapsed": 3,
     "status": "ok",
     "timestamp": 1647184278745,
     "user": {
      "displayName": "Adunife Kizito Okoye",
      "photoUrl": "https://lh3.googleusercontent.com/a/default-user=s64",
      "userId": "17796381864439381022"
     },
     "user_tz": 240
    },
    "id": "hQIPHA7-vg7W"
   },
   "outputs": [],
   "source": [
    "def predict_already_interacted_ratings(data, user_id, algo):\n",
    "    \n",
    "    # creating an empty list to store the recommended item ids\n",
    "    recommendations = []\n",
    "    \n",
    "    # creating an user item interactions matrix \n",
    "    user_item_interactions_matrix = data.pivot(index='user_id', columns='item_id', values='rating')\n",
    "    \n",
    "    # extracting those item ids which the user_id has interacted already\n",
    "    interacted_items = user_item_interactions_matrix.loc[user_id][user_item_interactions_matrix.loc[user_id].notnull()].index.tolist()\n",
    "    \n",
    "    # looping through each of the item id which user_id has interacted already\n",
    "    for item_id in interacted_items:\n",
    "        \n",
    "        # extracting actual ratings\n",
    "        actual_rating = user_item_interactions_matrix.loc[user_id, item_id]\n",
    "        \n",
    "        # predicting the ratings for those non interacted item ids by this user\n",
    "        predicted_rating = algo.predict(user_id, item_id).est\n",
    "        \n",
    "        # appending the predicted ratings\n",
    "        recommendations.append((item_id, actual_rating, predicted_rating))\n",
    "\n",
    "    # sorting the predicted ratings in descending order\n",
    "    recommendations.sort(key=lambda x: x[1], reverse=True)\n",
    "\n",
    "    return pd.DataFrame(recommendations, columns=['itemId', 'actual_rating', 'predicted_rating']) # returing top n highest predicted rating items for this user"
   ]
  },
  {
   "cell_type": "markdown",
   "metadata": {
    "id": "wqfd_lnnhFYE"
   },
   "source": [
    "Here we are comparing the predicted ratings by `similarity based recommendation` system against actual ratings for `userId=4`"
   ]
  },
  {
   "cell_type": "code",
   "execution_count": 64,
   "metadata": {
    "colab": {
     "base_uri": "https://localhost:8080/",
     "height": 368
    },
    "executionInfo": {
     "elapsed": 777,
     "status": "ok",
     "timestamp": 1647184279520,
     "user": {
      "displayName": "Adunife Kizito Okoye",
      "photoUrl": "https://lh3.googleusercontent.com/a/default-user=s64",
      "userId": "17796381864439381022"
     },
     "user_tz": 240
    },
    "id": "IWQvGj-vyWj3",
    "outputId": "91c17cfd-fcd4-47f6-9018-4e4a0c5edd04",
    "scrolled": false
   },
   "outputs": [
    {
     "data": {
      "image/png": "[encoded data removed]",
      "text/plain": [
       "<Figure size 478.125x360 with 1 Axes>"
      ]
     },
     "metadata": {
      "needs_background": "light"
     },
     "output_type": "display_data"
    }
   ],
   "source": [
    "predicted_ratings_for_interacted_items = predict_already_interacted_ratings(df,4, similarity_algo_optimized)\n",
    "data = predicted_ratings_for_interacted_items.melt(id_vars='itemId', value_vars=['actual_rating', 'predicted_rating'])\n",
    "sns.displot(data=data, x='value', hue='variable', kde=True);"
   ]
  },
  {
   "cell_type": "markdown",
   "metadata": {
    "id": "7E6K5sFrhFYE"
   },
   "source": [
    "**Write your Answer here:**\n",
    "\n",
    "- We can see that distribution of predicted ratings is closely following the distribution of actual ratings. The total bins for predicted ratings are nearly same as to the total bins for actual ratings.\n",
    "- We are getting more predicted values in between 4 and 5,this is expected, as actual ratings always have discreet values like 1, 2, 3, 4, 5, but predicted ratings can have continuous values as we are taking aggregated ratings from the nearest neighbors of a given user. But over the predictions looks good as compared to the distribution of actual ratings."
   ]
  },
  {
   "cell_type": "markdown",
   "metadata": {
    "id": "dD6iLaDLhFYF"
   },
   "source": [
    "Below we are comparing the predicted ratings by `matrix factorization based recommendation` system against actual ratings for `userId=4`"
   ]
  },
  {
   "cell_type": "code",
   "execution_count": 65,
   "metadata": {
    "colab": {
     "base_uri": "https://localhost:8080/",
     "height": 368
    },
    "executionInfo": {
     "elapsed": 726,
     "status": "ok",
     "timestamp": 1647184280243,
     "user": {
      "displayName": "Adunife Kizito Okoye",
      "photoUrl": "https://lh3.googleusercontent.com/a/default-user=s64",
      "userId": "17796381864439381022"
     },
     "user_tz": 240
    },
    "id": "6lYjMDhU0xuQ",
    "outputId": "1691a690-7587-4df1-bb8e-ab3ea36d52ff"
   },
   "outputs": [
    {
     "data": {
      "image/png": "[encoded data removed]",
      "text/plain": [
       "<Figure size 478.125x360 with 1 Axes>"
      ]
     },
     "metadata": {
      "needs_background": "light"
     },
     "output_type": "display_data"
    }
   ],
   "source": [
    "predicted_ratings_for_interacted_items = predict_already_interacted_ratings(df,4, svd_algo_optimized)\n",
    "data = predicted_ratings_for_interacted_items.melt(id_vars='itemId', value_vars=['actual_rating', 'predicted_rating'])\n",
    "sns.displot(data=data, x='value', hue='variable', kde=True);"
   ]
  },
  {
   "cell_type": "code",
   "execution_count": 66,
   "metadata": {
    "executionInfo": {
     "elapsed": 238,
     "status": "ok",
     "timestamp": 1647184280478,
     "user": {
      "displayName": "Adunife Kizito Okoye",
      "photoUrl": "https://lh3.googleusercontent.com/a/default-user=s64",
      "userId": "17796381864439381022"
     },
     "user_tz": 240
    },
    "id": "oiQ7WxNZ6Z1u"
   },
   "outputs": [],
   "source": [
    "# instantiating Reader scale with expected rating scale\n",
    "reader = Reader(rating_scale=(0, 5))\n",
    "\n",
    "# loading the rating dataset\n",
    "data = Dataset.load_from_df(rating[['user_id', 'item_id', 'rating']], reader)\n",
    "\n",
    "# splitting the data into train and test dataset\n",
    "trainset, testset = train_test_split(data, test_size=0.2, random_state=42)"
   ]
  },
  {
   "cell_type": "markdown",
   "metadata": {
    "id": "qVjTo-Ye6Z1u"
   },
   "source": [
    "## Precision and Recall @ k\n",
    "\n",
    "RMSE is not the only metric we can use here. We can also examine two fundamental measures, precision and recall. We also add a parameter k which is helpful in understanding problems with multiple rating outputs.\n",
    "\n",
    "See the Precision and Recall @ k section of your notebook and follow the instructions to compute various precision/recall values at various values of k.\n",
    "\n",
    "To know more about precision recall in Recommendation systems refer to these links : \n",
    "\n",
    "https://surprise.readthedocs.io/en/stable/FAQ.html\n",
    "\n",
    "https://medium.com/@m_n_malaeb/recall-and-precision-at-k-for-recommender-systems-618483226c54"
   ]
  },
  {
   "cell_type": "markdown",
   "metadata": {
    "id": "pobXSzh26Z1u"
   },
   "source": [
    "### Question6: Compute the precision and recall, for each of the 6 models, at k = 5 and 10. This is 6 x 2 = 12 numerical values. Do you note anything interesting about these values?  (4 Marks)"
   ]
  },
  {
   "cell_type": "code",
   "execution_count": 67,
   "metadata": {
    "executionInfo": {
     "elapsed": 148,
     "status": "ok",
     "timestamp": 1647184280624,
     "user": {
      "displayName": "Adunife Kizito Okoye",
      "photoUrl": "https://lh3.googleusercontent.com/a/default-user=s64",
      "userId": "17796381864439381022"
     },
     "user_tz": 240
    },
    "id": "JdD-MrbzhFYF"
   },
   "outputs": [],
   "source": [
    "from collections import defaultdict\n",
    "#function can be found on surprise documentation FAQs\n",
    "def precision_recall_at_k(predictions, k=10, threshold=3.5):\n",
    "    \"\"\"Return precision and recall at k metrics for each user\"\"\"\n",
    "\n",
    "    # First map the predictions to each user.\n",
    "    user_est_true = defaultdict(list)\n",
    "    for uid, _, true_r, est, _ in predictions:\n",
    "        user_est_true[uid].append((est, true_r))\n",
    "\n",
    "    precisions = dict()\n",
    "    recalls = dict()\n",
    "    for uid, user_ratings in user_est_true.items():\n",
    "\n",
    "        # Sort user ratings by estimated value\n",
    "        user_ratings.sort(key=lambda x: x[0], reverse=True)\n",
    "\n",
    "        # Number of relevant items\n",
    "        n_rel = sum((true_r >= threshold) for (_, true_r) in user_ratings)\n",
    "\n",
    "        # Number of recommended items in top k\n",
    "        n_rec_k = sum((est >= threshold) for (est, _) in user_ratings[:k])\n",
    "\n",
    "        # Number of relevant and recommended items in top k\n",
    "        n_rel_and_rec_k = sum(((true_r >= threshold) and (est >= threshold))\n",
    "                              for (est, true_r) in user_ratings[:k])\n",
    "\n",
    "        # Precision@K: Proportion of recommended items that are relevant\n",
    "        # When n_rec_k is 0, Precision is undefined. We here set it to 0.\n",
    "\n",
    "        precisions[uid] = n_rel_and_rec_k / n_rec_k if n_rec_k != 0 else 0\n",
    "\n",
    "        # Recall@K: Proportion of relevant items that are recommended\n",
    "        # When n_rel is 0, Recall is undefined. We here set it to 0.\n",
    "\n",
    "        recalls[uid] = n_rel_and_rec_k / n_rel if n_rel != 0 else 0\n",
    "\n",
    "    return precisions, recalls"
   ]
  },
  {
   "cell_type": "code",
   "execution_count": 68,
   "metadata": {
    "colab": {
     "base_uri": "https://localhost:8080/"
    },
    "executionInfo": {
     "elapsed": 188935,
     "status": "ok",
     "timestamp": 1647184469557,
     "user": {
      "displayName": "Adunife Kizito Okoye",
      "photoUrl": "https://lh3.googleusercontent.com/a/default-user=s64",
      "userId": "17796381864439381022"
     },
     "user_tz": 240
    },
    "id": "6jmohp85hFYF",
    "outputId": "7901cfe2-7f4e-4f4f-b8e3-11f7e09d5e24"
   },
   "outputs": [
    {
     "name": "stdout",
     "output_type": "stream",
     "text": [
      "> k=5, model=KNNBasic\n",
      "-----> Precision:  0.866\n",
      "-----> Recall:  0.688\n",
      "> k=5, model=KNNBasic\n",
      "Computing the cosine similarity matrix...\n",
      "Done computing similarity matrix.\n",
      "Computing the cosine similarity matrix...\n",
      "Done computing similarity matrix.\n",
      "Computing the cosine similarity matrix...\n",
      "Done computing similarity matrix.\n",
      "Computing the cosine similarity matrix...\n",
      "Done computing similarity matrix.\n",
      "Computing the cosine similarity matrix...\n",
      "Done computing similarity matrix.\n",
      "-----> Precision:  0.859\n",
      "-----> Recall:  0.701\n",
      "> k=5, model=KNNBasic\n",
      "-----> Precision:  0.836\n",
      "-----> Recall:  0.66\n",
      "> k=5, model=KNNBasic\n",
      "-----> Precision:  0.842\n",
      "-----> Recall:  0.689\n",
      "> k=5, model=SVD\n",
      "-----> Precision:  0.867\n",
      "-----> Recall:  0.694\n",
      "> k=5, model=SVD\n",
      "-----> Precision:  0.872\n",
      "-----> Recall:  0.698\n",
      "> k=10, model=KNNBasic\n",
      "-----> Precision:  0.853\n",
      "-----> Recall:  0.861\n",
      "> k=10, model=KNNBasic\n",
      "Computing the cosine similarity matrix...\n",
      "Done computing similarity matrix.\n",
      "Computing the cosine similarity matrix...\n",
      "Done computing similarity matrix.\n",
      "Computing the cosine similarity matrix...\n",
      "Done computing similarity matrix.\n",
      "Computing the cosine similarity matrix...\n",
      "Done computing similarity matrix.\n",
      "Computing the cosine similarity matrix...\n",
      "Done computing similarity matrix.\n",
      "-----> Precision:  0.845\n",
      "-----> Recall:  0.898\n",
      "> k=10, model=KNNBasic\n",
      "-----> Precision:  0.831\n",
      "-----> Recall:  0.842\n",
      "> k=10, model=KNNBasic\n",
      "-----> Precision:  0.836\n",
      "-----> Recall:  0.889\n",
      "> k=10, model=SVD\n",
      "-----> Precision:  0.849\n",
      "-----> Recall:  0.881\n",
      "> k=10, model=SVD\n",
      "-----> Precision:  0.85\n",
      "-----> Recall:  0.88\n"
     ]
    }
   ],
   "source": [
    "# Make list of k values\n",
    "#A basic cross-validation iterator.\n",
    "from surprise.model_selection import KFold\n",
    "kf = KFold(n_splits=5)\n",
    "K = [5, 10]\n",
    "\n",
    "# Make list of models\n",
    "models = [algo_knn_user, similarity_algo_optimized,algo_knn_item,similarity_algo_optimized_item, algo_svd, svd_algo_optimized]\n",
    "\n",
    "\n",
    "for k in K:\n",
    "    for model in models:\n",
    "        print('> k={}, model={}'.format(k,model.__class__.__name__))\n",
    "        p = []\n",
    "        r = []\n",
    "        for trainset, testset in kf.split(data):\n",
    "            model.fit(trainset)\n",
    "            predictions = model.test(testset, verbose=False)\n",
    "            precisions, recalls = precision_recall_at_k(predictions, k=k, threshold=3.5)\n",
    "\n",
    "            # Precision and recall can then be averaged over all users\n",
    "            p.append(sum(prec for prec in precisions.values()) / len(precisions))\n",
    "            r.append(sum(rec for rec in recalls.values()) / len(recalls))\n",
    "        print('-----> Precision: ', round(sum(p) / len(p), 3))\n",
    "        print('-----> Recall: ', round(sum(r) / len(r), 3))"
   ]
  },
  {
   "cell_type": "markdown",
   "metadata": {
    "id": "yaxmgyx9ROlz"
   },
   "source": [
    "\n",
    "* Collaborative Filtering using user-user based interaction performed well in both the k values with Precision value ~84% (k=10) and with k=5, ~86%.\n",
    "\n",
    "* Tuned SVD has better RMSE than all models but Collaborative Filtering using user-user based interaction is also giving good results based on Precsion and recall @k for K=10. \n",
    "\n",
    "* The final model will denpend on the business requirements as whether they have to minimize RMSE or go with maximizing Precision/Recall. "
   ]
  },
  {
   "cell_type": "markdown",
   "metadata": {
    "id": "hUmTzxjmROl0"
   },
   "source": [
    "### Question 7 ( 5 Marks)\n",
    "#### 7.1 Compare the results from the base line user-user and item-item based models.\n",
    "#### 7.2 How do these baseline models compare to each other with respect to the tuned user-user and item-item models?\n",
    "#### 7.3 The matrix factorization model is different from the collaborative filtering models. Briefly describe this difference. Also, compare the RMSE and precision recall for the models.\n",
    "#### 7.4 Does it improve? Can you offer any reasoning as to why that might be?"
   ]
  },
  {
   "cell_type": "markdown",
   "metadata": {
    "id": "F3fP2JtQROl0"
   },
   "source": [
    "**Write your Answer here:**\n",
    "\n",
    "- User-based and Item-based Collaborative Models have nearly same. User based RMSE values (1.05) while the \"Item based\" model's RMSE is 1.06. Clearly, tuned Collaborative Filtering Models have performed better than baseline model and the user-user based tuned model is performing better and have  rmse of 0.9887\n",
    "\n",
    "- The Collaborative Models use the user-item-ratings data to find similarities and make predictions rather than just predicting a random rating based on the distribution of the data. This could a reason why the Collaborative filtering performed well.\n",
    "\n",
    "- Collaborative Filtering searches for neighbors based on similarity of item (example) preferences and recommend items that those neighbors interacted while Matrix factorization works by decomposing the user-item matrix into the product of two lower dimensionality rectangular matrices.\n",
    "\n",
    "- RMSE for Matrix Factorization (0.92) is better than the Collaborative Filtering Models (~1.00).\n",
    "- Tuning SVD matrix factorization model is not improving the base line SVD much.  \n",
    "- Matrix Factorization has lower RMSE due to the reason that it assumes that both items and users are present in some low dimensional space describing their properties and recommend a item based on its proximity to the user in the latent space. Implying it accounts for latent factors as well."
   ]
  },
  {
   "cell_type": "markdown",
   "metadata": {
    "id": "TgDOPCXOvOOM"
   },
   "source": [
    "### Conclusions"
   ]
  },
  {
   "cell_type": "markdown",
   "metadata": {
    "id": "WJ4L2PwQvOOM"
   },
   "source": [
    "In this case study, we saw three different ways of building recommendation systems: \n",
    "- rank-based using averages\n",
    "- similarity-based collaborative filtering\n",
    "- model-based (matrix factorization) collaborative filtering"
   ]
  },
  {
   "cell_type": "markdown",
   "metadata": {
    "id": "4XP9B9bVvOOM"
   },
   "source": [
    "We also understood advantages/disadvantages of these recommendation systems and when to use which kind of recommendation systems. Once we build these recommendation systems, we can use **A/B Testing** to measure the effectiveness of these systems."
   ]
  },
  {
   "cell_type": "markdown",
   "metadata": {
    "id": "fAQfeVYLvOOM"
   },
   "source": [
    "Here is an article explaining how [Amazon use **A/B Testing**](https://aws.amazon.com/blogs/machine-learning/using-a-b-testing-to-measure-the-efficacy-of-recommendations-generated-by-amazon-personalize/) to measure effectiveness of its recommendation systems."
   ]
  }
 ],
 "metadata": {
  "colab": {
   "collapsed_sections": [],
   "name": "Practice_Project_Product_Recommendation_Solution_Notebook+%281%29.ipynb",
   "provenance": []
  },
  "kernelspec": {
   "display_name": "Python 3 (ipykernel)",
   "language": "python",
   "name": "python3"
  },
  "language_info": {
   "codemirror_mode": {
    "name": "ipython",
    "version": 3
   },
   "file_extension": ".py",
   "mimetype": "text/x-python",
   "name": "python",
   "nbconvert_exporter": "python",
   "pygments_lexer": "ipython3",
   "version": "3.8.2"
  }
 },
 "nbformat": 4,
 "nbformat_minor": 1
}
