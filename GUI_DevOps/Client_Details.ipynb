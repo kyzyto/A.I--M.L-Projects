{
 "cells": [
  {
   "cell_type": "markdown",
   "id": "ce717349",
   "metadata": {},
   "source": [
    "# Client Details\n",
    "This is a client details system GUI application using Tkinter.\n",
    "\n",
    "In this application, User has to fill up the required information and that information is automatically sent to an excel file."
   ]
  },
  {
   "cell_type": "markdown",
   "id": "41633440",
   "metadata": {},
   "source": [
    "In the event of ***openpyxl*** and ***tkinter*** not installed copy and run installation code below\n",
    "\n",
    "<details><summary><b> Click here to see</b></summary>\n",
    "    \n",
    "```console\n",
    "!pip install openpyxl\n",
    "!pip install tk\n",
    "```\n",
    "    \n",
    "</details>"
   ]
  },
  {
   "cell_type": "code",
   "execution_count": 1,
   "id": "446f8632",
   "metadata": {},
   "outputs": [],
   "source": [
    "# import openpyxl and tkinter modules\n",
    "from openpyxl import *\n",
    "from tkinter import *"
   ]
  },
  {
   "cell_type": "markdown",
   "id": "5137714f",
   "metadata": {},
   "source": [
    " "
   ]
  },
  {
   "cell_type": "code",
   "execution_count": 2,
   "id": "9ee6a588",
   "metadata": {},
   "outputs": [
    {
     "data": {
      "text/plain": [
       "<openpyxl.workbook.workbook.Workbook at 0x7fa260c34400>"
      ]
     },
     "execution_count": 2,
     "metadata": {},
     "output_type": "execute_result"
    }
   ],
   "source": [
    "#globally declare wb and sheet variable\n",
    "wb = Workbook()\n",
    "sheet = wb.active\n",
    "wb.save(\"wb.xlsx\")\n",
    "load_workbook('wb.xlsx')"
   ]
  },
  {
   "cell_type": "markdown",
   "id": "e2a568e9",
   "metadata": {},
   "source": [
    " "
   ]
  },
  {
   "cell_type": "code",
   "execution_count": 3,
   "id": "63f10e94",
   "metadata": {},
   "outputs": [],
   "source": [
    "# Adding column names to excel file\n",
    "sheet.cell(row=1, column = 1).value = 'Full Name'\n",
    "sheet.cell(row=1, column = 2).value = 'Course'\n",
    "sheet.cell(row=1, column = 3).value = 'Semester'\n",
    "sheet.cell(row=1, column = 4).value = 'Level Number'\n",
    "sheet.cell(row=1, column = 5).value = 'Contact Number'\n",
    "sheet.cell(row=1, column = 6).value = 'Email'\n",
    "sheet.cell(row=1, column = 7).value = 'Address'\n",
    "wb.save(\"wb.xlsx\")"
   ]
  },
  {
   "cell_type": "markdown",
   "id": "03008ca5",
   "metadata": {},
   "source": [
    " "
   ]
  },
  {
   "cell_type": "code",
   "execution_count": 4,
   "id": "c86c83f1",
   "metadata": {},
   "outputs": [],
   "source": [
    "# Creating functions to set focus\n",
    "def focus0(event):\n",
    "    name_field.focus_set()\n",
    "def focus1(event):\n",
    "    course_field.focus_set()\n",
    "def focus2(event):\n",
    "    sem_field.focus_set()\n",
    "def focus3(event):\n",
    "    form_no_field.focus_set()\n",
    "def focus4(event):\n",
    "    contact_no_field.focus_set()\n",
    "def focus5(event):\n",
    "    email_id_field.focus_set()\n",
    "def focus6(event):\n",
    "    address_field.focus_set()\n",
    "    \n",
    "# To clear the content of text boxes\n",
    "def clear():\n",
    "    name_field.delete(0, END)\n",
    "    course_field.delete(0, END)\n",
    "    sem_field.delete(0, END)\n",
    "    form_no_field.delete(0, END)\n",
    "    contact_no_field.delete(0, END)\n",
    "    email_id_field.delete(0, END)\n",
    "    address_field.delete(0, END)\n",
    "    \n",
    "# Function to send data from GUI to excel file\n",
    "def insert():\n",
    "    if (name_field.get() == \"\" and course_field.get() == \"\" and\n",
    "       sem_field.get() == \"\" and form_no_field.get() == \"\" and\n",
    "       contact_no_field.get() == \"\" and email_id_field.get() == \"\" and\n",
    "       address_field.get() == \"\"):\n",
    "        print(\"Empty Field\")\n",
    "    \n",
    "    else:\n",
    "        current_row = sheet.max_row\n",
    "        current_column = sheet.max_column\n",
    "        \n",
    "        sheet.cell(row=current_row + 1, column = 1).value = name_field.get()\n",
    "        sheet.cell(row=current_row + 1, column = 2).value = course_field.get()\n",
    "        sheet.cell(row=current_row + 1, column = 3).value = sem_field.get()\n",
    "        sheet.cell(row=current_row + 1, column = 4).value = form_no_field.get()\n",
    "        sheet.cell(row=current_row + 1, column = 5).value = contact_no_field.get()\n",
    "        sheet.cell(row=current_row + 1, column = 6).value = email_id_field.get()\n",
    "        sheet.cell(row=current_row + 1, column = 7).value = address_field.get()\n",
    "        \n",
    "        wb.save(\"wb.xlsx\")\n",
    "        name_field.focus_set()\n",
    "        clear()"
   ]
  },
  {
   "cell_type": "markdown",
   "id": "086f7d1b",
   "metadata": {},
   "source": [
    " "
   ]
  },
  {
   "cell_type": "code",
   "execution_count": null,
   "id": "52f797c2",
   "metadata": {},
   "outputs": [],
   "source": [
    "# Driver Code\n",
    "if __name__ == \"__main__\":\n",
    "    # Create a gui window\n",
    "    root = Tk()\n",
    "    root.title(\"Registration Form\")\n",
    "    root.geometry(\"400x170\")\n",
    "    #excel()\n",
    "    \n",
    "    # Create Labels\n",
    "    heading = Label(root, text = \"Form\", bg = \"grey\")\n",
    "    name = Label(root, text = \"Full Name\", bg = \"light grey\")\n",
    "    course = Label(root, text = \"Course\", bg = \"light grey\")\n",
    "    sem = Label(root, text = \"Semester\", bg = \"light grey\")\n",
    "    form_no = Label(root, text = \"Level Number\", bg = \"light grey\")\n",
    "    contact_no = Label(root, text = \"Contact Number\", bg = \"light grey\")\n",
    "    email_id = Label(root, text = \"Email\", bg = \"light grey\")\n",
    "    address = Label(root, text = \"Address\", bg = \"light grey\")\n",
    "    \n",
    "    # grid method is used for placing the widgets at respective positions\n",
    "    # in table like structure\n",
    "    name.grid(row = 1, column = 0)\n",
    "    course.grid(row = 2, column = 0)\n",
    "    sem.grid(row = 3, column = 0)\n",
    "    form_no.grid(row = 4, column = 0)\n",
    "    contact_no.grid(row = 5, column = 0)\n",
    "    email_id.grid(row = 6, column = 0)\n",
    "    address.grid(row = 7, column = 0)\n",
    "    \n",
    "    # Create Entries\n",
    "    name_field = Entry(root)\n",
    "    course_field = Entry(root)\n",
    "    sem_field = Entry(root)\n",
    "    form_no_field = Entry(root)\n",
    "    contact_no_field = Entry(root)\n",
    "    email_id_field = Entry(root)\n",
    "    address_field = Entry(root)\n",
    "    \n",
    "    # Peform binding\n",
    "    name_field.bind(\"&lt;Return&gt;\",focus0)\n",
    "    course_field.bind(\"&lt;Return&gt;\",focus1)\n",
    "    sem_field.bind(\"&lt;Return&gt;\",focus2)\n",
    "    form_no_field.bind(\"&lt;Return&gt;\",focus3)\n",
    "    contact_no_field.bind(\"&lt;Return&gt;\",focus4)\n",
    "    email_id_field.bind(\"&lt;Return&gt;\",focus5)\n",
    "    address_field.bind(\"&lt;Return&gt;\",focus6)\n",
    "    \n",
    "    \n",
    "    name_field.grid(row=1, column=1, ipadx=\"100\")\n",
    "    course_field.grid(row=2, column=1, ipadx=\"100\")\n",
    "    sem_field.grid(row=3, column=1, ipadx=\"100\")\n",
    "    form_no_field.grid(row=4, column=1, ipadx=\"100\")\n",
    "    contact_no_field.grid(row=5, column=1, ipadx=\"100\")\n",
    "    email_id_field.grid(row=6, column=1, ipadx=\"100\")\n",
    "    address_field.grid(row=7, column=1, ipadx=\"100\")\n",
    "    #excel()\n",
    "    \n",
    "    #Button submits filed form to excel\n",
    "    submit = Button(root, text=\"Submit\", fg=\"Black\",bg=\"blue\", command=insert)\n",
    "    submit.grid(row=8, column=1)\n",
    "    \n",
    "    #Button resets registraction form in the event of a mistake\n",
    "    # TODO\n",
    "    \n",
    "    #Button exits the window\n",
    "    # TODO\n",
    "    root.mainloop()"
   ]
  }
 ],
 "metadata": {
  "kernelspec": {
   "display_name": "Python 3 (ipykernel)",
   "language": "python",
   "name": "python3"
  },
  "language_info": {
   "codemirror_mode": {
    "name": "ipython",
    "version": 3
   },
   "file_extension": ".py",
   "mimetype": "text/x-python",
   "name": "python",
   "nbconvert_exporter": "python",
   "pygments_lexer": "ipython3",
   "version": "3.8.8"
  }
 },
 "nbformat": 4,
 "nbformat_minor": 5
}
