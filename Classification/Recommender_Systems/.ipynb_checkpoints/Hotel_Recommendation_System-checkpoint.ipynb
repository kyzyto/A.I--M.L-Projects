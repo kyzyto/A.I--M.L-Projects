{
 "cells": [
  {
   "cell_type": "markdown",
   "id": "c754fe6e",
   "metadata": {},
   "source": [
    "# Hotel Recommendation System\n",
    "\n",
    "![](https://encrypted-tbn0.gstatic.com/images?q=tbn:ANd9GcSTbUB_gBx9eKszTCuDlQYxjIvK4PNDRAFgkw&usqp=CAU)\n",
    "\n",
    "The dataset was gotten from [kaggle](https://www.kaggle.com/jonathanoheix/sentiment-analysis-with-hotel-reviews/data)"
   ]
  },
  {
   "cell_type": "code",
   "execution_count": 1,
   "id": "e51bbc04",
   "metadata": {},
   "outputs": [
    {
     "name": "stderr",
     "output_type": "stream",
     "text": [
      "[nltk_data] Downloading package wordnet to\n",
      "[nltk_data]     /Users/adunifekizitookoye/nltk_data...\n",
      "[nltk_data]   Unzipping corpora/wordnet.zip.\n"
     ]
    }
   ],
   "source": [
    "import nltk\n",
    "nltk.download('wordnet')\n",
    "import numpy as np\n",
    "import pandas as pd\n",
    "from nltk.corpus import stopwords\n",
    "from nltk.tokenize import word_tokenize\n",
    "from nltk.stem.wordnet import WordNetLemmatizer\n",
    "from ast import literal_eval"
   ]
  },
  {
   "cell_type": "code",
   "execution_count": 2,
   "id": "9ae295fe",
   "metadata": {},
   "outputs": [
    {
     "data": {
      "text/html": [
       "<div>\n",
       "<style scoped>\n",
       "    .dataframe tbody tr th:only-of-type {\n",
       "        vertical-align: middle;\n",
       "    }\n",
       "\n",
       "    .dataframe tbody tr th {\n",
       "        vertical-align: top;\n",
       "    }\n",
       "\n",
       "    .dataframe thead th {\n",
       "        text-align: right;\n",
       "    }\n",
       "</style>\n",
       "<table border=\"1\" class=\"dataframe\">\n",
       "  <thead>\n",
       "    <tr style=\"text-align: right;\">\n",
       "      <th></th>\n",
       "      <th>Hotel_Address</th>\n",
       "      <th>Additional_Number_of_Scoring</th>\n",
       "      <th>Review_Date</th>\n",
       "      <th>Average_Score</th>\n",
       "      <th>Hotel_Name</th>\n",
       "      <th>Reviewer_Nationality</th>\n",
       "      <th>Negative_Review</th>\n",
       "      <th>Review_Total_Negative_Word_Counts</th>\n",
       "      <th>Total_Number_of_Reviews</th>\n",
       "      <th>Positive_Review</th>\n",
       "      <th>Review_Total_Positive_Word_Counts</th>\n",
       "      <th>Total_Number_of_Reviews_Reviewer_Has_Given</th>\n",
       "      <th>Reviewer_Score</th>\n",
       "      <th>Tags</th>\n",
       "      <th>days_since_review</th>\n",
       "      <th>lat</th>\n",
       "      <th>lng</th>\n",
       "    </tr>\n",
       "  </thead>\n",
       "  <tbody>\n",
       "    <tr>\n",
       "      <th>0</th>\n",
       "      <td>s Gravesandestraat 55 Oost 1092 AA Amsterdam ...</td>\n",
       "      <td>194</td>\n",
       "      <td>8/3/2017</td>\n",
       "      <td>7.7</td>\n",
       "      <td>Hotel Arena</td>\n",
       "      <td>Russia</td>\n",
       "      <td>I am so angry that i made this post available...</td>\n",
       "      <td>397</td>\n",
       "      <td>1403</td>\n",
       "      <td>Only the park outside of the hotel was beauti...</td>\n",
       "      <td>11</td>\n",
       "      <td>7</td>\n",
       "      <td>2.9</td>\n",
       "      <td>[' Leisure trip ', ' Couple ', ' Duplex Double...</td>\n",
       "      <td>0 days</td>\n",
       "      <td>52.360576</td>\n",
       "      <td>4.915968</td>\n",
       "    </tr>\n",
       "    <tr>\n",
       "      <th>1</th>\n",
       "      <td>s Gravesandestraat 55 Oost 1092 AA Amsterdam ...</td>\n",
       "      <td>194</td>\n",
       "      <td>8/3/2017</td>\n",
       "      <td>7.7</td>\n",
       "      <td>Hotel Arena</td>\n",
       "      <td>Ireland</td>\n",
       "      <td>No Negative</td>\n",
       "      <td>0</td>\n",
       "      <td>1403</td>\n",
       "      <td>No real complaints the hotel was great great ...</td>\n",
       "      <td>105</td>\n",
       "      <td>7</td>\n",
       "      <td>7.5</td>\n",
       "      <td>[' Leisure trip ', ' Couple ', ' Duplex Double...</td>\n",
       "      <td>0 days</td>\n",
       "      <td>52.360576</td>\n",
       "      <td>4.915968</td>\n",
       "    </tr>\n",
       "    <tr>\n",
       "      <th>2</th>\n",
       "      <td>s Gravesandestraat 55 Oost 1092 AA Amsterdam ...</td>\n",
       "      <td>194</td>\n",
       "      <td>7/31/2017</td>\n",
       "      <td>7.7</td>\n",
       "      <td>Hotel Arena</td>\n",
       "      <td>Australia</td>\n",
       "      <td>Rooms are nice but for elderly a bit difficul...</td>\n",
       "      <td>42</td>\n",
       "      <td>1403</td>\n",
       "      <td>Location was good and staff were ok It is cut...</td>\n",
       "      <td>21</td>\n",
       "      <td>9</td>\n",
       "      <td>7.1</td>\n",
       "      <td>[' Leisure trip ', ' Family with young childre...</td>\n",
       "      <td>3 days</td>\n",
       "      <td>52.360576</td>\n",
       "      <td>4.915968</td>\n",
       "    </tr>\n",
       "    <tr>\n",
       "      <th>3</th>\n",
       "      <td>s Gravesandestraat 55 Oost 1092 AA Amsterdam ...</td>\n",
       "      <td>194</td>\n",
       "      <td>7/31/2017</td>\n",
       "      <td>7.7</td>\n",
       "      <td>Hotel Arena</td>\n",
       "      <td>United Kingdom</td>\n",
       "      <td>My room was dirty and I was afraid to walk ba...</td>\n",
       "      <td>210</td>\n",
       "      <td>1403</td>\n",
       "      <td>Great location in nice surroundings the bar a...</td>\n",
       "      <td>26</td>\n",
       "      <td>1</td>\n",
       "      <td>3.8</td>\n",
       "      <td>[' Leisure trip ', ' Solo traveler ', ' Duplex...</td>\n",
       "      <td>3 days</td>\n",
       "      <td>52.360576</td>\n",
       "      <td>4.915968</td>\n",
       "    </tr>\n",
       "    <tr>\n",
       "      <th>4</th>\n",
       "      <td>s Gravesandestraat 55 Oost 1092 AA Amsterdam ...</td>\n",
       "      <td>194</td>\n",
       "      <td>7/24/2017</td>\n",
       "      <td>7.7</td>\n",
       "      <td>Hotel Arena</td>\n",
       "      <td>New Zealand</td>\n",
       "      <td>You When I booked with your company on line y...</td>\n",
       "      <td>140</td>\n",
       "      <td>1403</td>\n",
       "      <td>Amazing location and building Romantic setting</td>\n",
       "      <td>8</td>\n",
       "      <td>3</td>\n",
       "      <td>6.7</td>\n",
       "      <td>[' Leisure trip ', ' Couple ', ' Suite ', ' St...</td>\n",
       "      <td>10 days</td>\n",
       "      <td>52.360576</td>\n",
       "      <td>4.915968</td>\n",
       "    </tr>\n",
       "  </tbody>\n",
       "</table>\n",
       "</div>"
      ],
      "text/plain": [
       "                                       Hotel_Address  \\\n",
       "0   s Gravesandestraat 55 Oost 1092 AA Amsterdam ...   \n",
       "1   s Gravesandestraat 55 Oost 1092 AA Amsterdam ...   \n",
       "2   s Gravesandestraat 55 Oost 1092 AA Amsterdam ...   \n",
       "3   s Gravesandestraat 55 Oost 1092 AA Amsterdam ...   \n",
       "4   s Gravesandestraat 55 Oost 1092 AA Amsterdam ...   \n",
       "\n",
       "   Additional_Number_of_Scoring Review_Date  Average_Score   Hotel_Name  \\\n",
       "0                           194    8/3/2017            7.7  Hotel Arena   \n",
       "1                           194    8/3/2017            7.7  Hotel Arena   \n",
       "2                           194   7/31/2017            7.7  Hotel Arena   \n",
       "3                           194   7/31/2017            7.7  Hotel Arena   \n",
       "4                           194   7/24/2017            7.7  Hotel Arena   \n",
       "\n",
       "  Reviewer_Nationality                                    Negative_Review  \\\n",
       "0              Russia    I am so angry that i made this post available...   \n",
       "1             Ireland                                         No Negative   \n",
       "2           Australia    Rooms are nice but for elderly a bit difficul...   \n",
       "3      United Kingdom    My room was dirty and I was afraid to walk ba...   \n",
       "4         New Zealand    You When I booked with your company on line y...   \n",
       "\n",
       "   Review_Total_Negative_Word_Counts  Total_Number_of_Reviews  \\\n",
       "0                                397                     1403   \n",
       "1                                  0                     1403   \n",
       "2                                 42                     1403   \n",
       "3                                210                     1403   \n",
       "4                                140                     1403   \n",
       "\n",
       "                                     Positive_Review  \\\n",
       "0   Only the park outside of the hotel was beauti...   \n",
       "1   No real complaints the hotel was great great ...   \n",
       "2   Location was good and staff were ok It is cut...   \n",
       "3   Great location in nice surroundings the bar a...   \n",
       "4    Amazing location and building Romantic setting    \n",
       "\n",
       "   Review_Total_Positive_Word_Counts  \\\n",
       "0                                 11   \n",
       "1                                105   \n",
       "2                                 21   \n",
       "3                                 26   \n",
       "4                                  8   \n",
       "\n",
       "   Total_Number_of_Reviews_Reviewer_Has_Given  Reviewer_Score  \\\n",
       "0                                           7             2.9   \n",
       "1                                           7             7.5   \n",
       "2                                           9             7.1   \n",
       "3                                           1             3.8   \n",
       "4                                           3             6.7   \n",
       "\n",
       "                                                Tags days_since_review  \\\n",
       "0  [' Leisure trip ', ' Couple ', ' Duplex Double...            0 days   \n",
       "1  [' Leisure trip ', ' Couple ', ' Duplex Double...            0 days   \n",
       "2  [' Leisure trip ', ' Family with young childre...            3 days   \n",
       "3  [' Leisure trip ', ' Solo traveler ', ' Duplex...            3 days   \n",
       "4  [' Leisure trip ', ' Couple ', ' Suite ', ' St...           10 days   \n",
       "\n",
       "         lat       lng  \n",
       "0  52.360576  4.915968  \n",
       "1  52.360576  4.915968  \n",
       "2  52.360576  4.915968  \n",
       "3  52.360576  4.915968  \n",
       "4  52.360576  4.915968  "
      ]
     },
     "execution_count": 2,
     "metadata": {},
     "output_type": "execute_result"
    }
   ],
   "source": [
    "data = pd.read_csv(\"dataset/Hotel_Reviews.csv\")\n",
    "data.head(5)"
   ]
  },
  {
   "cell_type": "code",
   "execution_count": 3,
   "id": "5156fca6",
   "metadata": {},
   "outputs": [
    {
     "name": "stdout",
     "output_type": "stream",
     "text": [
      "<class 'pandas.core.frame.DataFrame'>\n",
      "RangeIndex: 515738 entries, 0 to 515737\n",
      "Data columns (total 17 columns):\n",
      " #   Column                                      Non-Null Count   Dtype  \n",
      "---  ------                                      --------------   -----  \n",
      " 0   Hotel_Address                               515738 non-null  object \n",
      " 1   Additional_Number_of_Scoring                515738 non-null  int64  \n",
      " 2   Review_Date                                 515738 non-null  object \n",
      " 3   Average_Score                               515738 non-null  float64\n",
      " 4   Hotel_Name                                  515738 non-null  object \n",
      " 5   Reviewer_Nationality                        515738 non-null  object \n",
      " 6   Negative_Review                             515738 non-null  object \n",
      " 7   Review_Total_Negative_Word_Counts           515738 non-null  int64  \n",
      " 8   Total_Number_of_Reviews                     515738 non-null  int64  \n",
      " 9   Positive_Review                             515738 non-null  object \n",
      " 10  Review_Total_Positive_Word_Counts           515738 non-null  int64  \n",
      " 11  Total_Number_of_Reviews_Reviewer_Has_Given  515738 non-null  int64  \n",
      " 12  Reviewer_Score                              515738 non-null  float64\n",
      " 13  Tags                                        515738 non-null  object \n",
      " 14  days_since_review                           515738 non-null  object \n",
      " 15  lat                                         512470 non-null  float64\n",
      " 16  lng                                         512470 non-null  float64\n",
      "dtypes: float64(4), int64(5), object(8)\n",
      "memory usage: 66.9+ MB\n"
     ]
    }
   ],
   "source": [
    "data.info()"
   ]
  },
  {
   "cell_type": "code",
   "execution_count": 4,
   "id": "2e1a3909",
   "metadata": {},
   "outputs": [
    {
     "data": {
      "text/plain": [
       "Hotel_Address                                  object\n",
       "Additional_Number_of_Scoring                    int64\n",
       "Review_Date                                    object\n",
       "Average_Score                                 float64\n",
       "Hotel_Name                                     object\n",
       "Reviewer_Nationality                           object\n",
       "Negative_Review                                object\n",
       "Review_Total_Negative_Word_Counts               int64\n",
       "Total_Number_of_Reviews                         int64\n",
       "Positive_Review                                object\n",
       "Review_Total_Positive_Word_Counts               int64\n",
       "Total_Number_of_Reviews_Reviewer_Has_Given      int64\n",
       "Reviewer_Score                                float64\n",
       "Tags                                           object\n",
       "days_since_review                              object\n",
       "lat                                           float64\n",
       "lng                                           float64\n",
       "dtype: object"
      ]
     },
     "execution_count": 4,
     "metadata": {},
     "output_type": "execute_result"
    }
   ],
   "source": [
    "data.dtypes"
   ]
  },
  {
   "cell_type": "markdown",
   "id": "b66c7706",
   "metadata": {},
   "source": [
    "### Data Wrangling"
   ]
  },
  {
   "cell_type": "code",
   "execution_count": 5,
   "id": "0862d674",
   "metadata": {},
   "outputs": [
    {
     "name": "stdout",
     "output_type": "stream",
     "text": [
      "['Netherlands' 'Kingdom' 'France' 'Spain' 'Italy' 'Austria']\n"
     ]
    }
   ],
   "source": [
    "# Split the address and pick the last word in the address to identify the country\n",
    "data[\"countries\"] = data.Hotel_Address.apply(lambda x: x.split(' ')[-1])\n",
    "print(data.countries.unique())"
   ]
  },
  {
   "cell_type": "code",
   "execution_count": 6,
   "id": "8d56382b",
   "metadata": {},
   "outputs": [
    {
     "name": "stdout",
     "output_type": "stream",
     "text": [
      "Kingdom        262301\n",
      "Spain           60149\n",
      "France          59928\n",
      "Netherlands     57214\n",
      "Austria         38939\n",
      "Italy           37207\n",
      "Name: countries, dtype: int64\n"
     ]
    }
   ],
   "source": [
    "print(data.countries.value_counts())"
   ]
  },
  {
   "cell_type": "code",
   "execution_count": 7,
   "id": "f4ca4428",
   "metadata": {},
   "outputs": [
    {
     "name": "stdout",
     "output_type": "stream",
     "text": [
      "Kingdom        262301\n",
      "Spain           60149\n",
      "France          59928\n",
      "Netherlands     57214\n",
      "Austria         38939\n",
      "Italy           37207\n",
      "Name: countries, dtype: int64\n"
     ]
    }
   ],
   "source": [
    "print(data['countries'].value_counts())"
   ]
  },
  {
   "cell_type": "code",
   "execution_count": 8,
   "id": "27fb5ea0",
   "metadata": {},
   "outputs": [],
   "source": [
    "# Replacing \"United Kingdom with \"UK\" in the column Hotel_Address\n",
    "data.Hotel_Address = data.Hotel_Address.str.replace(\"United Kingdom\", \"UK\")"
   ]
  },
  {
   "cell_type": "code",
   "execution_count": 9,
   "id": "1dc03321",
   "metadata": {},
   "outputs": [
    {
     "name": "stdout",
     "output_type": "stream",
     "text": [
      "['Netherlands' 'UK' 'France' 'Spain' 'Italy' 'Austria']\n"
     ]
    }
   ],
   "source": [
    "# Split the address and pick the last word in the address to identify the country\n",
    "data[\"countries\"] = data.Hotel_Address.apply(lambda x: x.split(' ')[-1])\n",
    "print(data.countries.unique())"
   ]
  },
  {
   "cell_type": "code",
   "execution_count": 10,
   "id": "6157cc61",
   "metadata": {},
   "outputs": [
    {
     "name": "stderr",
     "output_type": "stream",
     "text": [
      "/var/folders/hw/l32rftx13wsgkl0jqqgnddx00000gn/T/ipykernel_87743/703659179.py:2: FutureWarning: In a future version of pandas all arguments of DataFrame.drop except for the argument 'labels' will be keyword-only\n",
      "  data.drop(['Additional_Number_of_Scoring','Review_Date','Reviewer_Nationality',\n"
     ]
    }
   ],
   "source": [
    "# Drop columns not required for creating hotel recommendation system\n",
    "data.drop(['Additional_Number_of_Scoring','Review_Date','Reviewer_Nationality',\n",
    "           'Negative_Review', 'Review_Total_Negative_Word_Counts',\n",
    "           'Total_Number_of_Reviews', 'Positive_Review',\n",
    "           'Review_Total_Positive_Word_Counts',\n",
    "           'Total_Number_of_Reviews_Reviewer_Has_Given', 'Reviewer_Score',\n",
    "           'days_since_review', 'lat', 'lng'],1,inplace=True)"
   ]
  },
  {
   "cell_type": "markdown",
   "id": "f35ecc1a",
   "metadata": {},
   "source": [
    "**Convert strings of a list into a normal list**"
   ]
  },
  {
   "cell_type": "code",
   "execution_count": 11,
   "id": "396e1644",
   "metadata": {},
   "outputs": [
    {
     "data": {
      "text/html": [
       "<div>\n",
       "<style scoped>\n",
       "    .dataframe tbody tr th:only-of-type {\n",
       "        vertical-align: middle;\n",
       "    }\n",
       "\n",
       "    .dataframe tbody tr th {\n",
       "        vertical-align: top;\n",
       "    }\n",
       "\n",
       "    .dataframe thead th {\n",
       "        text-align: right;\n",
       "    }\n",
       "</style>\n",
       "<table border=\"1\" class=\"dataframe\">\n",
       "  <thead>\n",
       "    <tr style=\"text-align: right;\">\n",
       "      <th></th>\n",
       "      <th>Hotel_Address</th>\n",
       "      <th>Average_Score</th>\n",
       "      <th>Hotel_Name</th>\n",
       "      <th>Tags</th>\n",
       "      <th>countries</th>\n",
       "    </tr>\n",
       "  </thead>\n",
       "  <tbody>\n",
       "    <tr>\n",
       "      <th>0</th>\n",
       "      <td>s Gravesandestraat 55 Oost 1092 AA Amsterdam ...</td>\n",
       "      <td>7.7</td>\n",
       "      <td>Hotel Arena</td>\n",
       "      <td>Leisure trip  Couple  Duplex Double Room  Sta...</td>\n",
       "      <td>Netherlands</td>\n",
       "    </tr>\n",
       "    <tr>\n",
       "      <th>1</th>\n",
       "      <td>s Gravesandestraat 55 Oost 1092 AA Amsterdam ...</td>\n",
       "      <td>7.7</td>\n",
       "      <td>Hotel Arena</td>\n",
       "      <td>Leisure trip  Couple  Duplex Double Room  Sta...</td>\n",
       "      <td>Netherlands</td>\n",
       "    </tr>\n",
       "    <tr>\n",
       "      <th>2</th>\n",
       "      <td>s Gravesandestraat 55 Oost 1092 AA Amsterdam ...</td>\n",
       "      <td>7.7</td>\n",
       "      <td>Hotel Arena</td>\n",
       "      <td>Leisure trip  Family with young children  Dup...</td>\n",
       "      <td>Netherlands</td>\n",
       "    </tr>\n",
       "    <tr>\n",
       "      <th>3</th>\n",
       "      <td>s Gravesandestraat 55 Oost 1092 AA Amsterdam ...</td>\n",
       "      <td>7.7</td>\n",
       "      <td>Hotel Arena</td>\n",
       "      <td>Leisure trip  Solo traveler  Duplex Double Ro...</td>\n",
       "      <td>Netherlands</td>\n",
       "    </tr>\n",
       "    <tr>\n",
       "      <th>4</th>\n",
       "      <td>s Gravesandestraat 55 Oost 1092 AA Amsterdam ...</td>\n",
       "      <td>7.7</td>\n",
       "      <td>Hotel Arena</td>\n",
       "      <td>Leisure trip  Couple  Suite  Stayed 2 nights ...</td>\n",
       "      <td>Netherlands</td>\n",
       "    </tr>\n",
       "  </tbody>\n",
       "</table>\n",
       "</div>"
      ],
      "text/plain": [
       "                                       Hotel_Address  Average_Score  \\\n",
       "0   s Gravesandestraat 55 Oost 1092 AA Amsterdam ...            7.7   \n",
       "1   s Gravesandestraat 55 Oost 1092 AA Amsterdam ...            7.7   \n",
       "2   s Gravesandestraat 55 Oost 1092 AA Amsterdam ...            7.7   \n",
       "3   s Gravesandestraat 55 Oost 1092 AA Amsterdam ...            7.7   \n",
       "4   s Gravesandestraat 55 Oost 1092 AA Amsterdam ...            7.7   \n",
       "\n",
       "    Hotel_Name                                               Tags    countries  \n",
       "0  Hotel Arena   Leisure trip  Couple  Duplex Double Room  Sta...  Netherlands  \n",
       "1  Hotel Arena   Leisure trip  Couple  Duplex Double Room  Sta...  Netherlands  \n",
       "2  Hotel Arena   Leisure trip  Family with young children  Dup...  Netherlands  \n",
       "3  Hotel Arena   Leisure trip  Solo traveler  Duplex Double Ro...  Netherlands  \n",
       "4  Hotel Arena   Leisure trip  Couple  Suite  Stayed 2 nights ...  Netherlands  "
      ]
     },
     "execution_count": 11,
     "metadata": {},
     "output_type": "execute_result"
    }
   ],
   "source": [
    "# Create a convert function then apply it on the Tags column\n",
    "def convert(column):\n",
    "    column = column[0]\n",
    "    if (type(column) != list):\n",
    "        return \"\".join(literal_eval(column))\n",
    "    else:\n",
    "        return column\n",
    "\n",
    "data[\"Tags\"] = data[[\"Tags\"]].apply(convert, axis = 1)\n",
    "data.head()"
   ]
  },
  {
   "cell_type": "code",
   "execution_count": 12,
   "id": "c05235c7",
   "metadata": {},
   "outputs": [],
   "source": [
    "# For simplicity make the columns Tags and countries lowercase\n",
    "\n",
    "data['countries'] = data['countries'].str.lower()\n",
    "data['Tags'] = data['Tags'].str.lower()"
   ]
  },
  {
   "cell_type": "markdown",
   "id": "ea57c4a9",
   "metadata": {},
   "source": [
    "### Hotel Recommendation Algorithm "
   ]
  },
  {
   "cell_type": "code",
   "execution_count": 13,
   "id": "03a08e27",
   "metadata": {},
   "outputs": [],
   "source": [
    "#nltk.download('punkt')\n",
    "def hotel_recommend_sys(location, description):\n",
    "    description = description.lower()\n",
    "    word_tokenize(description)\n",
    "    stop_words = stopwords.words('english')\n",
    "    lemm = WordNetLemmatizer()\n",
    "    filtered  = {word for word in description if not word in stop_words}\n",
    "    filtered_set = set()\n",
    "    for fs in filtered:\n",
    "        filtered_set.add(lemm.lemmatize(fs))\n",
    "\n",
    "    country = data[data['countries']==location.lower()]\n",
    "    country = country.set_index(np.arange(country.shape[0]))\n",
    "    list1 = []; list2 = []; cos = [];\n",
    "    for i in range(country.shape[0]):\n",
    "        temp_token = word_tokenize(country[\"Tags\"][i])\n",
    "        temp_set = [word for word in temp_token if not word in stop_words]\n",
    "        temp2_set = set()\n",
    "        for s in temp_set:\n",
    "            temp2_set.add(lemm.lemmatize(s))\n",
    "        vector = temp2_set.intersection(filtered_set)\n",
    "        cos.append(len(vector))\n",
    "    country['similarity']=cos\n",
    "    country = country.sort_values(by='similarity', ascending=False)\n",
    "    country.drop_duplicates(subset='Hotel_Name', keep='first', inplace=True)\n",
    "    country.sort_values('Average_Score', ascending=False, inplace=True)\n",
    "    country.reset_index(inplace=True)\n",
    "    return country[[\"Hotel_Name\", \"Average_Score\", \"Hotel_Address\"]].head()"
   ]
  },
  {
   "cell_type": "markdown",
   "id": "8ac3361e",
   "metadata": {},
   "source": [
    "### Test"
   ]
  },
  {
   "cell_type": "code",
   "execution_count": 14,
   "id": "40fa509a",
   "metadata": {},
   "outputs": [
    {
     "data": {
      "text/html": [
       "<div>\n",
       "<style scoped>\n",
       "    .dataframe tbody tr th:only-of-type {\n",
       "        vertical-align: middle;\n",
       "    }\n",
       "\n",
       "    .dataframe tbody tr th {\n",
       "        vertical-align: top;\n",
       "    }\n",
       "\n",
       "    .dataframe thead th {\n",
       "        text-align: right;\n",
       "    }\n",
       "</style>\n",
       "<table border=\"1\" class=\"dataframe\">\n",
       "  <thead>\n",
       "    <tr style=\"text-align: right;\">\n",
       "      <th></th>\n",
       "      <th>Hotel_Name</th>\n",
       "      <th>Average_Score</th>\n",
       "      <th>Hotel_Address</th>\n",
       "    </tr>\n",
       "  </thead>\n",
       "  <tbody>\n",
       "    <tr>\n",
       "      <th>0</th>\n",
       "      <td>Haymarket Hotel</td>\n",
       "      <td>9.6</td>\n",
       "      <td>1 Suffolk Place Westminster Borough London SW1...</td>\n",
       "    </tr>\n",
       "    <tr>\n",
       "      <th>1</th>\n",
       "      <td>41</td>\n",
       "      <td>9.6</td>\n",
       "      <td>41 Buckingham Palace Road Westminster Borough ...</td>\n",
       "    </tr>\n",
       "    <tr>\n",
       "      <th>2</th>\n",
       "      <td>Taj 51 Buckingham Gate Suites and Residences</td>\n",
       "      <td>9.5</td>\n",
       "      <td>Buckingham Gate Westminster Borough London SW1...</td>\n",
       "    </tr>\n",
       "    <tr>\n",
       "      <th>3</th>\n",
       "      <td>Charlotte Street Hotel</td>\n",
       "      <td>9.5</td>\n",
       "      <td>15 17 Charlotte Street Hotel Westminster Borou...</td>\n",
       "    </tr>\n",
       "    <tr>\n",
       "      <th>4</th>\n",
       "      <td>Ham Yard Hotel</td>\n",
       "      <td>9.5</td>\n",
       "      <td>One Ham Yard Westminster Borough London W1D 7D...</td>\n",
       "    </tr>\n",
       "  </tbody>\n",
       "</table>\n",
       "</div>"
      ],
      "text/plain": [
       "                                     Hotel_Name  Average_Score  \\\n",
       "0                               Haymarket Hotel            9.6   \n",
       "1                                            41            9.6   \n",
       "2  Taj 51 Buckingham Gate Suites and Residences            9.5   \n",
       "3                        Charlotte Street Hotel            9.5   \n",
       "4                                Ham Yard Hotel            9.5   \n",
       "\n",
       "                                       Hotel_Address  \n",
       "0  1 Suffolk Place Westminster Borough London SW1...  \n",
       "1  41 Buckingham Palace Road Westminster Borough ...  \n",
       "2  Buckingham Gate Westminster Borough London SW1...  \n",
       "3  15 17 Charlotte Street Hotel Westminster Borou...  \n",
       "4  One Ham Yard Westminster Borough London W1D 7D...  "
      ]
     },
     "execution_count": 14,
     "metadata": {},
     "output_type": "execute_result"
    }
   ],
   "source": [
    "hotel_recommend_sys('UK', 'I am going on a honeymoon, I need a honeymoon suite room for 3 nights')"
   ]
  },
  {
   "cell_type": "code",
   "execution_count": 15,
   "id": "1ef0606d",
   "metadata": {},
   "outputs": [
    {
     "data": {
      "text/html": [
       "<div>\n",
       "<style scoped>\n",
       "    .dataframe tbody tr th:only-of-type {\n",
       "        vertical-align: middle;\n",
       "    }\n",
       "\n",
       "    .dataframe tbody tr th {\n",
       "        vertical-align: top;\n",
       "    }\n",
       "\n",
       "    .dataframe thead th {\n",
       "        text-align: right;\n",
       "    }\n",
       "</style>\n",
       "<table border=\"1\" class=\"dataframe\">\n",
       "  <thead>\n",
       "    <tr style=\"text-align: right;\">\n",
       "      <th></th>\n",
       "      <th>Hotel_Name</th>\n",
       "      <th>Average_Score</th>\n",
       "      <th>Hotel_Address</th>\n",
       "    </tr>\n",
       "  </thead>\n",
       "  <tbody>\n",
       "    <tr>\n",
       "      <th>0</th>\n",
       "      <td>Excelsior Hotel Gallia Luxury Collection Hotel</td>\n",
       "      <td>9.4</td>\n",
       "      <td>Piazza Duca D Aosta 9 Central Station 20124 Mi...</td>\n",
       "    </tr>\n",
       "    <tr>\n",
       "      <th>1</th>\n",
       "      <td>UNA Maison Milano</td>\n",
       "      <td>9.3</td>\n",
       "      <td>Via Mazzini 4 Milan City Center 20123 Milan Italy</td>\n",
       "    </tr>\n",
       "    <tr>\n",
       "      <th>2</th>\n",
       "      <td>Room Mate Giulia</td>\n",
       "      <td>9.3</td>\n",
       "      <td>Silvio Pellico 4 Milan City Center 20121 Milan...</td>\n",
       "    </tr>\n",
       "    <tr>\n",
       "      <th>3</th>\n",
       "      <td>Palazzo Parigi Hotel Grand Spa Milano</td>\n",
       "      <td>9.3</td>\n",
       "      <td>Corso Di Porta Nuova 1 Milan City Center 20121...</td>\n",
       "    </tr>\n",
       "    <tr>\n",
       "      <th>4</th>\n",
       "      <td>Hotel Spadari Al Duomo</td>\n",
       "      <td>9.3</td>\n",
       "      <td>Via Spadari 11 Milan City Center 20123 Milan I...</td>\n",
       "    </tr>\n",
       "  </tbody>\n",
       "</table>\n",
       "</div>"
      ],
      "text/plain": [
       "                                       Hotel_Name  Average_Score  \\\n",
       "0  Excelsior Hotel Gallia Luxury Collection Hotel            9.4   \n",
       "1                               UNA Maison Milano            9.3   \n",
       "2                                Room Mate Giulia            9.3   \n",
       "3           Palazzo Parigi Hotel Grand Spa Milano            9.3   \n",
       "4                          Hotel Spadari Al Duomo            9.3   \n",
       "\n",
       "                                       Hotel_Address  \n",
       "0  Piazza Duca D Aosta 9 Central Station 20124 Mi...  \n",
       "1  Via Mazzini 4 Milan City Center 20123 Milan Italy  \n",
       "2  Silvio Pellico 4 Milan City Center 20121 Milan...  \n",
       "3  Corso Di Porta Nuova 1 Milan City Center 20121...  \n",
       "4  Via Spadari 11 Milan City Center 20123 Milan I...  "
      ]
     },
     "execution_count": 15,
     "metadata": {},
     "output_type": "execute_result"
    }
   ],
   "source": [
    "hotel_recommend_sys('Italy', 'I am going on a honeymoon, I need a honeymoon suite room for 3 nights')"
   ]
  },
  {
   "cell_type": "code",
   "execution_count": 16,
   "id": "633af99b",
   "metadata": {},
   "outputs": [
    {
     "data": {
      "text/html": [
       "<div>\n",
       "<style scoped>\n",
       "    .dataframe tbody tr th:only-of-type {\n",
       "        vertical-align: middle;\n",
       "    }\n",
       "\n",
       "    .dataframe tbody tr th {\n",
       "        vertical-align: top;\n",
       "    }\n",
       "\n",
       "    .dataframe thead th {\n",
       "        text-align: right;\n",
       "    }\n",
       "</style>\n",
       "<table border=\"1\" class=\"dataframe\">\n",
       "  <thead>\n",
       "    <tr style=\"text-align: right;\">\n",
       "      <th></th>\n",
       "      <th>Hotel_Name</th>\n",
       "      <th>Average_Score</th>\n",
       "      <th>Hotel_Address</th>\n",
       "    </tr>\n",
       "  </thead>\n",
       "  <tbody>\n",
       "    <tr>\n",
       "      <th>0</th>\n",
       "      <td>41</td>\n",
       "      <td>9.6</td>\n",
       "      <td>41 Buckingham Palace Road Westminster Borough ...</td>\n",
       "    </tr>\n",
       "    <tr>\n",
       "      <th>1</th>\n",
       "      <td>Haymarket Hotel</td>\n",
       "      <td>9.6</td>\n",
       "      <td>1 Suffolk Place Westminster Borough London SW1...</td>\n",
       "    </tr>\n",
       "    <tr>\n",
       "      <th>2</th>\n",
       "      <td>Taj 51 Buckingham Gate Suites and Residences</td>\n",
       "      <td>9.5</td>\n",
       "      <td>Buckingham Gate Westminster Borough London SW1...</td>\n",
       "    </tr>\n",
       "    <tr>\n",
       "      <th>3</th>\n",
       "      <td>Ham Yard Hotel</td>\n",
       "      <td>9.5</td>\n",
       "      <td>One Ham Yard Westminster Borough London W1D 7D...</td>\n",
       "    </tr>\n",
       "    <tr>\n",
       "      <th>4</th>\n",
       "      <td>Milestone Hotel Kensington</td>\n",
       "      <td>9.5</td>\n",
       "      <td>1 Kensington Court Kensington and Chelsea Lond...</td>\n",
       "    </tr>\n",
       "  </tbody>\n",
       "</table>\n",
       "</div>"
      ],
      "text/plain": [
       "                                     Hotel_Name  Average_Score  \\\n",
       "0                                            41            9.6   \n",
       "1                               Haymarket Hotel            9.6   \n",
       "2  Taj 51 Buckingham Gate Suites and Residences            9.5   \n",
       "3                                Ham Yard Hotel            9.5   \n",
       "4                    Milestone Hotel Kensington            9.5   \n",
       "\n",
       "                                       Hotel_Address  \n",
       "0  41 Buckingham Palace Road Westminster Borough ...  \n",
       "1  1 Suffolk Place Westminster Borough London SW1...  \n",
       "2  Buckingham Gate Westminster Borough London SW1...  \n",
       "3  One Ham Yard Westminster Borough London W1D 7D...  \n",
       "4  1 Kensington Court Kensington and Chelsea Lond...  "
      ]
     },
     "execution_count": 16,
     "metadata": {},
     "output_type": "execute_result"
    }
   ],
   "source": [
    "hotel_recommend_sys('UK', 'I am Nigerian, I need Duplex for a Family with young children')"
   ]
  }
 ],
 "metadata": {
  "kernelspec": {
   "display_name": "Python 3 (ipykernel)",
   "language": "python",
   "name": "python3"
  },
  "language_info": {
   "codemirror_mode": {
    "name": "ipython",
    "version": 3
   },
   "file_extension": ".py",
   "mimetype": "text/x-python",
   "name": "python",
   "nbconvert_exporter": "python",
   "pygments_lexer": "ipython3",
   "version": "3.8.8"
  }
 },
 "nbformat": 4,
 "nbformat_minor": 5
}
