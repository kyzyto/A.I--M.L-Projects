{
 "cells": [
  {
   "cell_type": "markdown",
   "id": "0f121d1a",
   "metadata": {},
   "source": [
    "# Netflix Recommendation System\n",
    "![](https://encrypted-tbn0.gstatic.com/images?q=tbn:ANd9GcSUeFcVoKnVzjc7ZNXFsSlogsT_680JrAvyLQ&usqp=CAU)\n",
    "\n",
    "The dataset was gotten from [kaggle](https://www.kaggle.com/laowingkin/netflix-movie-recommendation/data)"
   ]
  },
  {
   "cell_type": "markdown",
   "id": "48d6b969",
   "metadata": {},
   "source": [
    "### Declare important modules"
   ]
  },
  {
   "cell_type": "code",
   "execution_count": null,
   "id": "6638fde7",
   "metadata": {},
   "outputs": [],
   "source": [
    "!pip install surprise"
   ]
  },
  {
   "cell_type": "code",
   "execution_count": 1,
   "id": "dfa5dfc9",
   "metadata": {},
   "outputs": [],
   "source": [
    "import pandas as pd\n",
    "import math\n",
    "import numpy as np\n",
    "import re\n",
    "from scipy.sparse import csr_matrix\n",
    "import seaborn as sns\n",
    "import matplotlib.pyplot as plt\n",
    "from surprise import Reader, Dataset, SVD"
   ]
  },
  {
   "cell_type": "code",
   "execution_count": 2,
   "id": "1c2d755b",
   "metadata": {
    "scrolled": true
   },
   "outputs": [
    {
     "data": {
      "text/html": [
       "<div>\n",
       "<style scoped>\n",
       "    .dataframe tbody tr th:only-of-type {\n",
       "        vertical-align: middle;\n",
       "    }\n",
       "\n",
       "    .dataframe tbody tr th {\n",
       "        vertical-align: top;\n",
       "    }\n",
       "\n",
       "    .dataframe thead th {\n",
       "        text-align: right;\n",
       "    }\n",
       "</style>\n",
       "<table border=\"1\" class=\"dataframe\">\n",
       "  <thead>\n",
       "    <tr style=\"text-align: right;\">\n",
       "      <th></th>\n",
       "      <th>Customer_Id</th>\n",
       "      <th>Rating</th>\n",
       "      <th>Date</th>\n",
       "    </tr>\n",
       "  </thead>\n",
       "  <tbody>\n",
       "    <tr>\n",
       "      <th>0</th>\n",
       "      <td>1:</td>\n",
       "      <td>NaN</td>\n",
       "      <td>NaN</td>\n",
       "    </tr>\n",
       "    <tr>\n",
       "      <th>1</th>\n",
       "      <td>1488844</td>\n",
       "      <td>3.0</td>\n",
       "      <td>2005-09-06</td>\n",
       "    </tr>\n",
       "    <tr>\n",
       "      <th>2</th>\n",
       "      <td>822109</td>\n",
       "      <td>5.0</td>\n",
       "      <td>2005-05-13</td>\n",
       "    </tr>\n",
       "    <tr>\n",
       "      <th>3</th>\n",
       "      <td>885013</td>\n",
       "      <td>4.0</td>\n",
       "      <td>2005-10-19</td>\n",
       "    </tr>\n",
       "    <tr>\n",
       "      <th>4</th>\n",
       "      <td>30878</td>\n",
       "      <td>4.0</td>\n",
       "      <td>2005-12-26</td>\n",
       "    </tr>\n",
       "  </tbody>\n",
       "</table>\n",
       "</div>"
      ],
      "text/plain": [
       "  Customer_Id  Rating        Date\n",
       "0          1:     NaN         NaN\n",
       "1     1488844     3.0  2005-09-06\n",
       "2      822109     5.0  2005-05-13\n",
       "3      885013     4.0  2005-10-19\n",
       "4       30878     4.0  2005-12-26"
      ]
     },
     "execution_count": 2,
     "metadata": {},
     "output_type": "execute_result"
    }
   ],
   "source": [
    "sns.set_style(\"darkgrid\")\n",
    "\n",
    "#Skip date\n",
    "data = pd.read_csv('dataset/netflix/combined_data_1.txt', header = None, names = ['Customer_Id', 'Rating', 'Date'])\n",
    "data.head(5)"
   ]
  },
  {
   "cell_type": "markdown",
   "id": "04452ebd",
   "metadata": {},
   "source": [
    "### Data Wrangling/Cleaning"
   ]
  },
  {
   "cell_type": "code",
   "execution_count": 3,
   "id": "e1de2d58",
   "metadata": {},
   "outputs": [
    {
     "data": {
      "text/html": [
       "<div>\n",
       "<style scoped>\n",
       "    .dataframe tbody tr th:only-of-type {\n",
       "        vertical-align: middle;\n",
       "    }\n",
       "\n",
       "    .dataframe tbody tr th {\n",
       "        vertical-align: top;\n",
       "    }\n",
       "\n",
       "    .dataframe thead th {\n",
       "        text-align: right;\n",
       "    }\n",
       "</style>\n",
       "<table border=\"1\" class=\"dataframe\">\n",
       "  <thead>\n",
       "    <tr style=\"text-align: right;\">\n",
       "      <th></th>\n",
       "      <th>Customer_Id</th>\n",
       "      <th>Rating</th>\n",
       "      <th>Date</th>\n",
       "    </tr>\n",
       "  </thead>\n",
       "  <tbody>\n",
       "    <tr>\n",
       "      <th>1</th>\n",
       "      <td>1488844</td>\n",
       "      <td>3.0</td>\n",
       "      <td>2005-09-06</td>\n",
       "    </tr>\n",
       "    <tr>\n",
       "      <th>2</th>\n",
       "      <td>822109</td>\n",
       "      <td>5.0</td>\n",
       "      <td>2005-05-13</td>\n",
       "    </tr>\n",
       "    <tr>\n",
       "      <th>3</th>\n",
       "      <td>885013</td>\n",
       "      <td>4.0</td>\n",
       "      <td>2005-10-19</td>\n",
       "    </tr>\n",
       "    <tr>\n",
       "      <th>4</th>\n",
       "      <td>30878</td>\n",
       "      <td>4.0</td>\n",
       "      <td>2005-12-26</td>\n",
       "    </tr>\n",
       "    <tr>\n",
       "      <th>5</th>\n",
       "      <td>823519</td>\n",
       "      <td>3.0</td>\n",
       "      <td>2004-05-03</td>\n",
       "    </tr>\n",
       "  </tbody>\n",
       "</table>\n",
       "</div>"
      ],
      "text/plain": [
       "  Customer_Id  Rating        Date\n",
       "1     1488844     3.0  2005-09-06\n",
       "2      822109     5.0  2005-05-13\n",
       "3      885013     4.0  2005-10-19\n",
       "4       30878     4.0  2005-12-26\n",
       "5      823519     3.0  2004-05-03"
      ]
     },
     "execution_count": 3,
     "metadata": {},
     "output_type": "execute_result"
    }
   ],
   "source": [
    "# Remove first row\n",
    "data = data.iloc[1: , :] #dataframe.iloc[row_start:row_end , col_start, col_end]\n",
    "data.head(5)"
   ]
  },
  {
   "cell_type": "code",
   "execution_count": 4,
   "id": "82d23396",
   "metadata": {},
   "outputs": [
    {
     "data": {
      "text/html": [
       "<div>\n",
       "<style scoped>\n",
       "    .dataframe tbody tr th:only-of-type {\n",
       "        vertical-align: middle;\n",
       "    }\n",
       "\n",
       "    .dataframe tbody tr th {\n",
       "        vertical-align: top;\n",
       "    }\n",
       "\n",
       "    .dataframe thead th {\n",
       "        text-align: right;\n",
       "    }\n",
       "</style>\n",
       "<table border=\"1\" class=\"dataframe\">\n",
       "  <thead>\n",
       "    <tr style=\"text-align: right;\">\n",
       "      <th></th>\n",
       "      <th>Rating</th>\n",
       "    </tr>\n",
       "  </thead>\n",
       "  <tbody>\n",
       "    <tr>\n",
       "      <th>count</th>\n",
       "      <td>2.405376e+07</td>\n",
       "    </tr>\n",
       "    <tr>\n",
       "      <th>mean</th>\n",
       "      <td>3.599634e+00</td>\n",
       "    </tr>\n",
       "    <tr>\n",
       "      <th>std</th>\n",
       "      <td>1.086118e+00</td>\n",
       "    </tr>\n",
       "    <tr>\n",
       "      <th>min</th>\n",
       "      <td>1.000000e+00</td>\n",
       "    </tr>\n",
       "    <tr>\n",
       "      <th>25%</th>\n",
       "      <td>3.000000e+00</td>\n",
       "    </tr>\n",
       "    <tr>\n",
       "      <th>50%</th>\n",
       "      <td>4.000000e+00</td>\n",
       "    </tr>\n",
       "    <tr>\n",
       "      <th>75%</th>\n",
       "      <td>4.000000e+00</td>\n",
       "    </tr>\n",
       "    <tr>\n",
       "      <th>max</th>\n",
       "      <td>5.000000e+00</td>\n",
       "    </tr>\n",
       "  </tbody>\n",
       "</table>\n",
       "</div>"
      ],
      "text/plain": [
       "             Rating\n",
       "count  2.405376e+07\n",
       "mean   3.599634e+00\n",
       "std    1.086118e+00\n",
       "min    1.000000e+00\n",
       "25%    3.000000e+00\n",
       "50%    4.000000e+00\n",
       "75%    4.000000e+00\n",
       "max    5.000000e+00"
      ]
     },
     "execution_count": 4,
     "metadata": {},
     "output_type": "execute_result"
    }
   ],
   "source": [
    "data.describe()"
   ]
  },
  {
   "cell_type": "code",
   "execution_count": 5,
   "id": "1bfd0fe3",
   "metadata": {},
   "outputs": [
    {
     "data": {
      "text/plain": [
       "Customer_Id     object\n",
       "Rating         float64\n",
       "Date            object\n",
       "dtype: object"
      ]
     },
     "execution_count": 5,
     "metadata": {},
     "output_type": "execute_result"
    }
   ],
   "source": [
    "data.dtypes"
   ]
  },
  {
   "cell_type": "code",
   "execution_count": 6,
   "id": "e53a4a3b",
   "metadata": {},
   "outputs": [
    {
     "data": {
      "text/html": [
       "<div>\n",
       "<style scoped>\n",
       "    .dataframe tbody tr th:only-of-type {\n",
       "        vertical-align: middle;\n",
       "    }\n",
       "\n",
       "    .dataframe tbody tr th {\n",
       "        vertical-align: top;\n",
       "    }\n",
       "\n",
       "    .dataframe thead th {\n",
       "        text-align: right;\n",
       "    }\n",
       "</style>\n",
       "<table border=\"1\" class=\"dataframe\">\n",
       "  <thead>\n",
       "    <tr style=\"text-align: right;\">\n",
       "      <th></th>\n",
       "      <th>Customer_Id</th>\n",
       "      <th>Rating</th>\n",
       "      <th>Date</th>\n",
       "    </tr>\n",
       "  </thead>\n",
       "  <tbody>\n",
       "    <tr>\n",
       "      <th>0</th>\n",
       "      <td>1488844</td>\n",
       "      <td>3.0</td>\n",
       "      <td>2005-09-06</td>\n",
       "    </tr>\n",
       "    <tr>\n",
       "      <th>1</th>\n",
       "      <td>822109</td>\n",
       "      <td>5.0</td>\n",
       "      <td>2005-05-13</td>\n",
       "    </tr>\n",
       "    <tr>\n",
       "      <th>2</th>\n",
       "      <td>885013</td>\n",
       "      <td>4.0</td>\n",
       "      <td>2005-10-19</td>\n",
       "    </tr>\n",
       "    <tr>\n",
       "      <th>3</th>\n",
       "      <td>30878</td>\n",
       "      <td>4.0</td>\n",
       "      <td>2005-12-26</td>\n",
       "    </tr>\n",
       "    <tr>\n",
       "      <th>4</th>\n",
       "      <td>823519</td>\n",
       "      <td>3.0</td>\n",
       "      <td>2004-05-03</td>\n",
       "    </tr>\n",
       "  </tbody>\n",
       "</table>\n",
       "</div>"
      ],
      "text/plain": [
       "  Customer_Id  Rating        Date\n",
       "0     1488844     3.0  2005-09-06\n",
       "1      822109     5.0  2005-05-13\n",
       "2      885013     4.0  2005-10-19\n",
       "3       30878     4.0  2005-12-26\n",
       "4      823519     3.0  2004-05-03"
      ]
     },
     "execution_count": 6,
     "metadata": {},
     "output_type": "execute_result"
    }
   ],
   "source": [
    "# Change the dataframe index to start from 0\n",
    "data.index = np.arange(0, len(data))\n",
    "data.head(5)"
   ]
  },
  {
   "cell_type": "code",
   "execution_count": 7,
   "id": "f3bc03cc",
   "metadata": {},
   "outputs": [
    {
     "name": "stdout",
     "output_type": "stream",
     "text": [
      "Number of Movies: 4498\n",
      "Number of Customers: 470758\n",
      "Number of Ratings: 24053764\n"
     ]
    }
   ],
   "source": [
    "p = data.groupby('Rating')['Rating'].agg(['count'])\n",
    "\n",
    "# get movie count\n",
    "movie_count = data.isnull().sum()[1]\n",
    "print(\"Number of Movies: {}\".format(movie_count))\n",
    "\n",
    "# get customer count\n",
    "cust_count = data['Customer_Id'].nunique() - movie_count\n",
    "print(\"Number of Customers: %i\" %cust_count)\n",
    "\n",
    "# get rating count\n",
    "rating_count = data['Customer_Id'].count() - movie_count\n",
    "print(f'Number of Ratings: {rating_count}')"
   ]
  },
  {
   "cell_type": "markdown",
   "id": "26cefae6",
   "metadata": {},
   "source": [
    "### Data Visualization"
   ]
  },
  {
   "cell_type": "code",
   "execution_count": 8,
   "id": "74b69d09",
   "metadata": {
    "scrolled": true
   },
   "outputs": [
    {
     "data": {
      "image/png": "[encoded data removed]",
      "text/plain": [
       "<Figure size 1080x720 with 1 Axes>"
      ]
     },
     "metadata": {},
     "output_type": "display_data"
    }
   ],
   "source": [
    "ax = p.plot(kind = 'barh', legend = False, figsize = (15, 10))\n",
    "plt.title('Total | Movies: {}, Customers: {}, Ratings: {}'.format(movie_count, cust_count, rating_count))\n",
    "\n",
    "for i in range(1, 6):\n",
    "    ax.text(p.iloc[i-1][0]/4, i-1, \n",
    "            'Rating {}: {:.0f}%'.format(i, p.iloc[i-1][0]*100 / p.sum()[0]), \n",
    "            color = 'white', \n",
    "            weight = 'bold')"
   ]
  },
  {
   "cell_type": "markdown",
   "id": "a3806281",
   "metadata": {},
   "source": [
    "### Data Preparation"
   ]
  },
  {
   "cell_type": "code",
   "execution_count": null,
   "id": "df08f53c",
   "metadata": {},
   "outputs": [],
   "source": [
    "data_nan = pd.DataFrame(pd.isnull(data.Rating))\n",
    "data_nan = data_nan[data_nan['Rating'] == True]\n",
    "data_nan = data_nan.reset_index()\n",
    "\n",
    "movie_np = []\n",
    "movie_id = 1\n",
    "\n",
    "for i,j in zip(data_nan['index'][1:],data_nan['index'][:-1]):\n",
    "    # numpy approach\n",
    "    temp = np.full((1,i-j-1), movie_id)\n",
    "    movie_np = np.append(movie_np, temp)\n",
    "    movie_id += 1\n",
    "\n",
    "# Account for last record and corresponding length\n",
    "# numpy approach\n",
    "last_record = np.full((1,len(data) - data_nan.iloc[-1, 0] - 1),movie_id)\n",
    "movie_np = np.append(movie_np, last_record)\n",
    "\n",
    "print('Movie numpy: {}'.format(movie_np))\n",
    "print('Length: {}'.format(len(movie_np)))\n",
    "\n",
    "# remove those Movie ID rows\n",
    "data = data[pd.notnull(data['Rating'])]\n",
    "\n",
    "data['Movie_Id'] = movie_np.astype(int)\n",
    "data['Cust_Id'] = data['Cust_Id'].astype(int)\n",
    "print('-Dataset examples-')\n",
    "print(data.iloc[::5000000, :])"
   ]
  },
  {
   "cell_type": "code",
   "execution_count": null,
   "id": "8330eb55",
   "metadata": {},
   "outputs": [],
   "source": [
    "# Delete customers who is relatively less active\n",
    "# Delete movie with too many reviews as they are popular\n",
    "f = ['count','mean']\n",
    "\n",
    "data_movie_summary = data.groupby('Movie_Id')['Rating'].agg(f)\n",
    "\n",
    "data_movie_summary.index = data_movie_summary.index.map(int)\n",
    "\n",
    "movie_benchmark = round(data_movie_summary['count'].quantile(0.7),0)\n",
    "\n",
    "drop_movie_list = data_movie_summary[data_movie_summary['count'] < movie_benchmark].index\n",
    "\n",
    "print('Movie minimum times of review: {}'.format(movie_benchmark))\n",
    "\n",
    "\n",
    "data_cust_summary = data.groupby('Cust_Id')['Rating'].agg(f)\n",
    "\n",
    "data_cust_summary.index = data_cust_summary.index.map(int)\n",
    "\n",
    "cust_benchmark = round(data_cust_summary['count'].quantile(0.7),0)\n",
    "\n",
    "drop_cust_list = data_cust_summary[data_cust_summary['count'] < cust_benchmark].index\n",
    "\n",
    "print('Original Shape: {}'.format(data.shape))\n",
    "\n",
    "\n",
    "data = data[~data['Movie_Id'].isin(drop_movie_list)]\n",
    "\n",
    "data = data[~data['Cust_Id'].isin(drop_cust_list)]\n",
    "\n",
    "print('After Trim Shape: {}'.format(data.shape))\n",
    "\n",
    "print('-Data Examples-')\n",
    "print(data.iloc[::5000000, :])"
   ]
  },
  {
   "cell_type": "markdown",
   "id": "124e91bb",
   "metadata": {},
   "source": [
    "### Netflix Recommendation Algorithm"
   ]
  },
  {
   "cell_type": "code",
   "execution_count": null,
   "id": "5aee603d",
   "metadata": {},
   "outputs": [],
   "source": [
    "data_p = pd.pivot_table(data,values='Rating',index='Cust_Id',columns='Movie_Id')\n",
    "data_title = pd.read_csv('movie_titles.csv', encoding = \"ISO-8859-1\", header = None, names = ['Movie_Id', 'Year', 'Name'])\n",
    "data_title.set_index('Movie_Id', inplace = True)"
   ]
  },
  {
   "cell_type": "code",
   "execution_count": null,
   "id": "c7a8e47c",
   "metadata": {},
   "outputs": [],
   "source": [
    "def netflix_recommend_sys(movie_title, min_count):\n",
    "    print(\"For movie ({})\".format(movie_title))\n",
    "    print(\"- Top 10 movies recommended based on Pearsons'R correlation - \")\n",
    "    i = int(data_title.index[data_title['Name'] == movie_title][0])\n",
    "    target = data_p[i]\n",
    "    similar_to_target = data_p.corrwith(target)\n",
    "    corr_target = pd.DataFrame(similar_to_target, columns = ['PearsonR'])\n",
    "    corr_target.dropna(inplace = True)\n",
    "    corr_target = corr_target.sort_values('PearsonR', ascending = False)\n",
    "    corr_target.index = corr_target.index.map(int)\n",
    "    corr_target = corr_target.join(data_title).join(data_movie_summary)[['PearsonR', 'Name', 'count', 'mean']]\n",
    "    print(corr_target[corr_target['count']>min_count][:10].to_string(index=False))\n",
    "\n",
    "netflix_recommend_sys(\"Biggie & Tupac\", 0)"
   ]
  }
 ],
 "metadata": {
  "kernelspec": {
   "display_name": "Python 3 (ipykernel)",
   "language": "python",
   "name": "python3"
  },
  "language_info": {
   "codemirror_mode": {
    "name": "ipython",
    "version": 3
   },
   "file_extension": ".py",
   "mimetype": "text/x-python",
   "name": "python",
   "nbconvert_exporter": "python",
   "pygments_lexer": "ipython3",
   "version": "3.8.8"
  }
 },
 "nbformat": 4,
 "nbformat_minor": 5
}
