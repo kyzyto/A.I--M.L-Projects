{
 "cells": [
  {
   "cell_type": "markdown",
   "id": "f4d1cc2d",
   "metadata": {},
   "source": [
    "# Sabrina"
   ]
  },
  {
   "cell_type": "markdown",
   "id": "7cb6add9",
   "metadata": {},
   "source": [
    "The installation of chatterbot requires python 3.4"
   ]
  },
  {
   "cell_type": "code",
   "execution_count": null,
   "id": "1476427d",
   "metadata": {},
   "outputs": [],
   "source": [
    "!pip install chatterbot==1.0.2\n",
    "!pip install waitress"
   ]
  },
  {
   "cell_type": "code",
   "execution_count": 1,
   "id": "88053751",
   "metadata": {},
   "outputs": [],
   "source": [
    "from flask import Flask, render_template, request\n",
    "from chatterbot import ChatBot\n",
    "from chatterbot.trainers import ChatterBotCorpusTrainer"
   ]
  },
  {
   "cell_type": "code",
   "execution_count": 2,
   "id": "8e62d07d",
   "metadata": {},
   "outputs": [
    {
     "name": "stdout",
     "output_type": "stream",
     "text": [
      "\r",
      "Training ai.yml: [                    ] 1%"
     ]
    },
    {
     "name": "stderr",
     "output_type": "stream",
     "text": [
      "[nltk_data] Downloading package averaged_perceptron_tagger to\n",
      "[nltk_data]     /Users/adunifekizitookoye/nltk_data...\n",
      "[nltk_data]   Package averaged_perceptron_tagger is already up-to-\n",
      "[nltk_data]       date!\n",
      "[nltk_data] Downloading package punkt to\n",
      "[nltk_data]     /Users/adunifekizitookoye/nltk_data...\n",
      "[nltk_data]   Package punkt is already up-to-date!\n",
      "[nltk_data] Downloading package stopwords to\n",
      "[nltk_data]     /Users/adunifekizitookoye/nltk_data...\n",
      "[nltk_data]   Package stopwords is already up-to-date!\n"
     ]
    },
    {
     "name": "stdout",
     "output_type": "stream",
     "text": [
      "Training ai.yml: [####################] 100%\n",
      "Training botprofile.yml: [####################] 100%\n",
      "Training computers.yml: [####################] 100%\n",
      "Training conversations.yml: [####################] 100%\n",
      "Training emotion.yml: [####################] 100%\n",
      "Training food.yml: [####################] 100%\n",
      "Training gossip.yml: [####################] 100%\n",
      "Training greetings.yml: [####################] 100%\n",
      "Training health.yml: [####################] 100%\n",
      "Training history.yml: [####################] 100%\n",
      "Training humor.yml: [####################] 100%\n",
      "Training literature.yml: [####################] 100%\n",
      "Training money.yml: [####################] 100%\n",
      "Training movies.yml: [####################] 100%\n",
      "Training politics.yml: [####################] 100%\n",
      "Training psychology.yml: [####################] 100%\n",
      "Training science.yml: [####################] 100%\n",
      "Training sports.yml: [####################] 100%\n",
      "Training trivia.yml: [####################] 100%\n"
     ]
    }
   ],
   "source": [
    "app = Flask(__name__)\n",
    "\n",
    "#create chatbot\n",
    "\n",
    "englishBot = ChatBot(\"Chatterbot\", storage_adapter=\"chatterbot.storage.SQLStorageAdapter\")\n",
    "\n",
    "trainer = ChatterBotCorpusTrainer(englishBot)\n",
    "\n",
    "trainer.train(\"chatterbot.corpus.english\") #train the chatter bot for english"
   ]
  },
  {
   "cell_type": "code",
   "execution_count": 3,
   "id": "b9e289f2",
   "metadata": {},
   "outputs": [],
   "source": [
    "from waitress import serve"
   ]
  },
  {
   "cell_type": "code",
   "execution_count": null,
   "id": "bb219d7e",
   "metadata": {
    "scrolled": true
   },
   "outputs": [],
   "source": [
    "# define app routes\n",
    "@app.route(\"/\")\n",
    "\n",
    "def index():\n",
    "    return render_template(\"index.html\")\n",
    "\n",
    "@app.route(\"/get\")\n",
    "# function for the bot response\n",
    "def get_bot_response():\n",
    "    userText = request.args.get('msg')\n",
    "    return str(englishBot.get_response(userText))\n",
    "\n",
    "if __name__ == \"__main__\":\n",
    "    app.run(host=\"0.0.0.0\", port=5000)"
   ]
  }
 ],
 "metadata": {
  "kernelspec": {
   "display_name": "Python 3 (ipykernel)",
   "language": "python",
   "name": "python3"
  },
  "language_info": {
   "codemirror_mode": {
    "name": "ipython",
    "version": 3
   },
   "file_extension": ".py",
   "mimetype": "text/x-python",
   "name": "python",
   "nbconvert_exporter": "python",
   "pygments_lexer": "ipython3",
   "version": "3.8.8"
  }
 },
 "nbformat": 4,
 "nbformat_minor": 5
}
