{
 "cells": [
  {
   "cell_type": "markdown",
   "id": "7af50836",
   "metadata": {},
   "source": [
    "# Convert Text into Audo\n",
    "\n",
    "gTTS - Google Text-to-Speech"
   ]
  },
  {
   "cell_type": "code",
   "execution_count": 1,
   "id": "e12a890c",
   "metadata": {},
   "outputs": [
    {
     "name": "stdout",
     "output_type": "stream",
     "text": [
      "Requirement already satisfied: gtts in /Users/adunifekizitookoye/opt/anaconda3/lib/python3.8/site-packages (2.2.3)\n",
      "Requirement already satisfied: requests in /Users/adunifekizitookoye/opt/anaconda3/lib/python3.8/site-packages (from gtts) (2.26.0)\n",
      "Requirement already satisfied: click in /Users/adunifekizitookoye/opt/anaconda3/lib/python3.8/site-packages (from gtts) (8.0.3)\n",
      "Requirement already satisfied: six in /Users/adunifekizitookoye/opt/anaconda3/lib/python3.8/site-packages (from gtts) (1.16.0)\n",
      "Requirement already satisfied: urllib3<1.27,>=1.21.1 in /Users/adunifekizitookoye/opt/anaconda3/lib/python3.8/site-packages (from requests->gtts) (1.26.7)\n",
      "Requirement already satisfied: certifi>=2017.4.17 in /Users/adunifekizitookoye/opt/anaconda3/lib/python3.8/site-packages (from requests->gtts) (2021.10.8)\n",
      "Requirement already satisfied: idna<4,>=2.5 in /Users/adunifekizitookoye/opt/anaconda3/lib/python3.8/site-packages (from requests->gtts) (3.3)\n",
      "Requirement already satisfied: charset-normalizer~=2.0.0 in /Users/adunifekizitookoye/opt/anaconda3/lib/python3.8/site-packages (from requests->gtts) (2.0.4)\n",
      "Requirement already satisfied: playsound in /Users/adunifekizitookoye/opt/anaconda3/lib/python3.8/site-packages (1.3.0)\n"
     ]
    }
   ],
   "source": [
    "!pip install gtts\n",
    "!pip install playsound"
   ]
  },
  {
   "cell_type": "code",
   "execution_count": 2,
   "id": "84808fac",
   "metadata": {},
   "outputs": [],
   "source": [
    "from gtts import gTTS\n",
    "from playsound import playsound"
   ]
  },
  {
   "cell_type": "code",
   "execution_count": 3,
   "id": "6075b70b",
   "metadata": {},
   "outputs": [
    {
     "name": "stdout",
     "output_type": "stream",
     "text": [
      "Enter your Text:Hello world, lovely day to be alive!\n"
     ]
    }
   ],
   "source": [
    "word = input('Enter your Text:')"
   ]
  },
  {
   "cell_type": "code",
   "execution_count": 4,
   "id": "4cc8c1b1",
   "metadata": {},
   "outputs": [],
   "source": [
    "# TODO make to read text file"
   ]
  },
  {
   "cell_type": "code",
   "execution_count": 5,
   "id": "d4c24042",
   "metadata": {},
   "outputs": [],
   "source": [
    "word \n",
    "audio = 'speech.mp3'\n",
    "language = 'en'\n",
    "\n",
    "sp = gTTS(text = word,#what to say \n",
    "          lang = language, #language\n",
    "          tld = 'co.uk', #accent\n",
    "          slow = False) #speed"
   ]
  },
  {
   "cell_type": "code",
   "execution_count": 6,
   "id": "b143d7a6",
   "metadata": {},
   "outputs": [],
   "source": [
    "sp.save(audio)\n",
    "playsound(audio)"
   ]
  },
  {
   "cell_type": "code",
   "execution_count": 7,
   "id": "befa92f9",
   "metadata": {},
   "outputs": [],
   "source": [
    "import os\n",
    "os.remove(audio)"
   ]
  },
  {
   "cell_type": "markdown",
   "id": "19c7cd59",
   "metadata": {},
   "source": [
    "[Reference](chrome-extension://efaidnbmnnnibpcajpcglclefindmkaj/viewer.html?pdfurl=https%3A%2F%2Freadthedocs.org%2Fprojects%2Fgtts%2Fdownloads%2Fpdf%2Flatest%2F&clen=260616&chunk=true)"
   ]
  }
 ],
 "metadata": {
  "kernelspec": {
   "display_name": "Python 3 (ipykernel)",
   "language": "python",
   "name": "python3"
  },
  "language_info": {
   "codemirror_mode": {
    "name": "ipython",
    "version": 3
   },
   "file_extension": ".py",
   "mimetype": "text/x-python",
   "name": "python",
   "nbconvert_exporter": "python",
   "pygments_lexer": "ipython3",
   "version": "3.8.8"
  }
 },
 "nbformat": 4,
 "nbformat_minor": 5
}
