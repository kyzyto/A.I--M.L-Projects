{
 "cells": [
  {
   "cell_type": "markdown",
   "metadata": {
    "id": "Q91KqmCRu64D"
   },
   "source": [
    "# Convolutional Neural Networks: Street View Housing Number Digit Recognition**\n",
    "\n",
    "Welcome to the project on classification using Convolutional Neural Networks. We will continue to work with the Street View Housing Numbers (SVHN) image dataset for this project.\n",
    "\n",
    "--------------\n",
    "### **Context:** \n",
    "--------------\n",
    "\n",
    "One of the most interesting tasks in deep learning is to recognize objects in natural scenes. The ability to process visual information using machine learning algorithms can be very useful as demonstrated in various applications.\n",
    "\n",
    "The SVHN dataset contains over 600,000 labeled digits cropped from street-level photos. It is one of the most popular image recognition datasets. It has been used in neural networks created by Google to improve map quality by automatically transcribing the address numbers from a patch of pixels. The transcribed number with a known street address helps pinpoint the location of the building it represents. \n",
    "\n",
    "----------------\n",
    "### **Objective:**\n",
    "----------------\n",
    "\n",
    "Build a CNN model that can identify the digits in the images.\n",
    "\n",
    "-------------\n",
    "### **Dataset**\n",
    "-------------\n",
    "Here, we will use a subset of the original data to save some computation time. The dataset is provided as a .h5 file. The basic preprocessing steps have been done."
   ]
  },
  {
   "cell_type": "markdown",
   "metadata": {
    "id": "8z2Z7-OAs8QG"
   },
   "source": [
    "## **Mount the drive**\n",
    "Let us start by mounting the drive and importing the necessary libraries."
   ]
  },
  {
   "cell_type": "code",
   "execution_count": 1,
   "metadata": {
    "colab": {
     "base_uri": "https://localhost:8080/"
    },
    "executionInfo": {
     "elapsed": 38753,
     "status": "ok",
     "timestamp": 1649561569992,
     "user": {
      "displayName": "Adunife Kizito Okoye",
      "userId": "17796381864439381022"
     },
     "user_tz": 240
    },
    "id": "03lDyQUuef7z",
    "outputId": "0a4c509f-7130-461d-8487-0ab2e249faf8"
   },
   "outputs": [
    {
     "name": "stdout",
     "output_type": "stream",
     "text": [
      "Mounted at /content/drive\n"
     ]
    }
   ],
   "source": [
    "from google.colab import drive\n",
    "drive.mount('/content/drive')"
   ]
  },
  {
   "cell_type": "markdown",
   "metadata": {
    "id": "C8U3DUa3eNsT"
   },
   "source": [
    "## **Importing libraries**"
   ]
  },
  {
   "cell_type": "code",
   "execution_count": 2,
   "metadata": {
    "executionInfo": {
     "elapsed": 2976,
     "status": "ok",
     "timestamp": 1649561572963,
     "user": {
      "displayName": "Adunife Kizito Okoye",
      "userId": "17796381864439381022"
     },
     "user_tz": 240
    },
    "id": "-dVzeuF3eQx1"
   },
   "outputs": [],
   "source": [
    "import numpy as np\n",
    "import pandas as pd\n",
    "import matplotlib.pyplot as plt\n",
    "import seaborn as sns\n",
    "\n",
    "from sklearn.model_selection import train_test_split\n",
    "from sklearn.preprocessing import MinMaxScaler\n",
    "\n",
    "import tensorflow as tf\n",
    "from tensorflow.keras.models import Sequential\n",
    "from tensorflow.keras.layers import Dense, Conv2D, MaxPool2D, BatchNormalization, Dropout, Flatten, LeakyReLU\n",
    "from tensorflow.keras.utils import to_categorical"
   ]
  },
  {
   "cell_type": "markdown",
   "metadata": {
    "id": "ucnevGLoyKf_"
   },
   "source": [
    "Let us check for the version of tensorflow."
   ]
  },
  {
   "cell_type": "code",
   "execution_count": 3,
   "metadata": {
    "colab": {
     "base_uri": "https://localhost:8080/"
    },
    "executionInfo": {
     "elapsed": 3,
     "status": "ok",
     "timestamp": 1649561572963,
     "user": {
      "displayName": "Adunife Kizito Okoye",
      "userId": "17796381864439381022"
     },
     "user_tz": 240
    },
    "id": "W5as47YxyJVk",
    "outputId": "000dedbd-62ac-44e1-c5d2-61c557f24707"
   },
   "outputs": [
    {
     "name": "stdout",
     "output_type": "stream",
     "text": [
      "2.8.0\n"
     ]
    }
   ],
   "source": [
    "print(tf.__version__)"
   ]
  },
  {
   "cell_type": "markdown",
   "metadata": {
    "id": "8lsux2ZwyTTR"
   },
   "source": [
    "## **Load the dataset**\n",
    "- Let us now load the dataset that is available as a .h5 file.\n",
    "- Split the data into train and the test dataset"
   ]
  },
  {
   "cell_type": "code",
   "execution_count": 4,
   "metadata": {
    "executionInfo": {
     "elapsed": 7576,
     "status": "ok",
     "timestamp": 1649561580537,
     "user": {
      "displayName": "Adunife Kizito Okoye",
      "userId": "17796381864439381022"
     },
     "user_tz": 240
    },
    "id": "BApX9qgNsqV0",
    "scrolled": true
   },
   "outputs": [],
   "source": [
    "import h5py\n",
    "\n",
    "# Open the file as read only\n",
    "# User can make changes in the path as required\n",
    "h5f = h5py.File('/content/drive/MyDrive/SVHNDR/SVHN_single_grey1.h5', 'r')\n",
    "\n",
    "# Load the training and the test set\n",
    "X_train = h5f['X_train'][:]\n",
    "y_train = h5f['y_train'][:]\n",
    "X_test = h5f['X_test'][:]\n",
    "y_test = h5f['y_test'][:]\n",
    "\n",
    "\n",
    "# Close this file\n",
    "h5f.close()"
   ]
  },
  {
   "cell_type": "markdown",
   "metadata": {
    "id": "hVe0CYpUgj7w"
   },
   "source": [
    "Let's check the number of images in the training and testing data."
   ]
  },
  {
   "cell_type": "code",
   "execution_count": 5,
   "metadata": {
    "colab": {
     "base_uri": "https://localhost:8080/"
    },
    "executionInfo": {
     "elapsed": 8,
     "status": "ok",
     "timestamp": 1649561580537,
     "user": {
      "displayName": "Adunife Kizito Okoye",
      "userId": "17796381864439381022"
     },
     "user_tz": 240
    },
    "id": "y3lwKpOefkpA",
    "outputId": "3dec94c7-33db-46b4-f44f-6c13933f69f6"
   },
   "outputs": [
    {
     "data": {
      "text/plain": [
       "(42000, 18000)"
      ]
     },
     "execution_count": 5,
     "metadata": {},
     "output_type": "execute_result"
    }
   ],
   "source": [
    "len(X_train), len(X_test)"
   ]
  },
  {
   "cell_type": "markdown",
   "metadata": {
    "id": "akTUOfLlgwoM"
   },
   "source": [
    "**Observations**\n",
    "- There are 42,000 images in the training data and 18,000 images in the testing data. "
   ]
  },
  {
   "cell_type": "markdown",
   "metadata": {
    "id": "kxODV6HKykuc"
   },
   "source": [
    "## **Visualizing images**\n",
    "- Use X_train to visualize the first 10 images\n",
    "- Use Y_train to print the first 10 labels"
   ]
  },
  {
   "cell_type": "code",
   "execution_count": 6,
   "metadata": {
    "colab": {
     "base_uri": "https://localhost:8080/",
     "height": 95
    },
    "executionInfo": {
     "elapsed": 580,
     "status": "ok",
     "timestamp": 1649561581112,
     "user": {
      "displayName": "Adunife Kizito Okoye",
      "userId": "17796381864439381022"
     },
     "user_tz": 240
    },
    "id": "Bvsc8ytHsqWD",
    "outputId": "ddcf7e8e-1f59-4cd4-8f19-2b6b2e5b133b"
   },
   "outputs": [
    {
     "data": {
      "image/png": "[encoded data removed]",
      "text/plain": [
       "<Figure size 720x72 with 10 Axes>"
      ]
     },
     "metadata": {
      "needs_background": "light"
     },
     "output_type": "display_data"
    },
    {
     "name": "stdout",
     "output_type": "stream",
     "text": [
      "label for each of the above image: [2 6 7 4 4 0 3 0 7 3]\n"
     ]
    }
   ],
   "source": [
    "# visualizing the first 10 images in the dataset and their labels\n",
    "%matplotlib inline\n",
    "import matplotlib.pyplot as plt\n",
    "plt.figure(figsize=(10, 1))\n",
    "for i in range(10):\n",
    "    plt.subplot(1, 10, i+1)\n",
    "    plt.imshow(X_train[i], cmap=\"gray\")\n",
    "    plt.axis('off')\n",
    "plt.show()\n",
    "print('label for each of the above image: %s' % (y_train[0:10]))"
   ]
  },
  {
   "cell_type": "markdown",
   "metadata": {
    "id": "kzoyeXHOy80N"
   },
   "source": [
    "## **Data preparation**\n",
    "\n",
    "- Print the first image in the train image and figure out the shape of the images\n",
    "- Reshape the train and the test dataset to make them fit the first convolutional operation that we will create later. Figure out the required shape\n",
    "- Normalize the train and the test dataset by dividing by 255\n",
    "- Print the new shapes of the train and the test set\n",
    "- One-hot encode the target variable"
   ]
  },
  {
   "cell_type": "code",
   "execution_count": 7,
   "metadata": {
    "colab": {
     "base_uri": "https://localhost:8080/"
    },
    "executionInfo": {
     "elapsed": 11,
     "status": "ok",
     "timestamp": 1649561581112,
     "user": {
      "displayName": "Adunife Kizito Okoye",
      "userId": "17796381864439381022"
     },
     "user_tz": 240
    },
    "id": "NqndzQXng9rL",
    "outputId": "e08440b2-c802-47e0-c176-a5937db0523f"
   },
   "outputs": [
    {
     "name": "stdout",
     "output_type": "stream",
     "text": [
      "Shape: (32, 32)\n",
      "\n",
      "First image:\n",
      " [[ 33.0704  30.2601  26.852  ...  71.4471  58.2204  42.9939]\n",
      " [ 25.2283  25.5533  29.9765 ... 113.0209 103.3639  84.2949]\n",
      " [ 26.2775  22.6137  40.4763 ... 113.3028 121.775  115.4228]\n",
      " ...\n",
      " [ 28.5502  36.212   45.0801 ...  24.1359  25.0927  26.0603]\n",
      " [ 38.4352  26.4733  23.2717 ...  28.1094  29.4683  30.0661]\n",
      " [ 50.2984  26.0773  24.0389 ...  49.6682  50.853   53.0377]]\n"
     ]
    }
   ],
   "source": [
    "# Shape of the images and the first image\n",
    "\n",
    "print(\"Shape:\", X_train[0].shape)\n",
    "print()\n",
    "print(\"First image:\\n\", X_train[0])"
   ]
  },
  {
   "cell_type": "code",
   "execution_count": 8,
   "metadata": {
    "executionInfo": {
     "elapsed": 8,
     "status": "ok",
     "timestamp": 1649561581112,
     "user": {
      "displayName": "Adunife Kizito Okoye",
      "userId": "17796381864439381022"
     },
     "user_tz": 240
    },
    "id": "D9YPwf9ysqWU"
   },
   "outputs": [],
   "source": [
    "# Reshaping the dataset to flatten them. Remember that we always have to give a 4D array as input to CNNs\n",
    "\n",
    "X_train = X_train.reshape(X_train.shape[0], 32,32,1)\n",
    "X_test = X_test.reshape(X_test.shape[0], 32,32,1)"
   ]
  },
  {
   "cell_type": "code",
   "execution_count": 9,
   "metadata": {
    "executionInfo": {
     "elapsed": 8,
     "status": "ok",
     "timestamp": 1649561581113,
     "user": {
      "displayName": "Adunife Kizito Okoye",
      "userId": "17796381864439381022"
     },
     "user_tz": 240
    },
    "id": "q_yUUTp_mUzB"
   },
   "outputs": [],
   "source": [
    "# Normalize inputs from 0-255 to 0-1\n",
    "\n",
    "X_train = X_train / 255.0\n",
    "X_test = X_test / 255.0"
   ]
  },
  {
   "cell_type": "code",
   "execution_count": 10,
   "metadata": {
    "colab": {
     "base_uri": "https://localhost:8080/"
    },
    "executionInfo": {
     "elapsed": 8,
     "status": "ok",
     "timestamp": 1649561581113,
     "user": {
      "displayName": "Adunife Kizito Okoye",
      "userId": "17796381864439381022"
     },
     "user_tz": 240
    },
    "id": "t7FSqOpamWkH",
    "outputId": "7ed5240b-7f1d-4b78-e246-6c3ef4563a1d"
   },
   "outputs": [
    {
     "name": "stdout",
     "output_type": "stream",
     "text": [
      "Training set: (42000, 32, 32, 1) (42000,)\n",
      "Test set: (18000, 32, 32, 1) (18000,)\n"
     ]
    }
   ],
   "source": [
    "# New shape \n",
    "\n",
    "print('Training set:', X_train.shape, y_train.shape)\n",
    "print('Test set:', X_test.shape, y_test.shape)"
   ]
  },
  {
   "cell_type": "code",
   "execution_count": 11,
   "metadata": {
    "colab": {
     "base_uri": "https://localhost:8080/"
    },
    "executionInfo": {
     "elapsed": 307,
     "status": "ok",
     "timestamp": 1649561581414,
     "user": {
      "displayName": "Adunife Kizito Okoye",
      "userId": "17796381864439381022"
     },
     "user_tz": 240
    },
    "id": "zL0lYER4sqWw",
    "outputId": "8b8a8f16-0f3d-4abc-a5dc-e4f4fe48d0b4"
   },
   "outputs": [
    {
     "data": {
      "text/plain": [
       "array([[0., 1., 0., ..., 0., 0., 0.],\n",
       "       [0., 0., 0., ..., 1., 0., 0.],\n",
       "       [0., 0., 1., ..., 0., 0., 0.],\n",
       "       ...,\n",
       "       [0., 0., 0., ..., 1., 0., 0.],\n",
       "       [0., 0., 0., ..., 0., 0., 1.],\n",
       "       [0., 0., 1., ..., 0., 0., 0.]], dtype=float32)"
      ]
     },
     "execution_count": 11,
     "metadata": {},
     "output_type": "execute_result"
    }
   ],
   "source": [
    "# one-hot encode output\n",
    "y_train = to_categorical(y_train)\n",
    "y_test = to_categorical(y_test)\n",
    "\n",
    "#test labels\n",
    "y_test"
   ]
  },
  {
   "cell_type": "markdown",
   "metadata": {
    "id": "ViqPOTquCF76"
   },
   "source": [
    "**Observations**\n",
    "- Notice that each entry of y_test is a one-hot encoded vector instead of a single label."
   ]
  },
  {
   "cell_type": "markdown",
   "metadata": {
    "id": "yH-gVrzuByNA"
   },
   "source": [
    "## **Model Building**\n",
    "\n",
    "Now, we have done data preprocessing, let's build a CNN model."
   ]
  },
  {
   "cell_type": "code",
   "execution_count": 12,
   "metadata": {
    "executionInfo": {
     "elapsed": 3,
     "status": "ok",
     "timestamp": 1649561581414,
     "user": {
      "displayName": "Adunife Kizito Okoye",
      "userId": "17796381864439381022"
     },
     "user_tz": 240
    },
    "id": "ZY5pyF4-KDNt"
   },
   "outputs": [],
   "source": [
    "#Fixing the seed for random number generators\n",
    "np.random.seed(42)\n",
    "import random\n",
    "random.seed(42)\n",
    "tf.random.set_seed(42)"
   ]
  },
  {
   "cell_type": "markdown",
   "metadata": {
    "id": "UJDUoaEj1d6e"
   },
   "source": [
    "### **Model Architecture**\n",
    "- Let's build a model with the following architecture,\n",
    " - First Convolutional layer with **16 filters and kernel size of 3x3**. Use the **'same' padding** and provide an **apt input shape**\n",
    " - Add a **LeakyRelu layer** with the **slope equal to 0.1**\n",
    " - Second Convolutional layer with **32 filters and kernel size of 3x3 with 'same' padding**\n",
    " - Another **LeakyRelu** with the **slope equal to 0.1**\n",
    " - A **max-pooling layer** with a **pool size of 2x2**\n",
    " - **Flatten** the output from the previous layer\n",
    " - Add a **dense layer with 32 nodes**\n",
    " - Add a **LeakyRelu layer with slope equal to 0.1**\n",
    " - Add the final **output layer with nodes equal to the number of classes** and **softmax activation**\n",
    " - Compile the model with the **categorical_crossentropy loss, adam optimizers (learning_rate = 0.001), and accuracy metric**. \n",
    "- Print the summary of the model.\n",
    "- Fit the model on the train data with a **validation split of 0.2, batch size = 32, verbose = 1, and 20 epochs**. Store the model building history to use later for visualization."
   ]
  },
  {
   "cell_type": "code",
   "execution_count": 13,
   "metadata": {
    "executionInfo": {
     "elapsed": 2732,
     "status": "ok",
     "timestamp": 1649561584144,
     "user": {
      "displayName": "Adunife Kizito Okoye",
      "userId": "17796381864439381022"
     },
     "user_tz": 240
    },
    "id": "Cmi81Gr5sqW-"
   },
   "outputs": [],
   "source": [
    "# define model\n",
    "\n",
    "from tensorflow.keras import losses\n",
    "from tensorflow.keras import optimizers\n",
    "\n",
    "\n",
    "model1 = Sequential() \n",
    "model1.add(Conv2D(filters=16, kernel_size=(3,3), padding=\"same\", input_shape=(32, 32, 1)))\n",
    "model1.add(LeakyReLU(0.1))\n",
    "model1.add(Conv2D(filters=32, kernel_size=(3,3), padding='same'))\n",
    "model1.add(LeakyReLU(0.1))\n",
    "model1.add(MaxPool2D(pool_size=(2,2)))\n",
    "model1.add(Flatten())\n",
    "model1.add(Dense(32))\n",
    "model1.add(LeakyReLU(0.1))\n",
    "model1.add(Dense(10, activation='softmax'))\n",
    "\n",
    "adam = optimizers.Adam(learning_rate=0.001)\n",
    "model1.compile(loss=losses.categorical_crossentropy, optimizer=adam, metrics=['accuracy'])"
   ]
  },
  {
   "cell_type": "code",
   "execution_count": 14,
   "metadata": {
    "colab": {
     "base_uri": "https://localhost:8080/"
    },
    "executionInfo": {
     "elapsed": 13,
     "status": "ok",
     "timestamp": 1649561584144,
     "user": {
      "displayName": "Adunife Kizito Okoye",
      "userId": "17796381864439381022"
     },
     "user_tz": 240
    },
    "id": "ckJsLdmdQadZ",
    "outputId": "f329fffe-baea-45b2-9b20-a114ba1a265e"
   },
   "outputs": [
    {
     "name": "stdout",
     "output_type": "stream",
     "text": [
      "Model: \"sequential\"\n",
      "_________________________________________________________________\n",
      " Layer (type)                Output Shape              Param #   \n",
      "=================================================================\n",
      " conv2d (Conv2D)             (None, 32, 32, 16)        160       \n",
      "                                                                 \n",
      " leaky_re_lu (LeakyReLU)     (None, 32, 32, 16)        0         \n",
      "                                                                 \n",
      " conv2d_1 (Conv2D)           (None, 32, 32, 32)        4640      \n",
      "                                                                 \n",
      " leaky_re_lu_1 (LeakyReLU)   (None, 32, 32, 32)        0         \n",
      "                                                                 \n",
      " max_pooling2d (MaxPooling2D  (None, 16, 16, 32)       0         \n",
      " )                                                               \n",
      "                                                                 \n",
      " flatten (Flatten)           (None, 8192)              0         \n",
      "                                                                 \n",
      " dense (Dense)               (None, 32)                262176    \n",
      "                                                                 \n",
      " leaky_re_lu_2 (LeakyReLU)   (None, 32)                0         \n",
      "                                                                 \n",
      " dense_1 (Dense)             (None, 10)                330       \n",
      "                                                                 \n",
      "=================================================================\n",
      "Total params: 267,306\n",
      "Trainable params: 267,306\n",
      "Non-trainable params: 0\n",
      "_________________________________________________________________\n"
     ]
    }
   ],
   "source": [
    "#Model summary\n",
    "model1.summary()"
   ]
  },
  {
   "cell_type": "markdown",
   "metadata": {
    "id": "FQOy-fSxDFYx"
   },
   "source": [
    "- The model has 2,67,306 parameters. The majority of parameters belong to the single dense layer with 32 nodes.\n",
    "- All the parameters are trainable."
   ]
  },
  {
   "cell_type": "code",
   "execution_count": 15,
   "metadata": {
    "colab": {
     "base_uri": "https://localhost:8080/"
    },
    "executionInfo": {
     "elapsed": 204873,
     "status": "ok",
     "timestamp": 1649561789014,
     "user": {
      "displayName": "Adunife Kizito Okoye",
      "userId": "17796381864439381022"
     },
     "user_tz": 240
    },
    "id": "3Fy3Dif_zcCk",
    "outputId": "6bd1b2bc-e33d-4a19-92ac-54affe707a08"
   },
   "outputs": [
    {
     "name": "stdout",
     "output_type": "stream",
     "text": [
      "Epoch 1/20\n",
      "1050/1050 [==============================] - 19s 9ms/step - loss: 1.1773 - accuracy: 0.6109 - val_loss: 0.6532 - val_accuracy: 0.8114\n",
      "Epoch 2/20\n",
      "1050/1050 [==============================] - 10s 9ms/step - loss: 0.5284 - accuracy: 0.8499 - val_loss: 0.5237 - val_accuracy: 0.8511\n",
      "Epoch 3/20\n",
      "1050/1050 [==============================] - 10s 9ms/step - loss: 0.4329 - accuracy: 0.8754 - val_loss: 0.5016 - val_accuracy: 0.8588\n",
      "Epoch 4/20\n",
      "1050/1050 [==============================] - 10s 9ms/step - loss: 0.3748 - accuracy: 0.8915 - val_loss: 0.4445 - val_accuracy: 0.8795\n",
      "Epoch 5/20\n",
      "1050/1050 [==============================] - 10s 9ms/step - loss: 0.3351 - accuracy: 0.9017 - val_loss: 0.4709 - val_accuracy: 0.8727\n",
      "Epoch 6/20\n",
      "1050/1050 [==============================] - 10s 10ms/step - loss: 0.2941 - accuracy: 0.9129 - val_loss: 0.4703 - val_accuracy: 0.8724\n",
      "Epoch 7/20\n",
      "1050/1050 [==============================] - 10s 9ms/step - loss: 0.2669 - accuracy: 0.9199 - val_loss: 0.4435 - val_accuracy: 0.8820\n",
      "Epoch 8/20\n",
      "1050/1050 [==============================] - 10s 9ms/step - loss: 0.2392 - accuracy: 0.9275 - val_loss: 0.4821 - val_accuracy: 0.8702\n",
      "Epoch 9/20\n",
      "1050/1050 [==============================] - 10s 9ms/step - loss: 0.2163 - accuracy: 0.9341 - val_loss: 0.4834 - val_accuracy: 0.8807\n",
      "Epoch 10/20\n",
      "1050/1050 [==============================] - 10s 9ms/step - loss: 0.1921 - accuracy: 0.9411 - val_loss: 0.5107 - val_accuracy: 0.8765\n",
      "Epoch 11/20\n",
      "1050/1050 [==============================] - 10s 9ms/step - loss: 0.1746 - accuracy: 0.9459 - val_loss: 0.5802 - val_accuracy: 0.8681\n",
      "Epoch 12/20\n",
      "1050/1050 [==============================] - 10s 9ms/step - loss: 0.1617 - accuracy: 0.9479 - val_loss: 0.5757 - val_accuracy: 0.8739\n",
      "Epoch 13/20\n",
      "1050/1050 [==============================] - 10s 9ms/step - loss: 0.1408 - accuracy: 0.9555 - val_loss: 0.6086 - val_accuracy: 0.8657\n",
      "Epoch 14/20\n",
      "1050/1050 [==============================] - 9s 9ms/step - loss: 0.1293 - accuracy: 0.9593 - val_loss: 0.6335 - val_accuracy: 0.8713\n",
      "Epoch 15/20\n",
      "1050/1050 [==============================] - 10s 9ms/step - loss: 0.1201 - accuracy: 0.9624 - val_loss: 0.6447 - val_accuracy: 0.8705\n",
      "Epoch 16/20\n",
      "1050/1050 [==============================] - 10s 9ms/step - loss: 0.1054 - accuracy: 0.9666 - val_loss: 0.6886 - val_accuracy: 0.8686\n",
      "Epoch 17/20\n",
      "1050/1050 [==============================] - 10s 9ms/step - loss: 0.1007 - accuracy: 0.9671 - val_loss: 0.7093 - val_accuracy: 0.8682\n",
      "Epoch 18/20\n",
      "1050/1050 [==============================] - 10s 9ms/step - loss: 0.0837 - accuracy: 0.9731 - val_loss: 0.7425 - val_accuracy: 0.8724\n",
      "Epoch 19/20\n",
      "1050/1050 [==============================] - 10s 9ms/step - loss: 0.0848 - accuracy: 0.9719 - val_loss: 0.7859 - val_accuracy: 0.8673\n",
      "Epoch 20/20\n",
      "1050/1050 [==============================] - 10s 9ms/step - loss: 0.0816 - accuracy: 0.9736 - val_loss: 0.8050 - val_accuracy: 0.8696\n"
     ]
    }
   ],
   "source": [
    "# Fit the model\n",
    "history_model_1 = model1.fit(X_train, y_train, validation_split=0.2, epochs=20, batch_size=32, verbose=1)"
   ]
  },
  {
   "cell_type": "markdown",
   "metadata": {
    "id": "tKOckG-KPyLg"
   },
   "source": [
    "### **Plotting the validation and training accuracies**"
   ]
  },
  {
   "cell_type": "code",
   "execution_count": 16,
   "metadata": {
    "colab": {
     "base_uri": "https://localhost:8080/",
     "height": 497
    },
    "executionInfo": {
     "elapsed": 9,
     "status": "ok",
     "timestamp": 1649561789015,
     "user": {
      "displayName": "Adunife Kizito Okoye",
      "userId": "17796381864439381022"
     },
     "user_tz": 240
    },
    "id": "lt77zgGMP4yw",
    "outputId": "57b1ee03-c286-42ba-efbf-f6aa13c22129"
   },
   "outputs": [
    {
     "data": {
      "image/png": "[encoded data removed]",
      "text/plain": [
       "<Figure size 576x576 with 1 Axes>"
      ]
     },
     "metadata": {
      "needs_background": "light"
     },
     "output_type": "display_data"
    }
   ],
   "source": [
    "# plotting the accuracies\n",
    "\n",
    "dict_hist = history_model_1.history\n",
    "list_ep = [i for i in range(1,21)]\n",
    "\n",
    "plt.figure(figsize = (8,8))\n",
    "plt.plot(list_ep,dict_hist['accuracy'],ls = '--', label = 'accuracy')\n",
    "plt.plot(list_ep,dict_hist['val_accuracy'],ls = '--', label = 'val_accuracy')\n",
    "plt.ylabel('Accuracy')\n",
    "plt.xlabel('Epochs')\n",
    "plt.legend()\n",
    "plt.show()"
   ]
  },
  {
   "cell_type": "markdown",
   "metadata": {
    "id": "pGBbQpLONX7k"
   },
   "source": [
    "**Observations:**\n",
    "\n",
    "- The accuracy on the train set is much better (about 12%) than the validation set. We can say that model is overfitting the training data.\n",
    "- The plot shows that training accuracy is increasing with epochs but the validation accuracy is more or less constant after 5 epochs.\n",
    "- We can try adding dropout layers to the model's architecture to avoid overfitting. Also, we can add more convolutional layers for feature extraction"
   ]
  },
  {
   "cell_type": "markdown",
   "metadata": {
    "id": "z0qgLMBZm5-K"
   },
   "source": [
    "Let's build another model and see if we can get a better model with generalized performance.\n",
    "\n",
    "First, we need to clear the previous model's history from the keras backend. Also, let's fix the seed again after clearing the backend."
   ]
  },
  {
   "cell_type": "code",
   "execution_count": 17,
   "metadata": {
    "executionInfo": {
     "elapsed": 5,
     "status": "ok",
     "timestamp": 1649561789015,
     "user": {
      "displayName": "Adunife Kizito Okoye",
      "userId": "17796381864439381022"
     },
     "user_tz": 240
    },
    "id": "y98BpLxsok_H"
   },
   "outputs": [],
   "source": [
    "#Clearing backend\n",
    "from tensorflow.keras import backend\n",
    "backend.clear_session()"
   ]
  },
  {
   "cell_type": "code",
   "execution_count": 18,
   "metadata": {
    "executionInfo": {
     "elapsed": 5,
     "status": "ok",
     "timestamp": 1649561789015,
     "user": {
      "displayName": "Adunife Kizito Okoye",
      "userId": "17796381864439381022"
     },
     "user_tz": 240
    },
    "id": "HbKi93HTolGW"
   },
   "outputs": [],
   "source": [
    "#Fixing the seed for random number generators\n",
    "np.random.seed(42)\n",
    "import random\n",
    "random.seed(42)\n",
    "tf.random.set_seed(42)"
   ]
  },
  {
   "cell_type": "markdown",
   "metadata": {
    "id": "lT6o3TIKuCtk"
   },
   "source": [
    "### **Second Model Architecture**\n",
    "- Let's build a second model with the following architecture,\n",
    " - First Convolutional layer with **16 filters and kernel size of 3x3**. Use the **'same' padding** and provide an **apt input shape**\n",
    " - Add a **LeakyRelu layer** with the **slope equal to 0.1**\n",
    " - Second Convolutional layer with **32 filters and kernel size of 3x3 with 'same' padding**\n",
    " - Add **LeakyRelu** with the **slope equal to 0.1**\n",
    " - Add a **max-pooling layer** with a **pool size of 2x2**\n",
    " - Add a **BatchNormalization layer**\n",
    " - Third Convolutional layer with **32 filters and kernel size of 3x3 with 'same' padding**\n",
    " - Add a **LeakyRelu layer with slope equal to 0.1**\n",
    " - Fourth Convolutional layer **64 filters and kernel size of 3x3 with 'same' padding** \n",
    " - Add a **LeakyRelu layer with slope equal to 0.1**\n",
    " - Add a **max-pooling layer** with a **pool size of 2x2**\n",
    " - Add a **BatchNormalization layer**\n",
    " - **Flatten** the output from the previous layer\n",
    " - Add a **dense layer with 32 nodes**\n",
    " - Add a **LeakyRelu layer with slope equal to 0.1**\n",
    " - Add a **dropout layer with rate equal to 0.5**\n",
    " - Add the final **output layer with nodes equal to the number of classes** and **softmax activation**\n",
    " - Compile the model with the **categorical_crossentropy loss, adam optimizers (learning_rate = 0.001), and accuracy metric**.\n",
    "- Print the summary of the model.\n",
    "- Fit the model on the train data with a **validation split of 0.2, batch size = 128, verbose = 1, and 30 epochs**. Store the model building history to use later for visualization."
   ]
  },
  {
   "cell_type": "markdown",
   "metadata": {
    "id": "y5IBLS1eKDNy"
   },
   "source": [
    "#### **Question 5: Build and train the second CNN model as per the above mentioned architecture (10 Marks)**"
   ]
  },
  {
   "cell_type": "code",
   "execution_count": 19,
   "metadata": {
    "executionInfo": {
     "elapsed": 667,
     "status": "ok",
     "timestamp": 1649561789677,
     "user": {
      "displayName": "Adunife Kizito Okoye",
      "userId": "17796381864439381022"
     },
     "user_tz": 240
    },
    "id": "EEPYLFIPnSDP"
   },
   "outputs": [],
   "source": [
    "model2 = Sequential()\n",
    "model2.add(Conv2D(filters=16, kernel_size=(3,3), padding=\"same\", input_shape=(32, 32, 1)))\n",
    "model2.add(LeakyReLU(0.1))\n",
    "model2.add(Conv2D(filters=32, kernel_size=(3,3), padding='same'))\n",
    "model2.add(LeakyReLU(0.1))\n",
    "model2.add(MaxPool2D(pool_size=(2,2)))\n",
    "model2.add(BatchNormalization())\n",
    "model2.add(Conv2D(filters=32, kernel_size=(3,3), padding='same'))\n",
    "model2.add(LeakyReLU(0.1))\n",
    "model2.add(Conv2D(filters=64, kernel_size=(3,3), padding='same'))\n",
    "model2.add(LeakyReLU(0.1))\n",
    "model2.add(MaxPool2D(pool_size=(2,2)))\n",
    "model2.add(BatchNormalization())\n",
    "model2.add(Flatten())\n",
    "model2.add(Dense(32))\n",
    "model2.add(LeakyReLU(0.1))\n",
    "model2.add(Dropout(0.5))\n",
    "model2.add(Dense(10, activation='softmax'))\n",
    "    \n",
    "adam = optimizers.Adam(learning_rate=1e-3)\n",
    "model2.compile(loss=losses.categorical_crossentropy, optimizer=adam, metrics=['accuracy'])"
   ]
  },
  {
   "cell_type": "code",
   "execution_count": 20,
   "metadata": {
    "colab": {
     "base_uri": "https://localhost:8080/"
    },
    "executionInfo": {
     "elapsed": 12,
     "status": "ok",
     "timestamp": 1649561789677,
     "user": {
      "displayName": "Adunife Kizito Okoye",
      "userId": "17796381864439381022"
     },
     "user_tz": 240
    },
    "id": "gz_6SVrU2swZ",
    "outputId": "058fa939-7836-4104-8277-2f6f85b60a25"
   },
   "outputs": [
    {
     "name": "stdout",
     "output_type": "stream",
     "text": [
      "Model: \"sequential\"\n",
      "_________________________________________________________________\n",
      " Layer (type)                Output Shape              Param #   \n",
      "=================================================================\n",
      " conv2d (Conv2D)             (None, 32, 32, 16)        160       \n",
      "                                                                 \n",
      " leaky_re_lu (LeakyReLU)     (None, 32, 32, 16)        0         \n",
      "                                                                 \n",
      " conv2d_1 (Conv2D)           (None, 32, 32, 32)        4640      \n",
      "                                                                 \n",
      " leaky_re_lu_1 (LeakyReLU)   (None, 32, 32, 32)        0         \n",
      "                                                                 \n",
      " max_pooling2d (MaxPooling2D  (None, 16, 16, 32)       0         \n",
      " )                                                               \n",
      "                                                                 \n",
      " batch_normalization (BatchN  (None, 16, 16, 32)       128       \n",
      " ormalization)                                                   \n",
      "                                                                 \n",
      " conv2d_2 (Conv2D)           (None, 16, 16, 32)        9248      \n",
      "                                                                 \n",
      " leaky_re_lu_2 (LeakyReLU)   (None, 16, 16, 32)        0         \n",
      "                                                                 \n",
      " conv2d_3 (Conv2D)           (None, 16, 16, 64)        18496     \n",
      "                                                                 \n",
      " leaky_re_lu_3 (LeakyReLU)   (None, 16, 16, 64)        0         \n",
      "                                                                 \n",
      " max_pooling2d_1 (MaxPooling  (None, 8, 8, 64)         0         \n",
      " 2D)                                                             \n",
      "                                                                 \n",
      " batch_normalization_1 (Batc  (None, 8, 8, 64)         256       \n",
      " hNormalization)                                                 \n",
      "                                                                 \n",
      " flatten (Flatten)           (None, 4096)              0         \n",
      "                                                                 \n",
      " dense (Dense)               (None, 32)                131104    \n",
      "                                                                 \n",
      " leaky_re_lu_4 (LeakyReLU)   (None, 32)                0         \n",
      "                                                                 \n",
      " dropout (Dropout)           (None, 32)                0         \n",
      "                                                                 \n",
      " dense_1 (Dense)             (None, 10)                330       \n",
      "                                                                 \n",
      "=================================================================\n",
      "Total params: 164,362\n",
      "Trainable params: 164,170\n",
      "Non-trainable params: 192\n",
      "_________________________________________________________________\n"
     ]
    }
   ],
   "source": [
    "#Model summary\n",
    "model2.summary()"
   ]
  },
  {
   "cell_type": "markdown",
   "metadata": {
    "id": "j2abNMQJ24JR"
   },
   "source": [
    "**Observations:**\n",
    "\n",
    "- Although we have added layers to the model's architecture, the total number of parameters has decreased substantially (approx 40%) compared to the previous model.\n",
    "- This is due to the additional max-pooling layer that has further reduced the size of images before passing them to the dense layer. Also, we have added dropout layer to the model. \n",
    "- All the parameters are trainable.\n",
    "\n",
    "Let's fit the model"
   ]
  },
  {
   "cell_type": "code",
   "execution_count": 21,
   "metadata": {
    "colab": {
     "base_uri": "https://localhost:8080/"
    },
    "executionInfo": {
     "elapsed": 202697,
     "status": "ok",
     "timestamp": 1649561992370,
     "user": {
      "displayName": "Adunife Kizito Okoye",
      "userId": "17796381864439381022"
     },
     "user_tz": 240
    },
    "id": "IQ0Sc4R-y-uu",
    "outputId": "ba6eceed-e63b-4dea-8c0c-4e59705f7b01"
   },
   "outputs": [
    {
     "name": "stdout",
     "output_type": "stream",
     "text": [
      "Epoch 1/30\n",
      "263/263 [==============================] - 7s 23ms/step - loss: 1.4793 - accuracy: 0.4954 - val_loss: 2.6966 - val_accuracy: 0.1785\n",
      "Epoch 2/30\n",
      "263/263 [==============================] - 6s 22ms/step - loss: 0.7014 - accuracy: 0.7813 - val_loss: 0.7690 - val_accuracy: 0.7519\n",
      "Epoch 3/30\n",
      "263/263 [==============================] - 5s 21ms/step - loss: 0.5734 - accuracy: 0.8243 - val_loss: 0.5210 - val_accuracy: 0.8475\n",
      "Epoch 4/30\n",
      "263/263 [==============================] - 5s 21ms/step - loss: 0.5032 - accuracy: 0.8452 - val_loss: 0.4031 - val_accuracy: 0.8826\n",
      "Epoch 5/30\n",
      "263/263 [==============================] - 5s 20ms/step - loss: 0.4562 - accuracy: 0.8619 - val_loss: 0.4749 - val_accuracy: 0.8661\n",
      "Epoch 6/30\n",
      "263/263 [==============================] - 5s 20ms/step - loss: 0.4155 - accuracy: 0.8710 - val_loss: 0.3915 - val_accuracy: 0.8883\n",
      "Epoch 7/30\n",
      "263/263 [==============================] - 6s 21ms/step - loss: 0.3848 - accuracy: 0.8816 - val_loss: 0.5111 - val_accuracy: 0.8633\n",
      "Epoch 8/30\n",
      "263/263 [==============================] - 5s 21ms/step - loss: 0.3631 - accuracy: 0.8890 - val_loss: 0.4218 - val_accuracy: 0.8848\n",
      "Epoch 9/30\n",
      "263/263 [==============================] - 5s 20ms/step - loss: 0.3350 - accuracy: 0.8952 - val_loss: 0.3718 - val_accuracy: 0.8973\n",
      "Epoch 10/30\n",
      "263/263 [==============================] - 6s 21ms/step - loss: 0.3190 - accuracy: 0.9005 - val_loss: 0.4136 - val_accuracy: 0.8860\n",
      "Epoch 11/30\n",
      "263/263 [==============================] - 5s 20ms/step - loss: 0.3059 - accuracy: 0.9025 - val_loss: 0.4533 - val_accuracy: 0.8788\n",
      "Epoch 12/30\n",
      "263/263 [==============================] - 5s 21ms/step - loss: 0.2929 - accuracy: 0.9068 - val_loss: 0.3589 - val_accuracy: 0.9043\n",
      "Epoch 13/30\n",
      "263/263 [==============================] - 5s 20ms/step - loss: 0.2749 - accuracy: 0.9119 - val_loss: 0.4505 - val_accuracy: 0.8938\n",
      "Epoch 14/30\n",
      "263/263 [==============================] - 5s 21ms/step - loss: 0.2668 - accuracy: 0.9160 - val_loss: 0.4457 - val_accuracy: 0.8739\n",
      "Epoch 15/30\n",
      "263/263 [==============================] - 5s 21ms/step - loss: 0.2567 - accuracy: 0.9161 - val_loss: 0.3593 - val_accuracy: 0.9073\n",
      "Epoch 16/30\n",
      "263/263 [==============================] - 5s 20ms/step - loss: 0.2457 - accuracy: 0.9223 - val_loss: 0.3844 - val_accuracy: 0.9012\n",
      "Epoch 17/30\n",
      "263/263 [==============================] - 6s 21ms/step - loss: 0.2343 - accuracy: 0.9239 - val_loss: 0.3690 - val_accuracy: 0.9082\n",
      "Epoch 18/30\n",
      "263/263 [==============================] - 5s 20ms/step - loss: 0.2212 - accuracy: 0.9263 - val_loss: 0.4065 - val_accuracy: 0.8949\n",
      "Epoch 19/30\n",
      "263/263 [==============================] - 5s 21ms/step - loss: 0.2186 - accuracy: 0.9287 - val_loss: 0.4171 - val_accuracy: 0.9012\n",
      "Epoch 20/30\n",
      "263/263 [==============================] - 6s 21ms/step - loss: 0.2054 - accuracy: 0.9324 - val_loss: 0.4712 - val_accuracy: 0.8860\n",
      "Epoch 21/30\n",
      "263/263 [==============================] - 6s 21ms/step - loss: 0.2034 - accuracy: 0.9330 - val_loss: 0.3600 - val_accuracy: 0.9113\n",
      "Epoch 22/30\n",
      "263/263 [==============================] - 6s 21ms/step - loss: 0.1966 - accuracy: 0.9358 - val_loss: 0.3984 - val_accuracy: 0.9061\n",
      "Epoch 23/30\n",
      "263/263 [==============================] - 5s 21ms/step - loss: 0.1948 - accuracy: 0.9365 - val_loss: 0.4987 - val_accuracy: 0.8999\n",
      "Epoch 24/30\n",
      "263/263 [==============================] - 6s 21ms/step - loss: 0.1869 - accuracy: 0.9389 - val_loss: 0.4237 - val_accuracy: 0.9057\n",
      "Epoch 25/30\n",
      "263/263 [==============================] - 6s 21ms/step - loss: 0.1720 - accuracy: 0.9429 - val_loss: 0.4104 - val_accuracy: 0.9135\n",
      "Epoch 26/30\n",
      "263/263 [==============================] - 5s 20ms/step - loss: 0.1742 - accuracy: 0.9433 - val_loss: 0.4635 - val_accuracy: 0.9081\n",
      "Epoch 27/30\n",
      "263/263 [==============================] - 5s 21ms/step - loss: 0.1623 - accuracy: 0.9454 - val_loss: 0.4174 - val_accuracy: 0.9088\n",
      "Epoch 28/30\n",
      "263/263 [==============================] - 5s 20ms/step - loss: 0.1643 - accuracy: 0.9450 - val_loss: 0.5415 - val_accuracy: 0.9021\n",
      "Epoch 29/30\n",
      "263/263 [==============================] - 5s 21ms/step - loss: 0.1543 - accuracy: 0.9486 - val_loss: 0.5100 - val_accuracy: 0.8990\n",
      "Epoch 30/30\n",
      "263/263 [==============================] - 6s 21ms/step - loss: 0.1523 - accuracy: 0.9494 - val_loss: 0.4799 - val_accuracy: 0.9043\n"
     ]
    }
   ],
   "source": [
    "# Fit the model\n",
    "history_model_2 = model2.fit(X_train, y_train, validation_split=0.2, epochs=30, batch_size=128, verbose=1)"
   ]
  },
  {
   "cell_type": "markdown",
   "metadata": {
    "id": "zKCdy59GKDN1"
   },
   "source": [
    "### **Plotting the validation and training accuracies**"
   ]
  },
  {
   "cell_type": "code",
   "execution_count": 22,
   "metadata": {
    "colab": {
     "base_uri": "https://localhost:8080/",
     "height": 497
    },
    "executionInfo": {
     "elapsed": 9,
     "status": "ok",
     "timestamp": 1649561992371,
     "user": {
      "displayName": "Adunife Kizito Okoye",
      "userId": "17796381864439381022"
     },
     "user_tz": 240
    },
    "id": "01ig6BrF1KVy",
    "outputId": "85b301c2-8961-413e-edb7-ea8787137dcd"
   },
   "outputs": [
    {
     "data": {
      "image/png": "[encoded data removed]",
      "text/plain": [
       "<Figure size 576x576 with 1 Axes>"
      ]
     },
     "metadata": {
      "needs_background": "light"
     },
     "output_type": "display_data"
    }
   ],
   "source": [
    "# plotting the accuracies\n",
    "\n",
    "dict_hist = history_model_2.history\n",
    "list_ep = [i for i in range(1,31)]\n",
    "\n",
    "plt.figure(figsize = (8,8))\n",
    "plt.plot(list_ep,dict_hist['accuracy'],ls = '--', label = 'accuracy')\n",
    "plt.plot(list_ep,dict_hist['val_accuracy'],ls = '--', label = 'val_accuracy')\n",
    "plt.ylabel('Accuracy')\n",
    "plt.xlabel('Epochs')\n",
    "plt.legend()\n",
    "plt.show()"
   ]
  },
  {
   "cell_type": "markdown",
   "metadata": {
    "id": "VPW1LlD61RDn"
   },
   "source": [
    "**Observations:**\n",
    "\n",
    "- The second model that has more convolutional layers and less complex in terms of the number of parameters is performing significantly better than the first model.\n",
    "- The overfitting has reduced significantly. The model is giving a generalized performance.  \n",
    "- As you can see in the graph, validation is almost constant after the epoch 15 which might be due to the plateau region ( saddle point or local extremum). We can try adjusting the learning rate during the plateau region. \n"
   ]
  },
  {
   "cell_type": "markdown",
   "metadata": {
    "id": "8kuXx9Bvu00f"
   },
   "source": [
    "## **Predictions on the test data**\n",
    "\n",
    "- Make predictions on the test set using the second model\n",
    "- Print the obtained results using the classification report and the confusion matrix\n",
    "- Final observations from the obtained results"
   ]
  },
  {
   "cell_type": "code",
   "execution_count": 23,
   "metadata": {
    "executionInfo": {
     "elapsed": 3030,
     "status": "ok",
     "timestamp": 1649561995397,
     "user": {
      "displayName": "Adunife Kizito Okoye",
      "userId": "17796381864439381022"
     },
     "user_tz": 240
    },
    "id": "xbWMEtTj5Ad0"
   },
   "outputs": [],
   "source": [
    "test_pred = model2.predict(X_test)\n",
    "test_pred = np.argmax(test_pred, axis=-1)"
   ]
  },
  {
   "cell_type": "markdown",
   "metadata": {
    "id": "i3li8Ib08yts"
   },
   "source": [
    "**Note:** Earlier, we noticed that each entry of the test data is a one-hot encoded vector but to print the classification report and confusion matrix, we must convert each entry of y_test to a single label."
   ]
  },
  {
   "cell_type": "code",
   "execution_count": 24,
   "metadata": {
    "executionInfo": {
     "elapsed": 4,
     "status": "ok",
     "timestamp": 1649561995397,
     "user": {
      "displayName": "Adunife Kizito Okoye",
      "userId": "17796381864439381022"
     },
     "user_tz": 240
    },
    "id": "NByu7uAQ8x9P"
   },
   "outputs": [],
   "source": [
    "#Converting each entry to single label from one-hot encoded vector\n",
    "y_test = np.argmax(y_test, axis=-1)"
   ]
  },
  {
   "cell_type": "code",
   "execution_count": 25,
   "metadata": {
    "colab": {
     "base_uri": "https://localhost:8080/",
     "height": 629
    },
    "executionInfo": {
     "elapsed": 540,
     "status": "ok",
     "timestamp": 1649561995935,
     "user": {
      "displayName": "Adunife Kizito Okoye",
      "userId": "17796381864439381022"
     },
     "user_tz": 240
    },
    "id": "xRddeJ-3EHT1",
    "outputId": "68da892f-dcea-4a00-e410-3e323ad23756"
   },
   "outputs": [
    {
     "name": "stdout",
     "output_type": "stream",
     "text": [
      "              precision    recall  f1-score   support\n",
      "\n",
      "           0       0.92      0.92      0.92      1814\n",
      "           1       0.89      0.92      0.91      1828\n",
      "           2       0.93      0.91      0.92      1803\n",
      "           3       0.91      0.86      0.88      1719\n",
      "           4       0.93      0.92      0.92      1812\n",
      "           5       0.88      0.93      0.90      1768\n",
      "           6       0.87      0.90      0.89      1832\n",
      "           7       0.95      0.92      0.93      1808\n",
      "           8       0.90      0.87      0.89      1812\n",
      "           9       0.89      0.91      0.90      1804\n",
      "\n",
      "    accuracy                           0.91     18000\n",
      "   macro avg       0.91      0.91      0.91     18000\n",
      "weighted avg       0.91      0.91      0.91     18000\n",
      "\n"
     ]
    },
    {
     "data": {
      "image/png": "[encoded data removed]",
      "text/plain": [
       "<Figure size 576x360 with 2 Axes>"
      ]
     },
     "metadata": {
      "needs_background": "light"
     },
     "output_type": "display_data"
    }
   ],
   "source": [
    "#importing required functions\n",
    "from sklearn.metrics import classification_report\n",
    "from sklearn.metrics import confusion_matrix\n",
    "\n",
    "#Printing the classification report\n",
    "print(classification_report(y_test, test_pred))\n",
    "\n",
    "#Plotting the heatmap using confusion matrix\n",
    "cm = confusion_matrix(y_test, test_pred)\n",
    "plt.figure(figsize=(8,5))\n",
    "sns.heatmap(cm, annot=True,  fmt='.0f')\n",
    "plt.ylabel('Actual')\n",
    "plt.xlabel('Predicted')\n",
    "plt.show()"
   ]
  },
  {
   "cell_type": "markdown",
   "metadata": {
    "id": "DjErl4GA2u9s"
   },
   "source": [
    "#### **Observations:**\n",
    "\n",
    "- The accuracy is **91% on the test set.** This is comparable with the results on the validation set which implies that the model is giving a generalized performance.\n",
    "- This performance is significantly better than the performance of the final model using simple feed-forward neural networks. This suggests that **CNNs are a better choice for this particular dataset.**\n",
    "- The recall values for all the digits are higher than or equal to 87% with 3 having the least recall. The confusion matrix shows that the model has confused 3 with digits 5 and 8 the most number of times.\n",
    "- The same can be observed for digits 1 and 8 as well. The model has confused digits 1 and 8 with 4 and 6 respectively. This implies that the model is not able to distinguish between digits with similar orientation.\n",
    "- The highest recall of about 94% is for digit 0 i.e. the model can identify 94% of images with digit 0.\n",
    "- **The precision values show that the model is also precise in its prediction, and not just sacrificing precision for recall.** All digits have precision greater than or equal to 86% with 7 having the highest precision of 94%. This indicates that it is easier for the model to identify images with digits 7.\n",
    "- The class with the least precision is digit 6. "
   ]
  },
  {
   "cell_type": "markdown",
   "metadata": {
    "id": "022vw7VnKDN3"
   },
   "source": [
    "**Note:**\n",
    "\n",
    "- We can try hyperparameter tuning to get an even better performance\n",
    "- Data Augmentation might help to make the model more robust and invariant towards different orientations\n",
    "- We can also try techniques like transfer learning and see if we can get better results"
   ]
  }
 ],
 "metadata": {
  "accelerator": "GPU",
  "colab": {
   "collapsed_sections": [],
   "name": "CNN_Practice_Project_SVHN_.ipynb",
   "provenance": []
  },
  "kernelspec": {
   "display_name": "Python 3 (ipykernel)",
   "language": "python",
   "name": "python3"
  },
  "language_info": {
   "codemirror_mode": {
    "name": "ipython",
    "version": 3
   },
   "file_extension": ".py",
   "mimetype": "text/x-python",
   "name": "python",
   "nbconvert_exporter": "python",
   "pygments_lexer": "ipython3",
   "version": "3.8.2"
  }
 },
 "nbformat": 4,
 "nbformat_minor": 1
}
