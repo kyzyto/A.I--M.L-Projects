{
 "cells": [
  {
   "cell_type": "code",
   "execution_count": 1,
   "id": "c103ee24",
   "metadata": {},
   "outputs": [],
   "source": [
    "import cv2 as cv"
   ]
  },
  {
   "cell_type": "markdown",
   "id": "3dc1465d",
   "metadata": {},
   "source": [
    "  "
   ]
  },
  {
   "cell_type": "code",
   "execution_count": 2,
   "id": "498cf03a",
   "metadata": {},
   "outputs": [],
   "source": [
    "face_cascade = cv.CascadeClassifier('/Users/adunifekizitookoye/opt/anaconda3/lib/python3.8/site-packages/cv2/data/haarcascade_frontalface_default.xml')"
   ]
  },
  {
   "cell_type": "markdown",
   "id": "b21dbb3d",
   "metadata": {},
   "source": [
    "  "
   ]
  },
  {
   "cell_type": "code",
   "execution_count": 3,
   "id": "0a7fcdee",
   "metadata": {},
   "outputs": [],
   "source": [
    "eye_cascade = cv.CascadeClassifier('/Users/adunifekizitookoye/opt/anaconda3/lib/python3.8/site-packages/cv2/data/haarcascade_eye.xml')"
   ]
  },
  {
   "cell_type": "markdown",
   "id": "79c8b363",
   "metadata": {},
   "source": [
    "  "
   ]
  },
  {
   "cell_type": "code",
   "execution_count": null,
   "id": "9bdec3a1",
   "metadata": {},
   "outputs": [],
   "source": [
    "cap = cv.VideoCapture(0)\n",
    "\n",
    "while True:\n",
    "    ret, img = cap.read()\n",
    "    gray = cv.cvtColor(img, cv.COLOR_BGR2GRAY)\n",
    "    \n",
    "    faces = face_cascade.detectMultiScale(gray, 1.3, 5)\n",
    "    \n",
    "    for (x, y, w, h) in faces:\n",
    "        cv.rectangle(img,(x,y),(x + w, y + h), (255, 255, 0), 2)\n",
    "        roi_gray = gray[y:y+h, x:x+w]\n",
    "        roi_color = img[y:y+h, x:x+w]\n",
    "        \n",
    "        \n",
    "        eyes = eye_cascade.detectMultiScale(roi_gray)\n",
    "        \n",
    "        for (ex, ey, ew, eh) in eyes:\n",
    "            cv.rectangle(roi_color, (ex, ey), (ex + ew, ex + eh),\n",
    "                        (0, 127, 255), 1)\n",
    "    cv.imshow('img', img)\n",
    "        \n",
    "    k = cv.waitKey(30) & 0xFF\n",
    "    if k == 27:\n",
    "        break\n",
    "cap.release()\n",
    "cv.destroyAllWindows()"
   ]
  },
  {
   "cell_type": "code",
   "execution_count": null,
   "id": "4005acdf",
   "metadata": {},
   "outputs": [],
   "source": []
  }
 ],
 "metadata": {
  "kernelspec": {
   "display_name": "Python 3 (ipykernel)",
   "language": "python",
   "name": "python3"
  },
  "language_info": {
   "codemirror_mode": {
    "name": "ipython",
    "version": 3
   },
   "file_extension": ".py",
   "mimetype": "text/x-python",
   "name": "python",
   "nbconvert_exporter": "python",
   "pygments_lexer": "ipython3",
   "version": "3.8.8"
  }
 },
 "nbformat": 4,
 "nbformat_minor": 5
}
