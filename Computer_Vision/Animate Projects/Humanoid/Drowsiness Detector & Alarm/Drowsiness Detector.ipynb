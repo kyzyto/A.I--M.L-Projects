{
 "cells": [
  {
   "cell_type": "markdown",
   "id": "07db1513",
   "metadata": {},
   "source": [
    "# Drowiness Detection System"
   ]
  },
  {
   "cell_type": "markdown",
   "id": "7c52d2b2",
   "metadata": {},
   "source": [
    "This project shows the **open eyes / close eyes ML detector** and was developed using the Python:\n",
    "\n",
    "   * OpenCV - face and eye detection\n",
    "   * Tensorflow - ML backend used by Keras\n",
    "   * Keras - build classification model\n",
    "   * Pygame - to play alarm sound"
   ]
  },
  {
   "cell_type": "markdown",
   "id": "2dbbdee1",
   "metadata": {},
   "source": [
    "**Step 1** Take image as input from a camera<br>\n",
    "\n",
    "**Step 2** Detect the face in the image and create the Region Of Interest(ROI)<br>\n",
    "\n",
    "**Step 3** Detect the left and right in the ROI and feed it to the classifier<br>\n",
    "\n",
    "**Step 4** Classifier will categorize whether eyes are open or closed<br>\n",
    "\n",
    "**Step 5** Calculate score to check whether the person is drowsy<br>"
   ]
  },
  {
   "cell_type": "code",
   "execution_count": null,
   "id": "a217abd6",
   "metadata": {},
   "outputs": [],
   "source": [
    "!pip install keras"
   ]
  },
  {
   "cell_type": "code",
   "execution_count": null,
   "id": "8c2559aa",
   "metadata": {},
   "outputs": [],
   "source": [
    "!pip install pygame"
   ]
  },
  {
   "cell_type": "code",
   "execution_count": 1,
   "id": "26690fbe",
   "metadata": {},
   "outputs": [
    {
     "name": "stdout",
     "output_type": "stream",
     "text": [
      "pygame 2.1.0 (SDL 2.0.16, Python 3.8.8)\n",
      "Hello from the pygame community. https://www.pygame.org/contribute.html\n"
     ]
    }
   ],
   "source": [
    "import cv2 as cv\n",
    "import os\n",
    "from keras.models import load_model\n",
    "import numpy as np\n",
    "from pygame import mixer\n",
    "import time"
   ]
  },
  {
   "cell_type": "code",
   "execution_count": 2,
   "id": "2be78683",
   "metadata": {},
   "outputs": [],
   "source": [
    "mixer.init()\n",
    "sound = mixer.Sound('alarm.wav')"
   ]
  },
  {
   "cell_type": "code",
   "execution_count": 3,
   "id": "ffd6d7ad",
   "metadata": {},
   "outputs": [],
   "source": [
    "# whole face = f\n",
    "face = cv.CascadeClassifier('/Users/adunifekizitookoye/opt/anaconda3/lib/python3.8/site-packages/cv2/data/haarcascade_frontalface_alt.xml')\n",
    "#left eye = l_e\n",
    "l_e = cv.CascadeClassifier('/Users/adunifekizitookoye/opt/anaconda3/lib/python3.8/site-packages/cv2/data/haarcascade_lefteye_2splits.xml')\n",
    "#right eye = r_e\n",
    "r_e = cv.CascadeClassifier('/Users/adunifekizitookoye/opt/anaconda3/lib/python3.8/site-packages/cv2/data/haarcascade_righteye_2splits.xml') "
   ]
  },
  {
   "cell_type": "code",
   "execution_count": 4,
   "id": "38f0aaf7",
   "metadata": {},
   "outputs": [],
   "source": [
    "lbl = ['Close', 'Open']"
   ]
  },
  {
   "cell_type": "code",
   "execution_count": 5,
   "id": "742620ca",
   "metadata": {},
   "outputs": [
    {
     "name": "stderr",
     "output_type": "stream",
     "text": [
      "2021-11-19 03:04:18.839909: I tensorflow/core/platform/cpu_feature_guard.cc:151] This TensorFlow binary is optimized with oneAPI Deep Neural Network Library (oneDNN) to use the following CPU instructions in performance-critical operations:  AVX2 FMA\n",
      "To enable them in other operations, rebuild TensorFlow with the appropriate compiler flags.\n"
     ]
    }
   ],
   "source": [
    "model = load_model('models/cnncat2.h5')\n",
    "path = os.getcwd() #gets current working directory from operating system\n",
    "\n",
    "cap = cv.VideoCapture(0)\n",
    "font = cv.FONT_HERSHEY_COMPLEX_SMALL\n",
    "\n",
    "count = 0\n",
    "score = 0\n",
    "thicc = 2\n",
    "rpred =[99]\n",
    "lpred =[99]"
   ]
  },
  {
   "cell_type": "code",
   "execution_count": 6,
   "id": "d44a6815",
   "metadata": {},
   "outputs": [
    {
     "ename": "ValueError",
     "evalue": "The truth value of an array with more than one element is ambiguous. Use a.any() or a.all()",
     "output_type": "error",
     "traceback": [
      "\u001b[0;31m---------------------------------------------------------------------------\u001b[0m",
      "\u001b[0;31mValueError\u001b[0m                                Traceback (most recent call last)",
      "\u001b[0;32m/var/folders/hw/l32rftx13wsgkl0jqqgnddx00000gn/T/ipykernel_85784/904361900.py\u001b[0m in \u001b[0;36m<module>\u001b[0;34m\u001b[0m\n\u001b[1;32m     24\u001b[0m         \u001b[0mr_eye\u001b[0m \u001b[0;34m=\u001b[0m \u001b[0mnp\u001b[0m\u001b[0;34m.\u001b[0m\u001b[0mexpand_dims\u001b[0m\u001b[0;34m(\u001b[0m\u001b[0mr_eye\u001b[0m\u001b[0;34m,\u001b[0m\u001b[0maxis\u001b[0m\u001b[0;34m=\u001b[0m\u001b[0;36m0\u001b[0m\u001b[0;34m)\u001b[0m\u001b[0;34m\u001b[0m\u001b[0;34m\u001b[0m\u001b[0m\n\u001b[1;32m     25\u001b[0m         \u001b[0mrpred\u001b[0m \u001b[0;34m=\u001b[0m \u001b[0;34m(\u001b[0m\u001b[0mmodel\u001b[0m\u001b[0;34m.\u001b[0m\u001b[0mpredict\u001b[0m\u001b[0;34m(\u001b[0m\u001b[0mr_eye\u001b[0m\u001b[0;34m)\u001b[0m \u001b[0;34m>\u001b[0m \u001b[0;36m0.5\u001b[0m\u001b[0;34m)\u001b[0m\u001b[0;34m.\u001b[0m\u001b[0mastype\u001b[0m\u001b[0;34m(\u001b[0m\u001b[0;34m\"int32\"\u001b[0m\u001b[0;34m)\u001b[0m\u001b[0;34m\u001b[0m\u001b[0;34m\u001b[0m\u001b[0m\n\u001b[0;32m---> 26\u001b[0;31m         \u001b[0;32mif\u001b[0m\u001b[0;34m(\u001b[0m\u001b[0mrpred\u001b[0m\u001b[0;34m[\u001b[0m\u001b[0;36m0\u001b[0m\u001b[0;34m]\u001b[0m\u001b[0;34m==\u001b[0m\u001b[0;36m1\u001b[0m\u001b[0;34m)\u001b[0m\u001b[0;34m:\u001b[0m\u001b[0;34m\u001b[0m\u001b[0;34m\u001b[0m\u001b[0m\n\u001b[0m\u001b[1;32m     27\u001b[0m             \u001b[0mlbl\u001b[0m\u001b[0;34m=\u001b[0m\u001b[0;34m'Open'\u001b[0m\u001b[0;34m\u001b[0m\u001b[0;34m\u001b[0m\u001b[0m\n\u001b[1;32m     28\u001b[0m         \u001b[0;32mif\u001b[0m\u001b[0;34m(\u001b[0m\u001b[0mrpred\u001b[0m\u001b[0;34m[\u001b[0m\u001b[0;36m0\u001b[0m\u001b[0;34m]\u001b[0m\u001b[0;34m==\u001b[0m\u001b[0;36m0\u001b[0m\u001b[0;34m)\u001b[0m\u001b[0;34m:\u001b[0m\u001b[0;34m\u001b[0m\u001b[0;34m\u001b[0m\u001b[0m\n",
      "\u001b[0;31mValueError\u001b[0m: The truth value of an array with more than one element is ambiguous. Use a.any() or a.all()"
     ]
    }
   ],
   "source": [
    "while True:\n",
    "    ret, frame = cap.read()\n",
    "    \n",
    "    height, width = frame.shape[:2]\n",
    "     \n",
    "    gray = cv.cvtColor(frame, cv.COLOR_BGR2GRAY)\n",
    "    \n",
    "    faces = face.detectMultiScale(gray,minNeighbors=5,scaleFactor=1.1,minSize=(25,25))\n",
    "    leye = l_e.detectMultiScale(gray)\n",
    "    reye = r_e.detectMultiScale(gray)\n",
    "    \n",
    "    cv.rectangle(frame, (0, height-50), (200,height), (0,0,0), thickness=cv.FILLED)\n",
    "    \n",
    "    for (x,y,w,h) in faces:\n",
    "        cv.rectangle(frame,(x,y), (x+w, y+h), (100,100,100), 1)\n",
    "    \n",
    "    # right eye\n",
    "    for (x,y,w,h) in reye:\n",
    "        r_eye=frame[y:y+h,x:x+w]\n",
    "        count=count+1\n",
    "        r_eye = cv.cvtColor(r_eye,cv.COLOR_BGR2GRAY)\n",
    "        r_eye = cv.resize(r_eye,(24,24))\n",
    "        r_eye= r_eye/255\n",
    "        r_eye=  r_eye.reshape(24,24,-1)\n",
    "        r_eye = np.expand_dims(r_eye,axis=0)\n",
    "        rpred = model.predict(r_eye)\n",
    "        if(rpred[0]==1):\n",
    "            lbl='Open' \n",
    "        if(rpred[0]==0):\n",
    "            lbl='Closed'\n",
    "        break\n",
    "        \n",
    "    # left eye\n",
    "    for (x,y,w,h) in leye:\n",
    "        l_eye = frame[y:y+h, x:x+w]\n",
    "        count = count + 1\n",
    "        l_eye = cv.cvtColor(l_eye, cv.COLOR_BGR2GRAY)\n",
    "        \n",
    "        l_eye = cv.resize(l_eye, (24, 24))\n",
    "        l_eye = l_eye/255\n",
    "        l_eye = l_eye.reshape(24, 24, -1)\n",
    "        l_eye = np.expand_dims(l_eye, axis=0)\n",
    "        lpred = model.predict(l_eye)\n",
    "        if(lpred[0]==1):\n",
    "            lbl = 'Open'\n",
    "        if(lpred[0]==0):\n",
    "            lbl = 'Closed'\n",
    "        break\n",
    "        \n",
    "        \n",
    "    if(rpred[0]==0 and lpred[0]==0):\n",
    "        score = score + 1\n",
    "        cv.putText(frame, \"Closed\", (10, height-20), font, 1, (255, 255, 255), 1, cv.LINE_AA)\n",
    "    #if(rpred[0]==1 or lpred[0]==0)\n",
    "    else:\n",
    "        score = score - 1\n",
    "        cv.putText(frame, \"Open\", (10, height-20), font, 1, (255, 255, 255), 1, cv.LINE_AA)\n",
    "        \n",
    "        \n",
    "    if(score < 0):\n",
    "        score = 0\n",
    "    cv.putText(frame, 'Score: ' +str(score), (100, height-20), font, 1, (255, 255, 255), 1, cv.LINE_AA)\n",
    "    if(score < 15):\n",
    "        #cv.imwrite(os.path.join(path, 'image.jpg'), frame)\n",
    "        try:\n",
    "            sound.play()\n",
    "        except:\n",
    "            pass\n",
    "        if(thicc < 16):\n",
    "            thicc = thicc + 2\n",
    "        else:\n",
    "            thicc = thicc - 2\n",
    "            if(thicc < 2):\n",
    "                thicc = 2\n",
    "        cv.rectangle(frame, (0,0), (width, height), (0, 0, 255), thicc)\n",
    "    cv.imshow('frame', frame)\n",
    "    \n",
    "    \n",
    "    if cv.waitKey(1) & 0xFF == ord('q'):\n",
    "        break\n",
    "cap.release()\n",
    "cv.destroyAllWindows()        "
   ]
  },
  {
   "cell_type": "code",
   "execution_count": null,
   "id": "21c87b81",
   "metadata": {},
   "outputs": [],
   "source": [
    "!pip uninstall pygame"
   ]
  },
  {
   "cell_type": "code",
   "execution_count": null,
   "id": "e251b5ab",
   "metadata": {},
   "outputs": [],
   "source": [
    "!pip uninstall keras"
   ]
  },
  {
   "cell_type": "markdown",
   "id": "5c87c7fd",
   "metadata": {},
   "source": [
    "Resources:\n",
    "* data-flair:[data-flair.training](https://data-flair.training/blogs/python-project-driver-drowsiness-detection-system/)"
   ]
  },
  {
   "cell_type": "code",
   "execution_count": null,
   "id": "a7ee60d7",
   "metadata": {},
   "outputs": [],
   "source": []
  }
 ],
 "metadata": {
  "kernelspec": {
   "display_name": "Python 3 (ipykernel)",
   "language": "python",
   "name": "python3"
  },
  "language_info": {
   "codemirror_mode": {
    "name": "ipython",
    "version": 3
   },
   "file_extension": ".py",
   "mimetype": "text/x-python",
   "name": "python",
   "nbconvert_exporter": "python",
   "pygments_lexer": "ipython3",
   "version": "3.8.8"
  }
 },
 "nbformat": 4,
 "nbformat_minor": 5
}
