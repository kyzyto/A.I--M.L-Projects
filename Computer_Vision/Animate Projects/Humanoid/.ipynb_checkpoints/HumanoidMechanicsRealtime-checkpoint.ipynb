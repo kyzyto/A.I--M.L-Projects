{
 "cells": [
  {
   "cell_type": "markdown",
   "id": "e77d5d04",
   "metadata": {},
   "source": [
    "# Humanoid Mechanics Realtime"
   ]
  },
  {
   "cell_type": "markdown",
   "id": "7b507f59",
   "metadata": {},
   "source": [
    "This was created in python **OpenCV**, it involved deep learning as it focuses on human pose estimation, where it is required to detect,track, and localize the major parts/joints of the body(abdomen,appendages,limbs & joint, head)"
   ]
  },
  {
   "cell_type": "code",
   "execution_count": 1,
   "id": "8a3d28b2",
   "metadata": {},
   "outputs": [],
   "source": [
    "import cv2\n",
    "import mediapipe as mp"
   ]
  },
  {
   "cell_type": "markdown",
   "id": "b7c72191",
   "metadata": {},
   "source": [
    "The ability to detect and track the position and orientation of a humanoid object is a daunting problem faced in Computer Visions. Generally keypoint locations are detected then used in describing the object.<br>\n",
    "\n",
    "In this project an attempt was made in realtime"
   ]
  },
  {
   "cell_type": "code",
   "execution_count": 2,
   "id": "803e2491",
   "metadata": {},
   "outputs": [],
   "source": [
    "cap = cv2.VideoCapture(0)\n",
    " \n",
    "mpPose = mp.solutions.pose\n",
    "pose = mpPose.Pose()\n",
    "mpDraw = mp.solutions.drawing_utils"
   ]
  },
  {
   "cell_type": "code",
   "execution_count": null,
   "id": "6e67fafc",
   "metadata": {},
   "outputs": [
    {
     "name": "stderr",
     "output_type": "stream",
     "text": [
      "INFO: Created TensorFlow Lite XNNPACK delegate for CPU.\n"
     ]
    }
   ],
   "source": [
    "while True:\n",
    "    success,img = cap.read()\n",
    "    if not success:\n",
    "        break\n",
    "    imgRGB = cv2.cvtColor(img,cv2.COLOR_BGR2RGB)\n",
    "    results = pose.process(imgRGB)\n",
    " \n",
    "    mpDraw.draw_landmarks(img,results.pose_landmarks,mpPose.POSE_CONNECTIONS)\n",
    " \n",
    "    cv2.imshow('Image',img)\n",
    "    if cv2.waitKey(1) & 0xff==ord('q'):\n",
    "        break"
   ]
  },
  {
   "cell_type": "markdown",
   "id": "df160fc0",
   "metadata": {},
   "source": [
    "References: \n",
    "* [itsourcecode.com](https://itsourcecode.com/free-projects/python-projects/human-pose-estimation-opencv-python-with-source-code/)"
   ]
  }
 ],
 "metadata": {
  "kernelspec": {
   "display_name": "Python 3 (ipykernel)",
   "language": "python",
   "name": "python3"
  },
  "language_info": {
   "codemirror_mode": {
    "name": "ipython",
    "version": 3
   },
   "file_extension": ".py",
   "mimetype": "text/x-python",
   "name": "python",
   "nbconvert_exporter": "python",
   "pygments_lexer": "ipython3",
   "version": "3.8.2"
  }
 },
 "nbformat": 4,
 "nbformat_minor": 5
}
