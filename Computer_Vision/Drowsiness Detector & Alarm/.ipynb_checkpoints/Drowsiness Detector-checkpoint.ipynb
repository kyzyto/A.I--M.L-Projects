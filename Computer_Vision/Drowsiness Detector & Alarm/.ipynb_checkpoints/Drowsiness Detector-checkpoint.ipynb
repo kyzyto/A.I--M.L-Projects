{
 "cells": [
  {
   "cell_type": "markdown",
   "id": "07db1513",
   "metadata": {},
   "source": [
    "# Drowiness Detection System"
   ]
  },
  {
   "cell_type": "code",
   "execution_count": null,
   "id": "a7abb195",
   "metadata": {},
   "outputs": [],
   "source": []
  },
  {
   "cell_type": "markdown",
   "id": "2dbbdee1",
   "metadata": {},
   "source": [
    "**Step 1** Take image as input from a camera<br>\n",
    "\n",
    "**Step 2** Detect the face in the image and create the Region Of Interest(ROI)<br>\n",
    "\n",
    "**Step 3** Detect the left and right in the ROI and feed it to the classifier<br>\n",
    "\n",
    "**Step 4** Classifier will categorize whether eyes are open or closed<br>\n",
    "\n",
    "**Step 5** Calculate score to check whether the person is drowsy<br>"
   ]
  },
  {
   "cell_type": "code",
   "execution_count": null,
   "id": "f8a33601",
   "metadata": {},
   "outputs": [],
   "source": []
  },
  {
   "cell_type": "code",
   "execution_count": null,
   "id": "39d07e7f",
   "metadata": {},
   "outputs": [],
   "source": []
  },
  {
   "cell_type": "code",
   "execution_count": null,
   "id": "42e7a681",
   "metadata": {},
   "outputs": [],
   "source": []
  },
  {
   "cell_type": "code",
   "execution_count": 1,
   "id": "a217abd6",
   "metadata": {},
   "outputs": [
    {
     "name": "stdout",
     "output_type": "stream",
     "text": [
      "Collecting keras\n",
      "  Using cached keras-2.7.0-py2.py3-none-any.whl (1.3 MB)\n",
      "Installing collected packages: keras\n",
      "Successfully installed keras-2.7.0\n"
     ]
    }
   ],
   "source": [
    "!pip install keras"
   ]
  },
  {
   "cell_type": "code",
   "execution_count": 3,
   "id": "8c2559aa",
   "metadata": {},
   "outputs": [
    {
     "name": "stdout",
     "output_type": "stream",
     "text": [
      "Collecting pygame\n",
      "  Downloading pygame-2.1.0-cp38-cp38-macosx_10_9_x86_64.whl (5.2 MB)\n",
      "\u001b[K     |████████████████████████████████| 5.2 MB 13.4 MB/s eta 0:00:01\n",
      "\u001b[?25hInstalling collected packages: pygame\n",
      "Successfully installed pygame-2.1.0\n"
     ]
    }
   ],
   "source": [
    "!pip install pygame"
   ]
  },
  {
   "cell_type": "code",
   "execution_count": 4,
   "id": "26690fbe",
   "metadata": {},
   "outputs": [
    {
     "name": "stdout",
     "output_type": "stream",
     "text": [
      "pygame 2.1.0 (SDL 2.0.16, Python 3.8.8)\n",
      "Hello from the pygame community. https://www.pygame.org/contribute.html\n"
     ]
    }
   ],
   "source": [
    "import cv2 as cv\n",
    "import os\n",
    "from keras.models import load_model\n",
    "from pygame import mixer\n",
    "import time"
   ]
  },
  {
   "cell_type": "code",
   "execution_count": 5,
   "id": "2be78683",
   "metadata": {},
   "outputs": [
    {
     "ename": "FileNotFoundError",
     "evalue": "No file 'alarm.wav' found in working directory '/Users/adunifekizitookoye/Desktop/personal_projects(Python)'.",
     "output_type": "error",
     "traceback": [
      "\u001b[0;31m---------------------------------------------------------------------------\u001b[0m",
      "\u001b[0;31mFileNotFoundError\u001b[0m                         Traceback (most recent call last)",
      "\u001b[0;32m/var/folders/hw/l32rftx13wsgkl0jqqgnddx00000gn/T/ipykernel_82568/3690975038.py\u001b[0m in \u001b[0;36m<module>\u001b[0;34m\u001b[0m\n\u001b[1;32m      1\u001b[0m \u001b[0mmixer\u001b[0m\u001b[0;34m.\u001b[0m\u001b[0minit\u001b[0m\u001b[0;34m(\u001b[0m\u001b[0;34m)\u001b[0m\u001b[0;34m\u001b[0m\u001b[0;34m\u001b[0m\u001b[0m\n\u001b[0;32m----> 2\u001b[0;31m \u001b[0msound\u001b[0m \u001b[0;34m=\u001b[0m \u001b[0mmixer\u001b[0m\u001b[0;34m.\u001b[0m\u001b[0mSound\u001b[0m\u001b[0;34m(\u001b[0m\u001b[0;34m'alarm.wav'\u001b[0m\u001b[0;34m)\u001b[0m\u001b[0;34m\u001b[0m\u001b[0;34m\u001b[0m\u001b[0m\n\u001b[0m",
      "\u001b[0;31mFileNotFoundError\u001b[0m: No file 'alarm.wav' found in working directory '/Users/adunifekizitookoye/Desktop/personal_projects(Python)'."
     ]
    }
   ],
   "source": [
    "mixer.init()\n",
    "sound = mixer.Sound('alarm.wav')"
   ]
  },
  {
   "cell_type": "code",
   "execution_count": null,
   "id": "ffd6d7ad",
   "metadata": {},
   "outputs": [],
   "source": [
    "face = cv.CascadeClassifier('/Users/adunifekizitookoye/opt/anaconda3/lib/python3.8/site-packages/cv2/data/haarcascade_frontalface_alt.xml')\n",
    "left_eye = cv.CascadeClassifier('/Users/adunifekizitookoye/opt/anaconda3/lib/python3.8/site-packages/cv2/data/haarcascade_lefteye_2splits.xml')\n",
    "right_eye = cv.CascadeCassifier('/Users/adunifekizitookoye/opt/anaconda3/lib/python3.8/site-packages/cv2/data/haarcascade_righteye_2splits.xml') "
   ]
  },
  {
   "cell_type": "code",
   "execution_count": null,
   "id": "38f0aaf7",
   "metadata": {},
   "outputs": [],
   "source": [
    "lbl = ['Close', 'Open']"
   ]
  },
  {
   "cell_type": "code",
   "execution_count": null,
   "id": "742620ca",
   "metadata": {},
   "outputs": [],
   "source": [
    "model = load.model('models/cnncat2.h5')"
   ]
  },
  {
   "cell_type": "code",
   "execution_count": null,
   "id": "d44a6815",
   "metadata": {},
   "outputs": [],
   "source": []
  },
  {
   "cell_type": "code",
   "execution_count": null,
   "id": "2dc828a5",
   "metadata": {},
   "outputs": [],
   "source": []
  },
  {
   "cell_type": "code",
   "execution_count": null,
   "id": "21c87b81",
   "metadata": {},
   "outputs": [],
   "source": [
    "!pip uninstall pygame"
   ]
  },
  {
   "cell_type": "code",
   "execution_count": null,
   "id": "e251b5ab",
   "metadata": {},
   "outputs": [],
   "source": [
    "!pip uninstall keras"
   ]
  },
  {
   "cell_type": "markdown",
   "id": "5c87c7fd",
   "metadata": {},
   "source": [
    "Resources:\n",
    "* data-flair:[data-flair.training](https://data-flair.training/blogs/python-project-driver-drowsiness-detection-system/)"
   ]
  },
  {
   "cell_type": "code",
   "execution_count": null,
   "id": "a7ee60d7",
   "metadata": {},
   "outputs": [],
   "source": []
  }
 ],
 "metadata": {
  "kernelspec": {
   "display_name": "Python 3 (ipykernel)",
   "language": "python",
   "name": "python3"
  },
  "language_info": {
   "codemirror_mode": {
    "name": "ipython",
    "version": 3
   },
   "file_extension": ".py",
   "mimetype": "text/x-python",
   "name": "python",
   "nbconvert_exporter": "python",
   "pygments_lexer": "ipython3",
   "version": "3.8.8"
  }
 },
 "nbformat": 4,
 "nbformat_minor": 5
}
