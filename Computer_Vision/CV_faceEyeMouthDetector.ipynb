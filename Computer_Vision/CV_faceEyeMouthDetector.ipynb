{
 "cells": [
  {
   "cell_type": "code",
   "execution_count": 1,
   "id": "b70ff4d0",
   "metadata": {},
   "outputs": [],
   "source": [
    "import cv2"
   ]
  },
  {
   "cell_type": "code",
   "execution_count": 2,
   "id": "8e3e9cad",
   "metadata": {},
   "outputs": [],
   "source": [
    "cascPath = '/Users/adunifekizitookoye/opt/anaconda3/lib/python3.8/site-packages/cv2/data/haarcascade_frontalface_default.xml'\n",
    "eyePath = '/Users/adunifekizitookoye/opt/anaconda3/lib/python3.8/site-packages/cv2/data/haarcascade_eye.xml'\n",
    "smilePath = '/Users/adunifekizitookoye/opt/anaconda3/lib/python3.8/site-packages/cv2/data/haarcascade_smile.xml'"
   ]
  },
  {
   "cell_type": "code",
   "execution_count": 3,
   "id": "a2648a7d",
   "metadata": {},
   "outputs": [],
   "source": [
    "faceCascade = cv2.CascadeClassifier(cascPath)\n",
    "eyeCascade = cv2.CascadeClassifier(eyePath)\n",
    "smileCascade = cv2.CascadeClassifier(smilePath)"
   ]
  },
  {
   "cell_type": "code",
   "execution_count": 4,
   "id": "2b88be66",
   "metadata": {},
   "outputs": [],
   "source": [
    "cv2.namedWindow(\"Face, Eyes, & Mouth locator\")\n",
    "font_1 = cv2.FONT_HERSHEY_SIMPLEX\n",
    "font_2 = cv2.FONT_HERSHEY_PLAIN\n",
    "video_capture = cv2.VideoCapture(0)"
   ]
  },
  {
   "cell_type": "code",
   "execution_count": 5,
   "id": "c2dade0a",
   "metadata": {},
   "outputs": [],
   "source": [
    "while True:\n",
    "    # Capture frame-by-frame\n",
    "    ret, frame = video_capture.read()\n",
    "    gray = cv2.cvtColor(frame, cv2.COLOR_BGR2GRAY)\n",
    "\n",
    "    \n",
    "    #Detect the face    \n",
    "    faces = faceCascade.detectMultiScale(gray,\n",
    "                                         scaleFactor=1.1,\n",
    "                                         minNeighbors=5,\n",
    "                                         minSize=(200, 200),\n",
    "                                         flags=cv2.CASCADE_SCALE_IMAGE)\n",
    "    # Draw a rectangle around the faces\n",
    "    for (x, y, w, h) in faces:\n",
    "        cv2.rectangle(frame, (x, y), (x+w, y+h), (255, 0, 0), 3)\n",
    "        roi_gray = gray[y:y+h, x:x+w]\n",
    "        roi_color = frame[y:y+h, x:x+w]\n",
    "        cv2.putText(frame,'Face',(x, y), font_1, 2,(0, 255, 0),5)\n",
    "        \n",
    "        #Detect the eyes\n",
    "        eyes = eyeCascade.detectMultiScale(roi_gray)\n",
    "        #Draw a red rectangle around the eyes\n",
    "        for (ex,ey,ew,eh) in eyes:\n",
    "            cv2.rectangle(roi_color,(ex,ey),(ex+ew,ey+eh),(0,0,225),2) #color of box BGR\n",
    "            cv2.putText(frame,'Eye',(x + ex,y + ey), font_2, 1, (255, 0, 0), 1) #color of text\n",
    "\n",
    "\n",
    "            \n",
    "        #Detect the mouth/smile            \n",
    "        smile = smileCascade.detectMultiScale(roi_gray,\n",
    "                                              scaleFactor= 1.16,\n",
    "                                              minNeighbors=35,\n",
    "                                              minSize=(25, 25),\n",
    "                                              flags=cv2.CASCADE_SCALE_IMAGE)\n",
    "        # Draw a rectangle around the mouth\n",
    "        for (sx, sy, sw, sh) in smile:\n",
    "            cv2.rectangle(roi_color, (sh, sy), (sx+sw, sy+sh), (0, 255, 0), 2) #color of box BGR\n",
    "            cv2.putText(frame,'Mouth',(x + sx,y + sy), font_2, 1, (0, 0, 255), 1) #color of text\n",
    "\n",
    "        \n",
    "\n",
    "\n",
    "    cv2.putText(frame,'Number of Faces : ' + str(len(faces)),(40, 40), font_1, 1,(255,0,0),2)      \n",
    "    # Display the resulting frame\n",
    "    cv2.imshow('Face, Eyes, & Mouth locator', frame)\n",
    "\n",
    "    if cv2.waitKey(1) & 0xFF == ord('q'):\n",
    "        break"
   ]
  },
  {
   "cell_type": "code",
   "execution_count": 6,
   "id": "5d2fb9e4",
   "metadata": {},
   "outputs": [],
   "source": [
    "# When everything is done, release the capture\n",
    "video_capture.release()\n",
    "cv2.destroyAllWindows()"
   ]
  }
 ],
 "metadata": {
  "kernelspec": {
   "display_name": "Python 3 (ipykernel)",
   "language": "python",
   "name": "python3"
  },
  "language_info": {
   "codemirror_mode": {
    "name": "ipython",
    "version": 3
   },
   "file_extension": ".py",
   "mimetype": "text/x-python",
   "name": "python",
   "nbconvert_exporter": "python",
   "pygments_lexer": "ipython3",
   "version": "3.8.8"
  }
 },
 "nbformat": 4,
 "nbformat_minor": 5
}
