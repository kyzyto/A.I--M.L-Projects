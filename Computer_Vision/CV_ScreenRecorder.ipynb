{
 "cells": [
  {
   "cell_type": "code",
   "execution_count": null,
   "id": "35874745",
   "metadata": {},
   "outputs": [],
   "source": []
  },
  {
   "cell_type": "code",
   "execution_count": null,
   "id": "53660436",
   "metadata": {},
   "outputs": [],
   "source": []
  },
  {
   "cell_type": "code",
   "execution_count": 1,
   "id": "512fe28c",
   "metadata": {},
   "outputs": [],
   "source": [
    "import cv2\n",
    "import tkinter as tk\n",
    "import numpy as np\n",
    "import pyautogui\n",
    "from tkinter.filedialog import asksaveasfilename\n",
    "import time\n",
    "import sys"
   ]
  },
  {
   "cell_type": "code",
   "execution_count": null,
   "id": "5d778ed9",
   "metadata": {},
   "outputs": [],
   "source": [
    "def run():\n",
    "    # display screen resolution, get it from your OS settings\n",
    "    SCREEN_SIZE = pyautogui.size()\n",
    "    # define the codec\n",
    "    fourcc = cv2.VideoWriter_fourcc(*\"XVID\")\n",
    "    # create the video write object\n",
    "    file_name = asksaveasfilename(confirmoverwrite=False,defaultextension='.avi')\n",
    "    out = cv2.VideoWriter(file_name, fourcc, 20.0, (SCREEN_SIZE))\n",
    "    print(\"Recording Started...\\n\")\n",
    "    odd=1\n",
    "    while True:\n",
    "        odd+=1\n",
    "        # make a screenshot\n",
    "        img = pyautogui.screenshot()\n",
    "        # convert these pixels to a proper numpy array to work with OpenCV\n",
    "        frame = np.array(img)\n",
    "        # convert colors from BGR to RGB\n",
    "        frame = cv2.cvtColor(frame, cv2.COLOR_BGR2RGB)\n",
    "        if(odd==10):\n",
    "            cv2.imshow(\"Recording...\", frame)\n",
    "            odd=1\n",
    "        # if the user clicks q, it exits\n",
    "        if cv2.waitKey(1) == ord(\"q\"):\n",
    "            cv2.destroyAllWindows()\n",
    "            break\n",
    "        # write the frame\n",
    "        out.write(frame)\n",
    "    out.release()\n",
    "    root.destroy()\n",
    "    sys.exit(0)\n",
    "\n",
    "def screenshot():\n",
    "    root.destroy()\n",
    "    print(\"Screen Shot...\\n\")\n",
    "    time.sleep(1)\n",
    "    myScreenshot = pyautogui.screenshot()\n",
    "    file_name = asksaveasfilename(confirmoverwrite=False,defaultextension='.png')\n",
    "    myScreenshot.save(file_name)\n",
    "    sys.exit(0)\n",
    "    \n",
    "root = tk.Tk()\n",
    "root.title(\"Screen Recorder\")\n",
    "root.geometry(\"600x220\")\n",
    "\n",
    "root.configure(background = '#e6e5e5')\n",
    "frame = tk.Frame(root,bg = '#e6e5e5',pady = 1, width =550, height = 50)\n",
    "frame.grid(row=0,column=0)\n",
    "frame.pack()  \n",
    "label0 = tk.Label(frame,font=('Comic Sans MS',26,'bold'),text = \"          Screen Recorder          \",bg= '#663300',fg='white',justify =\"center\")\n",
    "label0.pack(side=tk.TOP)\n",
    "button =tk.Button(frame, font=('arial', 20,'bold'), text=\"Start Recording\",padx=2,pady=2, bg=\"green\",fg = \"white\",command=run)\n",
    "button.pack(side=tk.TOP)\n",
    "button1 =tk.Button(frame, font=('arial', 20,'bold'), text=\"Take Screenshot\",padx=2,pady=2, bg=\"orange\",fg = \"white\",command=screenshot)\n",
    "button1.pack()\n",
    "root.mainloop()"
   ]
  },
  {
   "cell_type": "markdown",
   "id": "99d8d474",
   "metadata": {},
   "source": [
    "Reference:\n",
    "* [itsourcecode.com](https://itsourcecode.com/free-projects/python-projects/screen-recorder-opencv-python-with-source-code/)"
   ]
  },
  {
   "cell_type": "code",
   "execution_count": null,
   "id": "405f7a62",
   "metadata": {},
   "outputs": [],
   "source": []
  }
 ],
 "metadata": {
  "kernelspec": {
   "display_name": "Python 3 (ipykernel)",
   "language": "python",
   "name": "python3"
  },
  "language_info": {
   "codemirror_mode": {
    "name": "ipython",
    "version": 3
   },
   "file_extension": ".py",
   "mimetype": "text/x-python",
   "name": "python",
   "nbconvert_exporter": "python",
   "pygments_lexer": "ipython3",
   "version": "3.8.8"
  }
 },
 "nbformat": 4,
 "nbformat_minor": 5
}
