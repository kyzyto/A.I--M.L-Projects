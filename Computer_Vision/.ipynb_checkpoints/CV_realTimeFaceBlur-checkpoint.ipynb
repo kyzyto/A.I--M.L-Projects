{
 "cells": [
  {
   "cell_type": "markdown",
   "id": "675a408f",
   "metadata": {},
   "source": [
    "# Real Time Face Blur OpenCV"
   ]
  },
  {
   "cell_type": "markdown",
   "id": "2475fc3b",
   "metadata": {},
   "source": [
    "This project was geared towards using **OpenCV** to develop a software that blur and anonymize faces"
   ]
  },
  {
   "cell_type": "markdown",
   "id": "247c712f",
   "metadata": {},
   "source": [
    " "
   ]
  },
  {
   "cell_type": "code",
   "execution_count": null,
   "id": "225052fd",
   "metadata": {},
   "outputs": [],
   "source": [
    "import cv2"
   ]
  },
  {
   "cell_type": "markdown",
   "id": "bdb7b867",
   "metadata": {},
   "source": [
    "A OpenCV Python Face Blur we are going to learn to Realtime videos using OpenCV and try to learn with existing tools like haarcascades and build Realtime Face Detection and Face blur."
   ]
  },
  {
   "cell_type": "code",
   "execution_count": null,
   "id": "ed5aa809",
   "metadata": {},
   "outputs": [],
   "source": [
    "cv2.namedWindow(\"Face Blur Window\")\n",
    "cap = cv2.VideoCapture(0)\n",
    "pathf = 'cascade/haarcascade_frontalface_default.xml'\n",
    "faceCascade = cv2.CascadeClassifier('pathf')"
   ]
  },
  {
   "cell_type": "code",
   "execution_count": null,
   "id": "d17d8a35",
   "metadata": {},
   "outputs": [],
   "source": [
    "# Test if the cv faceCascade was installed properly.\n",
    "test= faceCascade.load('cascade/haarcascade_frontalface_default.xml')\n",
    "print(test)"
   ]
  },
  {
   "cell_type": "code",
   "execution_count": null,
   "id": "4c9d47d8",
   "metadata": {},
   "outputs": [],
   "source": [
    "while True:\n",
    "    success,img = cap.read()\n",
    "    faces = faceCascade.detectMultiScale(img,1.2,4)\n",
    "    for (x, y, w, h) in faces:\n",
    "        # To make a face or faces blurred\n",
    "        ROI = img[y:y+h, x:x+w]\n",
    "        blur = cv2.GaussianBlur(ROI, (91,91),0)\n",
    "        # Insert ROI back into image\n",
    "        img[y:y+h, x:x+w] = blur\n",
    " \n",
    "        # To make a bounding box #*(Not Necessary)\n",
    "        # cv2.rectangle(img,(x,y),(x+w,y+h),(0,255,0),4)\n",
    "    if faces==():\n",
    "        cv2.putText(img,'No Face Found!',(20,50),cv2.FONT_HERSHEY_COMPLEX,1,(0,0,255))\n",
    "    cv2.imshow('Face Blur Window',img)\n",
    "    if cv2.waitKey(1) & 0xff==ord('q'):\n",
    "        break"
   ]
  },
  {
   "cell_type": "code",
   "execution_count": null,
   "id": "b55b2acc",
   "metadata": {},
   "outputs": [],
   "source": [
    "# Turn camera off        \n",
    "cap.release()\n",
    "# Close camera window\n",
    "cv2.destroyAllWindows()"
   ]
  },
  {
   "cell_type": "markdown",
   "id": "7835b0ca",
   "metadata": {},
   "source": [
    " "
   ]
  },
  {
   "cell_type": "markdown",
   "id": "ccbc8744",
   "metadata": {},
   "source": [
    "**Summary** <br>\n",
    "In this Python OpenCV Project With Source Code, how to blur and anonymize faces in both images and real-time video streams using OpenCV and Python"
   ]
  },
  {
   "cell_type": "markdown",
   "id": "1c6cafb8",
   "metadata": {},
   "source": [
    " "
   ]
  },
  {
   "cell_type": "markdown",
   "id": "f269bd91",
   "metadata": {},
   "source": [
    "Reference:\n",
    "* Open source code: [https://itsourcecode.com](https://itsourcecode.com/free-projects/python-projects/holistic-detection-opencv-python-with-source-code/)<br>\n",
    "* Fixes: [fatalerrors](https://www.fatalerrors.org/a/215-assertion-failed-empty-in-function-cv-cascadeclassifier-detect.html)"
   ]
  }
 ],
 "metadata": {
  "kernelspec": {
   "display_name": "Python 3",
   "language": "python",
   "name": "python3"
  },
  "language_info": {
   "codemirror_mode": {
    "name": "ipython",
    "version": 3
   },
   "file_extension": ".py",
   "mimetype": "text/x-python",
   "name": "python",
   "nbconvert_exporter": "python",
   "pygments_lexer": "ipython3",
   "version": "3.8.2"
  }
 },
 "nbformat": 4,
 "nbformat_minor": 5
}
