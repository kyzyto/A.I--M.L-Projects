{
 "cells": [
  {
   "cell_type": "markdown",
   "id": "7c5f8cfe",
   "metadata": {},
   "source": [
    "# Holistic Detection OpenCV"
   ]
  },
  {
   "cell_type": "markdown",
   "id": "a6cd80c7",
   "metadata": {},
   "source": [
    "This project shows **Holistic Detection OpenCV Python** and was developed using Python OpenCV"
   ]
  },
  {
   "cell_type": "markdown",
   "id": "98289f96",
   "metadata": {},
   "source": [
    " "
   ]
  },
  {
   "cell_type": "code",
   "execution_count": null,
   "id": "aeeaf04a",
   "metadata": {},
   "outputs": [],
   "source": [
    "import cv2\n",
    "import mediapipe as mp"
   ]
  },
  {
   "cell_type": "markdown",
   "id": "b992b4ab",
   "metadata": {},
   "source": [
    "A **OpenCV Python Holistic Detection** is going to detect left and right hand, face mesh, and pose detection.<br>\n",
    "\n",
    "The Python ***MediaPipe** library* has a lot of built-in customizable Machine Learning Solutions. **MediaPipe** is the newest and fastest within machine learning solutions and can be run on common hardware."
   ]
  },
  {
   "cell_type": "markdown",
   "id": "c82a1eef",
   "metadata": {},
   "source": [
    " "
   ]
  },
  {
   "cell_type": "code",
   "execution_count": null,
   "id": "20acd95c",
   "metadata": {},
   "outputs": [],
   "source": [
    "cv2.namedWindow(\"Holistic\")\n",
    "cap = cv2.VideoCapture(0)"
   ]
  },
  {
   "cell_type": "code",
   "execution_count": null,
   "id": "009f0672",
   "metadata": {},
   "outputs": [],
   "source": [
    "mpHolistic = mp.solutions.holistic\n",
    "holistic = mpHolistic.Holistic()\n",
    "mpDraw = mp.solutions.drawing_utils\n",
    "drawing_specs = mpDraw.DrawingSpec(thickness=1,circle_radius=1)"
   ]
  },
  {
   "cell_type": "code",
   "execution_count": null,
   "id": "ced95d15",
   "metadata": {},
   "outputs": [],
   "source": [
    "while True:\n",
    "    success,img = cap.read()\n",
    "    \n",
    "    if not success:\n",
    "        break\n",
    "    imgRGB = cv2.cvtColor(img,cv2.COLOR_BGR2RGB)\n",
    "    results = holistic.process(imgRGB)\n",
    "    \n",
    " # FACE_CONNECTIONS was to be renamed/replaced by FACEMESH_TESSELATION\n",
    "\n",
    "    mpDraw.draw_landmarks(img,results.face_landmarks,mpHolistic.FACEMESH_TESSELATION,drawing_specs,drawing_specs)\n",
    "    mpDraw.draw_landmarks(img,results.left_hand_landmarks,mpHolistic.HAND_CONNECTIONS,drawing_specs,drawing_specs)\n",
    "    mpDraw.draw_landmarks(img,results.right_hand_landmarks,mpHolistic.HAND_CONNECTIONS,drawing_specs,drawing_specs)\n",
    "    mpDraw.draw_landmarks(img,results.pose_landmarks,mpHolistic.POSE_CONNECTIONS,drawing_specs,drawing_specs)\n",
    "    cv2.imshow('Hollistic',img)\n",
    "    \n",
    "    \n",
    "    if cv2.waitKey(1) & 0xff==ord('q'):\n",
    "        break"
   ]
  },
  {
   "cell_type": "markdown",
   "id": "7309d7da",
   "metadata": {},
   "source": [
    " "
   ]
  },
  {
   "cell_type": "markdown",
   "id": "fed0f14e",
   "metadata": {},
   "source": [
    "**Summary** <br>\n",
    "In this Project Holistic Detection, Live perception of simultaneous human pose, face landmarks, and hand tracking in real-time can enable various modern life applications: fitness and sport analysis, gesture control and sign language recognition, augmented reality try-on and effects. It generate a total of 543 landmarks (33 pose landmarks, 468 face landmarks, and 21 hand landmarks per hand). Intend on using it to tracking scores in basketball"
   ]
  },
  {
   "cell_type": "markdown",
   "id": "7d53f225",
   "metadata": {},
   "source": [
    " "
   ]
  },
  {
   "cell_type": "markdown",
   "id": "11c1d3b3",
   "metadata": {},
   "source": [
    "Reference:[https://itsourcecode.com](https://itsourcecode.com/free-projects/python-projects/holistic-detection-opencv-python-with-source-code/)"
   ]
  }
 ],
 "metadata": {
  "kernelspec": {
   "display_name": "Python 3 (ipykernel)",
   "language": "python",
   "name": "python3"
  },
  "language_info": {
   "codemirror_mode": {
    "name": "ipython",
    "version": 3
   },
   "file_extension": ".py",
   "mimetype": "text/x-python",
   "name": "python",
   "nbconvert_exporter": "python",
   "pygments_lexer": "ipython3",
   "version": "3.8.8"
  }
 },
 "nbformat": 4,
 "nbformat_minor": 5
}
