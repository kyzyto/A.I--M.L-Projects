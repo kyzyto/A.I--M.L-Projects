{
 "cells": [
  {
   "cell_type": "markdown",
   "id": "9c56eae3",
   "metadata": {},
   "source": [
    "# Real Time Motion Detector"
   ]
  },
  {
   "cell_type": "markdown",
   "id": "b33cebc7",
   "metadata": {},
   "source": [
    "This project was created using **OpenCV** to develop a Real Time Motion Detector. It could be utilized in on Front Camera Computers and altered into being used for CCTV Cameras to detect any kind of motion."
   ]
  },
  {
   "cell_type": "markdown",
   "id": "d70f10c2",
   "metadata": {},
   "source": [
    "#### import the *cv2* library for *OpenCV* operations"
   ]
  },
  {
   "cell_type": "code",
   "execution_count": 1,
   "id": "ef656aa8",
   "metadata": {},
   "outputs": [],
   "source": [
    "import cv2 as cv"
   ]
  },
  {
   "cell_type": "markdown",
   "id": "e9689a62",
   "metadata": {},
   "source": [
    "This implements a model Real Time Motion detetion that could be used in applications for machine vision and when further altered, it could count the number of motion(i.e moving objects) in frame. "
   ]
  },
  {
   "cell_type": "code",
   "execution_count": null,
   "id": "92fa7e37",
   "metadata": {},
   "outputs": [],
   "source": [
    "cap = cv.VideoCapture(0)\n",
    "ret, frame1 = cap.read()\n",
    "ret, frame2 = cap.read()\n",
    "\n",
    "while cap.isOpened():\n",
    "    diff = cv.absdiff(frame1, frame2)\n",
    "    diff_gray = cv.cvtColor(diff, cv.COLOR_BGR2GRAY)\n",
    "    blur = cv.GaussianBlur(diff_gray, (5, 5), 0)\n",
    "    _, thresh = cv.threshold(blur, 20, 255, cv.THRESH_BINARY)\n",
    "    dilated = cv.dilate(thresh, None, iterations=3)\n",
    "    contours, _ = cv.findContours(\n",
    "        dilated, cv.RETR_TREE, cv.CHAIN_APPROX_SIMPLE)\n",
    "\n",
    "    for contour in contours:\n",
    "        (x, y, w, h) = cv.boundingRect(contour)\n",
    "        if cv.contourArea(contour) < 900:\n",
    "            continue\n",
    "        #cv.rectangle(frame1, (x, y), (x+w, y+h), (0, 255, 0), 2) #Puts a green box on movement\n",
    "        cv.putText(frame1, \"Status: {}\".format('Motion'), (10, 20), cv.FONT_HERSHEY_SIMPLEX,\n",
    "                   1, (0, 0, 0), 3)\n",
    "\n",
    "    # cv.drawContours(frame1, contours, -1, (0, 255, 0), 2)\n",
    "\n",
    "    cv.imshow(\"Motion Detector\", frame1)\n",
    "    frame1 = frame2\n",
    "    ret, frame2 = cap.read()\n",
    "\n",
    "    if cv.waitKey(50) == 27:\n",
    "        break\n",
    "\n",
    "cap.release()\n",
    "cv.destroyAllWindows()"
   ]
  },
  {
   "cell_type": "markdown",
   "id": "33cb7691",
   "metadata": {},
   "source": [
    " "
   ]
  },
  {
   "cell_type": "markdown",
   "id": "23192439",
   "metadata": {},
   "source": [
    "**Summary**<br>\n",
    "In the python OpenCV Project, how to detect motion, identify what is in motion and count number objects are in motion."
   ]
  },
  {
   "cell_type": "markdown",
   "id": "49ec47c9",
   "metadata": {},
   "source": [
    "Reference:\n",
    "* Open source code: [https://itsourcecode.com](https://itsourcecode.com/free-projects/python-projects/holistic-detection-opencv-python-with-source-code/)<br>"
   ]
  }
 ],
 "metadata": {
  "kernelspec": {
   "display_name": "Python 3 (ipykernel)",
   "language": "python",
   "name": "python3"
  },
  "language_info": {
   "codemirror_mode": {
    "name": "ipython",
    "version": 3
   },
   "file_extension": ".py",
   "mimetype": "text/x-python",
   "name": "python",
   "nbconvert_exporter": "python",
   "pygments_lexer": "ipython3",
   "version": "3.8.8"
  }
 },
 "nbformat": 4,
 "nbformat_minor": 5
}
